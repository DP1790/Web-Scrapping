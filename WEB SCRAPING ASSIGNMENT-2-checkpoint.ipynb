{
 "cells": [
  {
   "cell_type": "markdown",
   "id": "1f19e638",
   "metadata": {},
   "source": [
    "## WEB SCRAPING ASSIGNMENT-2\n"
   ]
  },
  {
   "cell_type": "code",
   "execution_count": 1,
   "id": "507f6b76",
   "metadata": {},
   "outputs": [
    {
     "name": "stdout",
     "output_type": "stream",
     "text": [
      "Collecting selenium\n",
      "  Downloading selenium-3.141.0-py2.py3-none-any.whl (904 kB)\n",
      "Requirement already satisfied: urllib3 in c:\\users\\aloks\\anaconda3\\lib\\site-packages (from selenium) (1.26.4)\n",
      "Installing collected packages: selenium\n",
      "Successfully installed selenium-3.141.0\n"
     ]
    }
   ],
   "source": [
    "!pip install selenium"
   ]
  },
  {
   "cell_type": "code",
   "execution_count": 1,
   "id": "8b30936c",
   "metadata": {},
   "outputs": [],
   "source": [
    "import selenium\n",
    "import pandas as pd\n",
    "from selenium import webdriver\n",
    "from selenium.common.exceptions import StaleElementReferenceException\n",
    "from selenium.common.exceptions import NoSuchElementException\n",
    "from selenium.common.exceptions import ElementClickInterceptedException\n",
    "import time"
   ]
  },
  {
   "cell_type": "code",
   "execution_count": 6,
   "id": "0736d858",
   "metadata": {},
   "outputs": [],
   "source": [
    "driver = webdriver.Chrome(r\"C:\\Users\\Aloks\\Downloads\\Compressed\\chromedriver_win32\\chromedriver.exe\")"
   ]
  },
  {
   "cell_type": "code",
   "execution_count": 2,
   "id": "a2587271",
   "metadata": {},
   "outputs": [],
   "source": [
    "driver = webdriver.Chrome('chromedriver.exe')"
   ]
  },
  {
   "cell_type": "raw",
   "id": "55ae6523",
   "metadata": {},
   "source": [
    "Q1: Write a python program to scrape data for “Data Analyst” Job position in \n",
    "“Bangalore” location. You have to scrape the job-title, job-location, company_name,\n",
    "experience_required. You have to scrape first 10 jobs data"
   ]
  },
  {
   "cell_type": "code",
   "execution_count": 35,
   "id": "a3091751",
   "metadata": {},
   "outputs": [],
   "source": [
    "url = 'https://www.naukri.com/'\n",
    "driver.get(url)"
   ]
  },
  {
   "cell_type": "code",
   "execution_count": 36,
   "id": "0c301d08",
   "metadata": {},
   "outputs": [
    {
     "data": {
      "text/plain": [
       "<selenium.webdriver.remote.webelement.WebElement (session=\"2adf06c214b2e6b2012718e8fdbb9694\", element=\"53c3415a-e87d-49f8-a6cb-0ab93dbb468b\")>"
      ]
     },
     "execution_count": 36,
     "metadata": {},
     "output_type": "execute_result"
    }
   ],
   "source": [
    "search_job = driver.find_element_by_id('qsb-keyword-sugg')\n",
    "search_job"
   ]
  },
  {
   "cell_type": "code",
   "execution_count": 37,
   "id": "1a48d981",
   "metadata": {},
   "outputs": [],
   "source": [
    "## write on search bar\n",
    "search_job.send_keys('Data Analyst')"
   ]
  },
  {
   "cell_type": "code",
   "execution_count": 38,
   "id": "6d747d08",
   "metadata": {},
   "outputs": [],
   "source": [
    "## finding job location\n",
    "search_loc = driver.find_element_by_id('qsb-location-sugg')\n",
    "search_loc.send_keys('Bangalore')"
   ]
  },
  {
   "cell_type": "code",
   "execution_count": 40,
   "id": "5f463213",
   "metadata": {},
   "outputs": [],
   "source": [
    "## do click using xpath function\n",
    "search_btn = driver.find_element_by_xpath(\"//button[@class='btn']\")\n",
    "search_btn.click()"
   ]
  },
  {
   "cell_type": "code",
   "execution_count": 41,
   "id": "1de06762",
   "metadata": {
    "scrolled": true
   },
   "outputs": [
    {
     "data": {
      "text/plain": [
       "[<selenium.webdriver.remote.webelement.WebElement (session=\"2adf06c214b2e6b2012718e8fdbb9694\", element=\"c8f4ab78-cef7-4982-a5de-eafa3f5d5858\")>,\n",
       " <selenium.webdriver.remote.webelement.WebElement (session=\"2adf06c214b2e6b2012718e8fdbb9694\", element=\"1da9a59b-2f6e-47ac-8f67-3aa227f4a190\")>,\n",
       " <selenium.webdriver.remote.webelement.WebElement (session=\"2adf06c214b2e6b2012718e8fdbb9694\", element=\"8fef9787-6a61-4c3b-9418-7a5c9ded3822\")>,\n",
       " <selenium.webdriver.remote.webelement.WebElement (session=\"2adf06c214b2e6b2012718e8fdbb9694\", element=\"1babf465-9c02-4c61-9e73-de16c7f537ec\")>,\n",
       " <selenium.webdriver.remote.webelement.WebElement (session=\"2adf06c214b2e6b2012718e8fdbb9694\", element=\"54ed975e-6948-4b26-8c41-ab1a58bf17e8\")>,\n",
       " <selenium.webdriver.remote.webelement.WebElement (session=\"2adf06c214b2e6b2012718e8fdbb9694\", element=\"6faaf2c8-229e-4afa-96d8-1dce2f82bfeb\")>,\n",
       " <selenium.webdriver.remote.webelement.WebElement (session=\"2adf06c214b2e6b2012718e8fdbb9694\", element=\"0dfdd369-242e-4302-b478-77af1f21d3a1\")>,\n",
       " <selenium.webdriver.remote.webelement.WebElement (session=\"2adf06c214b2e6b2012718e8fdbb9694\", element=\"36d3e6ae-ed5b-4ced-b254-d42930a2ba58\")>,\n",
       " <selenium.webdriver.remote.webelement.WebElement (session=\"2adf06c214b2e6b2012718e8fdbb9694\", element=\"adb41077-87d8-4bbf-a1be-b5cb67735d81\")>,\n",
       " <selenium.webdriver.remote.webelement.WebElement (session=\"2adf06c214b2e6b2012718e8fdbb9694\", element=\"339ae0e1-bbfe-451a-a647-32ca0507cb16\")>,\n",
       " <selenium.webdriver.remote.webelement.WebElement (session=\"2adf06c214b2e6b2012718e8fdbb9694\", element=\"5f05a0d6-443b-4e55-a466-a64e1e848376\")>,\n",
       " <selenium.webdriver.remote.webelement.WebElement (session=\"2adf06c214b2e6b2012718e8fdbb9694\", element=\"d46e57cf-8c10-4764-a121-c347b8d04f77\")>,\n",
       " <selenium.webdriver.remote.webelement.WebElement (session=\"2adf06c214b2e6b2012718e8fdbb9694\", element=\"32a8dcad-06ec-4edc-a588-2c021495c0f7\")>,\n",
       " <selenium.webdriver.remote.webelement.WebElement (session=\"2adf06c214b2e6b2012718e8fdbb9694\", element=\"354c1c4c-759a-41a2-bc6a-7c05ea4060cf\")>,\n",
       " <selenium.webdriver.remote.webelement.WebElement (session=\"2adf06c214b2e6b2012718e8fdbb9694\", element=\"d81f2756-2a54-4713-9b05-6331a5ca924a\")>,\n",
       " <selenium.webdriver.remote.webelement.WebElement (session=\"2adf06c214b2e6b2012718e8fdbb9694\", element=\"12ae63f6-ba7b-4180-a62b-2dbf8c062a51\")>,\n",
       " <selenium.webdriver.remote.webelement.WebElement (session=\"2adf06c214b2e6b2012718e8fdbb9694\", element=\"b18dddd4-e598-40db-879a-7dbc9847013a\")>,\n",
       " <selenium.webdriver.remote.webelement.WebElement (session=\"2adf06c214b2e6b2012718e8fdbb9694\", element=\"13bddce6-bef0-43a8-8ba3-a678ea1a4423\")>,\n",
       " <selenium.webdriver.remote.webelement.WebElement (session=\"2adf06c214b2e6b2012718e8fdbb9694\", element=\"54ee5495-93ab-4fcc-8083-6ee952ffe599\")>,\n",
       " <selenium.webdriver.remote.webelement.WebElement (session=\"2adf06c214b2e6b2012718e8fdbb9694\", element=\"9a5dfcb5-a546-40aa-93da-13945f0ea70e\")>]"
      ]
     },
     "execution_count": 41,
     "metadata": {},
     "output_type": "execute_result"
    }
   ],
   "source": [
    "## scraping the data for the first 10 jobs results having the job-title, job-location, company_name, experience_required.\n",
    "\n",
    "job_title = driver.find_elements_by_xpath(\"//a[@class= 'title fw500 ellipsis']\")\n",
    "job_title\n"
   ]
  },
  {
   "cell_type": "code",
   "execution_count": 43,
   "id": "f9c04321",
   "metadata": {
    "scrolled": true
   },
   "outputs": [
    {
     "data": {
      "text/plain": [
       "['Data Analyst (Data Stewards)//Immediate Joiners//Bangalore',\n",
       " 'Senior Associate - Data Analyst',\n",
       " 'Data Analyst-Immediate Joiners',\n",
       " 'Data Analyst',\n",
       " 'Data Analyst',\n",
       " 'Senior Data Analyst',\n",
       " 'Data Analyst',\n",
       " 'Sr Data Analyst with Hadoop and Alteryx both are Mandate_MNC Company',\n",
       " 'Senior Data Analyst',\n",
       " 'Immediate job openings For Partner Consultant - Sizing(Data Analyst) ']"
      ]
     },
     "execution_count": 43,
     "metadata": {},
     "output_type": "execute_result"
    }
   ],
   "source": [
    "## getting the job title using loop\n",
    "\n",
    "J_title = []\n",
    "for i in job_title:\n",
    "    J_title.append(i.text)\n",
    "J_title[:10]"
   ]
  },
  {
   "cell_type": "code",
   "execution_count": 45,
   "id": "99e310ae",
   "metadata": {
    "scrolled": true
   },
   "outputs": [
    {
     "data": {
      "text/plain": [
       "[<selenium.webdriver.remote.webelement.WebElement (session=\"2adf06c214b2e6b2012718e8fdbb9694\", element=\"7eb85e5d-0dff-4973-b007-3b0a25143e80\")>,\n",
       " <selenium.webdriver.remote.webelement.WebElement (session=\"2adf06c214b2e6b2012718e8fdbb9694\", element=\"a7efe9a2-7f90-4545-a215-d22fb003e3f0\")>,\n",
       " <selenium.webdriver.remote.webelement.WebElement (session=\"2adf06c214b2e6b2012718e8fdbb9694\", element=\"e81bac2c-bf07-4784-8f63-4713254905a3\")>,\n",
       " <selenium.webdriver.remote.webelement.WebElement (session=\"2adf06c214b2e6b2012718e8fdbb9694\", element=\"73daf3c4-077d-4b2a-8b65-4035ae4edf27\")>,\n",
       " <selenium.webdriver.remote.webelement.WebElement (session=\"2adf06c214b2e6b2012718e8fdbb9694\", element=\"66a2e681-3783-4a48-8f8e-639ac2a4e60c\")>,\n",
       " <selenium.webdriver.remote.webelement.WebElement (session=\"2adf06c214b2e6b2012718e8fdbb9694\", element=\"34cec624-6e5e-4a6f-94d8-3c1faa74d15c\")>,\n",
       " <selenium.webdriver.remote.webelement.WebElement (session=\"2adf06c214b2e6b2012718e8fdbb9694\", element=\"4b13fecc-9a50-4fca-9618-14cc1132d8b2\")>,\n",
       " <selenium.webdriver.remote.webelement.WebElement (session=\"2adf06c214b2e6b2012718e8fdbb9694\", element=\"c88a064f-2233-46f4-ad6d-f8ce86ecb75a\")>,\n",
       " <selenium.webdriver.remote.webelement.WebElement (session=\"2adf06c214b2e6b2012718e8fdbb9694\", element=\"a06097d6-b247-4217-ae1a-60e6f2cddcdd\")>,\n",
       " <selenium.webdriver.remote.webelement.WebElement (session=\"2adf06c214b2e6b2012718e8fdbb9694\", element=\"3753ddb9-658d-41c5-96fb-9839e381f0a7\")>,\n",
       " <selenium.webdriver.remote.webelement.WebElement (session=\"2adf06c214b2e6b2012718e8fdbb9694\", element=\"e77d8311-6f80-45c8-8576-c4a532b95022\")>,\n",
       " <selenium.webdriver.remote.webelement.WebElement (session=\"2adf06c214b2e6b2012718e8fdbb9694\", element=\"8ff3bc19-be5a-4c28-b5c7-2cbdf3c67e4a\")>,\n",
       " <selenium.webdriver.remote.webelement.WebElement (session=\"2adf06c214b2e6b2012718e8fdbb9694\", element=\"103e7bad-bf4f-4f8d-829f-0931a5ccc70a\")>,\n",
       " <selenium.webdriver.remote.webelement.WebElement (session=\"2adf06c214b2e6b2012718e8fdbb9694\", element=\"9a6256ab-a252-4551-bca4-9f20334bb4e5\")>,\n",
       " <selenium.webdriver.remote.webelement.WebElement (session=\"2adf06c214b2e6b2012718e8fdbb9694\", element=\"161089f5-fd2d-458d-93df-5cd8f3f6d0ba\")>,\n",
       " <selenium.webdriver.remote.webelement.WebElement (session=\"2adf06c214b2e6b2012718e8fdbb9694\", element=\"b65ad3b1-630a-401d-a44c-d2c0659d796d\")>,\n",
       " <selenium.webdriver.remote.webelement.WebElement (session=\"2adf06c214b2e6b2012718e8fdbb9694\", element=\"b367d553-a504-4e4f-9cc0-4bb5264a641c\")>,\n",
       " <selenium.webdriver.remote.webelement.WebElement (session=\"2adf06c214b2e6b2012718e8fdbb9694\", element=\"c11b3c42-ba7c-444d-a3cd-3ba9cf343e04\")>,\n",
       " <selenium.webdriver.remote.webelement.WebElement (session=\"2adf06c214b2e6b2012718e8fdbb9694\", element=\"93b3e567-f7dc-443f-811a-b667b6dc28ac\")>,\n",
       " <selenium.webdriver.remote.webelement.WebElement (session=\"2adf06c214b2e6b2012718e8fdbb9694\", element=\"a4808585-d019-4704-8c2b-08af7ec4d911\")>]"
      ]
     },
     "execution_count": 45,
     "metadata": {},
     "output_type": "execute_result"
    }
   ],
   "source": [
    "## Company names\n",
    "\n",
    "C_names = driver.find_elements_by_xpath(\"//a[@class= 'subTitle ellipsis fleft']\")\n",
    "C_names\n"
   ]
  },
  {
   "cell_type": "code",
   "execution_count": 46,
   "id": "1ad306fd",
   "metadata": {},
   "outputs": [
    {
     "data": {
      "text/plain": [
       "['Tech Mahindra Ltd.',\n",
       " 'Publicis Groupe',\n",
       " 'Brillio',\n",
       " 'Allegis Services India Pvt. Ltd.',\n",
       " 'Applied Materials',\n",
       " 'Flipkart Internet Private Limited',\n",
       " 'ANZ Banking Group',\n",
       " 'Inspiration Manpower Consultancy Pvt. Ltd.',\n",
       " 'Liventus, Inc.',\n",
       " 'RANDSTAD INDIA PVT LTD']"
      ]
     },
     "execution_count": 46,
     "metadata": {},
     "output_type": "execute_result"
    }
   ],
   "source": [
    "## getting the company using loop\n",
    "\n",
    "company_names = []\n",
    "for i in C_names:\n",
    "    company_names.append(i.text)\n",
    "company_names[:10]"
   ]
  },
  {
   "cell_type": "code",
   "execution_count": 47,
   "id": "f10e2974",
   "metadata": {
    "scrolled": true
   },
   "outputs": [
    {
     "data": {
      "text/plain": [
       "[<selenium.webdriver.remote.webelement.WebElement (session=\"2adf06c214b2e6b2012718e8fdbb9694\", element=\"4781c3d0-2699-430c-9dd5-7dc91eec041b\")>,\n",
       " <selenium.webdriver.remote.webelement.WebElement (session=\"2adf06c214b2e6b2012718e8fdbb9694\", element=\"633496a9-caea-447a-8c85-06d26d76eccc\")>,\n",
       " <selenium.webdriver.remote.webelement.WebElement (session=\"2adf06c214b2e6b2012718e8fdbb9694\", element=\"3902beff-a7e9-4486-8433-562f8bcc0c83\")>,\n",
       " <selenium.webdriver.remote.webelement.WebElement (session=\"2adf06c214b2e6b2012718e8fdbb9694\", element=\"1c6409bd-a11c-463b-acea-3b35a50b737b\")>,\n",
       " <selenium.webdriver.remote.webelement.WebElement (session=\"2adf06c214b2e6b2012718e8fdbb9694\", element=\"a1f31cbd-f462-4373-8c97-3bbc46b6aac8\")>,\n",
       " <selenium.webdriver.remote.webelement.WebElement (session=\"2adf06c214b2e6b2012718e8fdbb9694\", element=\"6ef7519e-bce3-443d-872d-ea06e8878e55\")>,\n",
       " <selenium.webdriver.remote.webelement.WebElement (session=\"2adf06c214b2e6b2012718e8fdbb9694\", element=\"1196c1bf-1a31-4001-ab5d-c7f297358619\")>,\n",
       " <selenium.webdriver.remote.webelement.WebElement (session=\"2adf06c214b2e6b2012718e8fdbb9694\", element=\"c5a3329c-bf96-4a0c-b374-8ed6733a2559\")>,\n",
       " <selenium.webdriver.remote.webelement.WebElement (session=\"2adf06c214b2e6b2012718e8fdbb9694\", element=\"0d72538e-e4ad-4999-858e-03d43573aa94\")>,\n",
       " <selenium.webdriver.remote.webelement.WebElement (session=\"2adf06c214b2e6b2012718e8fdbb9694\", element=\"f7f2e879-fc5e-4fe1-9f39-e7a1233d73c1\")>,\n",
       " <selenium.webdriver.remote.webelement.WebElement (session=\"2adf06c214b2e6b2012718e8fdbb9694\", element=\"57fbcb1c-5e18-4acc-99a1-ffee83bb6068\")>,\n",
       " <selenium.webdriver.remote.webelement.WebElement (session=\"2adf06c214b2e6b2012718e8fdbb9694\", element=\"8dfa68bb-7003-44f2-9d96-986288fcf5be\")>,\n",
       " <selenium.webdriver.remote.webelement.WebElement (session=\"2adf06c214b2e6b2012718e8fdbb9694\", element=\"2e4c7d12-2ee4-4872-9cfb-804607d1f6d8\")>,\n",
       " <selenium.webdriver.remote.webelement.WebElement (session=\"2adf06c214b2e6b2012718e8fdbb9694\", element=\"5ee5acc5-d145-4284-83d7-555779eea8f0\")>,\n",
       " <selenium.webdriver.remote.webelement.WebElement (session=\"2adf06c214b2e6b2012718e8fdbb9694\", element=\"dc7f0800-3ca0-46a3-a33f-de018c8271e2\")>,\n",
       " <selenium.webdriver.remote.webelement.WebElement (session=\"2adf06c214b2e6b2012718e8fdbb9694\", element=\"27c321c4-b912-4e11-bc9b-35212bdc858f\")>,\n",
       " <selenium.webdriver.remote.webelement.WebElement (session=\"2adf06c214b2e6b2012718e8fdbb9694\", element=\"1bc02365-9932-4c64-a8a1-deffa21b1d39\")>,\n",
       " <selenium.webdriver.remote.webelement.WebElement (session=\"2adf06c214b2e6b2012718e8fdbb9694\", element=\"6ace246c-d4c5-457b-adfc-315d55d27341\")>]"
      ]
     },
     "execution_count": 47,
     "metadata": {},
     "output_type": "execute_result"
    }
   ],
   "source": [
    "## Job location\n",
    "J_location = driver.find_elements_by_xpath(\"//span[@title= 'Bangalore/Bengaluru']\")\n",
    "J_location\n"
   ]
  },
  {
   "cell_type": "code",
   "execution_count": 73,
   "id": "44109efd",
   "metadata": {},
   "outputs": [
    {
     "data": {
      "text/plain": [
       "['Bangalore/Bengaluru',\n",
       " 'Bangalore/Bengaluru',\n",
       " 'Bangalore/Bengaluru',\n",
       " 'Bangalore/Bengaluru',\n",
       " 'Bangalore/Bengaluru',\n",
       " 'Bangalore/Bengaluru',\n",
       " 'Bangalore/Bengaluru',\n",
       " 'Bangalore/Bengaluru',\n",
       " 'Bangalore/Bengaluru',\n",
       " 'Bangalore/Bengaluru']"
      ]
     },
     "execution_count": 73,
     "metadata": {},
     "output_type": "execute_result"
    }
   ],
   "source": [
    "## getting the job location using loop\n",
    "\n",
    "Job_location = []\n",
    "for i in J_location:\n",
    "    Job_location.append(i.text)\n",
    "Job_location[:10]"
   ]
  },
  {
   "cell_type": "code",
   "execution_count": 65,
   "id": "27011a4a",
   "metadata": {
    "scrolled": true
   },
   "outputs": [
    {
     "data": {
      "text/plain": [
       "[<selenium.webdriver.remote.webelement.WebElement (session=\"2adf06c214b2e6b2012718e8fdbb9694\", element=\"1f360c7f-721a-4176-a09c-e54b83250b3a\")>,\n",
       " <selenium.webdriver.remote.webelement.WebElement (session=\"2adf06c214b2e6b2012718e8fdbb9694\", element=\"fb154344-b6ac-4ae2-b296-b261d676e19a\")>,\n",
       " <selenium.webdriver.remote.webelement.WebElement (session=\"2adf06c214b2e6b2012718e8fdbb9694\", element=\"55affbd4-4abf-4e84-ba08-d0ad59a5d1ab\")>,\n",
       " <selenium.webdriver.remote.webelement.WebElement (session=\"2adf06c214b2e6b2012718e8fdbb9694\", element=\"136b70db-b489-45dc-9b59-5c9c8b26439a\")>,\n",
       " <selenium.webdriver.remote.webelement.WebElement (session=\"2adf06c214b2e6b2012718e8fdbb9694\", element=\"3afc68bf-9a37-4ba1-884d-75dff47af90c\")>,\n",
       " <selenium.webdriver.remote.webelement.WebElement (session=\"2adf06c214b2e6b2012718e8fdbb9694\", element=\"24b1a73b-fdc0-47f2-92ea-c0638baca38b\")>,\n",
       " <selenium.webdriver.remote.webelement.WebElement (session=\"2adf06c214b2e6b2012718e8fdbb9694\", element=\"2de0ea2a-dd94-482e-b968-73e981f00a83\")>,\n",
       " <selenium.webdriver.remote.webelement.WebElement (session=\"2adf06c214b2e6b2012718e8fdbb9694\", element=\"148fe6e0-4414-4a3f-9ccf-306a9e9903ed\")>,\n",
       " <selenium.webdriver.remote.webelement.WebElement (session=\"2adf06c214b2e6b2012718e8fdbb9694\", element=\"46a128b7-6417-416b-9aa5-b9f142e9b4dc\")>,\n",
       " <selenium.webdriver.remote.webelement.WebElement (session=\"2adf06c214b2e6b2012718e8fdbb9694\", element=\"64abb9a2-8450-4002-9ef9-4b9a64568177\")>,\n",
       " <selenium.webdriver.remote.webelement.WebElement (session=\"2adf06c214b2e6b2012718e8fdbb9694\", element=\"279f2878-6703-4b6b-9143-b2a13c1ec256\")>,\n",
       " <selenium.webdriver.remote.webelement.WebElement (session=\"2adf06c214b2e6b2012718e8fdbb9694\", element=\"8f31ce68-ccf7-44ed-9d70-3e8761a63c99\")>,\n",
       " <selenium.webdriver.remote.webelement.WebElement (session=\"2adf06c214b2e6b2012718e8fdbb9694\", element=\"a114155e-feb0-40d8-a29b-1897973cdedf\")>,\n",
       " <selenium.webdriver.remote.webelement.WebElement (session=\"2adf06c214b2e6b2012718e8fdbb9694\", element=\"023c8819-44bd-4d29-a872-58ef52176a5e\")>,\n",
       " <selenium.webdriver.remote.webelement.WebElement (session=\"2adf06c214b2e6b2012718e8fdbb9694\", element=\"75f27d18-b35f-4a1b-b99f-37a15353c613\")>,\n",
       " <selenium.webdriver.remote.webelement.WebElement (session=\"2adf06c214b2e6b2012718e8fdbb9694\", element=\"fdd5765c-04c5-4df7-a3b3-793ca24a3a34\")>,\n",
       " <selenium.webdriver.remote.webelement.WebElement (session=\"2adf06c214b2e6b2012718e8fdbb9694\", element=\"038a5027-e6e2-4dc5-8af5-7b4957b2131c\")>,\n",
       " <selenium.webdriver.remote.webelement.WebElement (session=\"2adf06c214b2e6b2012718e8fdbb9694\", element=\"cbc51ff2-6639-436b-aebf-1e5f7feaeda3\")>,\n",
       " <selenium.webdriver.remote.webelement.WebElement (session=\"2adf06c214b2e6b2012718e8fdbb9694\", element=\"ae946c26-9e10-4f5d-8947-5cb8e7d56abb\")>,\n",
       " <selenium.webdriver.remote.webelement.WebElement (session=\"2adf06c214b2e6b2012718e8fdbb9694\", element=\"95bb86cf-1ecd-4f7a-aaab-d3b55eba190c\")>]"
      ]
     },
     "execution_count": 65,
     "metadata": {},
     "output_type": "execute_result"
    }
   ],
   "source": [
    "## experience_required\n",
    "\n",
    "exp = driver.find_elements_by_xpath(\"//li[@class= 'fleft grey-text br2 placeHolderLi experience']//span\")\n",
    "exp"
   ]
  },
  {
   "cell_type": "code",
   "execution_count": 67,
   "id": "4509ed18",
   "metadata": {},
   "outputs": [
    {
     "data": {
      "text/plain": [
       "['5-10 Yrs',\n",
       " '1-3 Yrs',\n",
       " '4-6 Yrs',\n",
       " '8-12 Yrs',\n",
       " '7-10 Yrs',\n",
       " '2-5 Yrs',\n",
       " '3-8 Yrs',\n",
       " '7-12 Yrs',\n",
       " '5-8 Yrs',\n",
       " '1-5 Yrs']"
      ]
     },
     "execution_count": 67,
     "metadata": {},
     "output_type": "execute_result"
    }
   ],
   "source": [
    "## getting the exp required using loop\n",
    "\n",
    "exp_required = []\n",
    "for i in exp:\n",
    "    exp_required.append(i.text)\n",
    "exp_required[:10]"
   ]
  },
  {
   "cell_type": "code",
   "execution_count": 74,
   "id": "f8706b71",
   "metadata": {},
   "outputs": [],
   "source": [
    "## creating data frames for job-title, job-location, company_name, experience_required\n",
    "\n",
    "Job_position = pd.DataFrame({})\n",
    "Job_position['job-title'] = J_title[:10]\n",
    "Job_position['job-location'] = Job_location[:10]\n",
    "Job_position['company_name'] = company_names[:10]\n",
    "Job_position['experience_required'] = exp_required[:10]"
   ]
  },
  {
   "cell_type": "code",
   "execution_count": 75,
   "id": "c8ce0229",
   "metadata": {
    "scrolled": true
   },
   "outputs": [
    {
     "data": {
      "text/html": [
       "<div>\n",
       "<style scoped>\n",
       "    .dataframe tbody tr th:only-of-type {\n",
       "        vertical-align: middle;\n",
       "    }\n",
       "\n",
       "    .dataframe tbody tr th {\n",
       "        vertical-align: top;\n",
       "    }\n",
       "\n",
       "    .dataframe thead th {\n",
       "        text-align: right;\n",
       "    }\n",
       "</style>\n",
       "<table border=\"1\" class=\"dataframe\">\n",
       "  <thead>\n",
       "    <tr style=\"text-align: right;\">\n",
       "      <th></th>\n",
       "      <th>job-title</th>\n",
       "      <th>job-location</th>\n",
       "      <th>company_name</th>\n",
       "      <th>experience_required</th>\n",
       "    </tr>\n",
       "  </thead>\n",
       "  <tbody>\n",
       "    <tr>\n",
       "      <th>0</th>\n",
       "      <td>Data Analyst (Data Stewards)//Immediate Joiner...</td>\n",
       "      <td>Bangalore/Bengaluru</td>\n",
       "      <td>Tech Mahindra Ltd.</td>\n",
       "      <td>5-10 Yrs</td>\n",
       "    </tr>\n",
       "    <tr>\n",
       "      <th>1</th>\n",
       "      <td>Senior Associate - Data Analyst</td>\n",
       "      <td>Bangalore/Bengaluru</td>\n",
       "      <td>Publicis Groupe</td>\n",
       "      <td>1-3 Yrs</td>\n",
       "    </tr>\n",
       "    <tr>\n",
       "      <th>2</th>\n",
       "      <td>Data Analyst-Immediate Joiners</td>\n",
       "      <td>Bangalore/Bengaluru</td>\n",
       "      <td>Brillio</td>\n",
       "      <td>4-6 Yrs</td>\n",
       "    </tr>\n",
       "    <tr>\n",
       "      <th>3</th>\n",
       "      <td>Data Analyst</td>\n",
       "      <td>Bangalore/Bengaluru</td>\n",
       "      <td>Allegis Services India Pvt. Ltd.</td>\n",
       "      <td>8-12 Yrs</td>\n",
       "    </tr>\n",
       "    <tr>\n",
       "      <th>4</th>\n",
       "      <td>Data Analyst</td>\n",
       "      <td>Bangalore/Bengaluru</td>\n",
       "      <td>Applied Materials</td>\n",
       "      <td>7-10 Yrs</td>\n",
       "    </tr>\n",
       "    <tr>\n",
       "      <th>5</th>\n",
       "      <td>Senior Data Analyst</td>\n",
       "      <td>Bangalore/Bengaluru</td>\n",
       "      <td>Flipkart Internet Private Limited</td>\n",
       "      <td>2-5 Yrs</td>\n",
       "    </tr>\n",
       "    <tr>\n",
       "      <th>6</th>\n",
       "      <td>Data Analyst</td>\n",
       "      <td>Bangalore/Bengaluru</td>\n",
       "      <td>ANZ Banking Group</td>\n",
       "      <td>3-8 Yrs</td>\n",
       "    </tr>\n",
       "    <tr>\n",
       "      <th>7</th>\n",
       "      <td>Sr Data Analyst with Hadoop and Alteryx both a...</td>\n",
       "      <td>Bangalore/Bengaluru</td>\n",
       "      <td>Inspiration Manpower Consultancy Pvt. Ltd.</td>\n",
       "      <td>7-12 Yrs</td>\n",
       "    </tr>\n",
       "    <tr>\n",
       "      <th>8</th>\n",
       "      <td>Senior Data Analyst</td>\n",
       "      <td>Bangalore/Bengaluru</td>\n",
       "      <td>Liventus, Inc.</td>\n",
       "      <td>5-8 Yrs</td>\n",
       "    </tr>\n",
       "    <tr>\n",
       "      <th>9</th>\n",
       "      <td>Immediate job openings For Partner Consultant ...</td>\n",
       "      <td>Bangalore/Bengaluru</td>\n",
       "      <td>RANDSTAD INDIA PVT LTD</td>\n",
       "      <td>1-5 Yrs</td>\n",
       "    </tr>\n",
       "  </tbody>\n",
       "</table>\n",
       "</div>"
      ],
      "text/plain": [
       "                                           job-title         job-location  \\\n",
       "0  Data Analyst (Data Stewards)//Immediate Joiner...  Bangalore/Bengaluru   \n",
       "1                    Senior Associate - Data Analyst  Bangalore/Bengaluru   \n",
       "2                     Data Analyst-Immediate Joiners  Bangalore/Bengaluru   \n",
       "3                                       Data Analyst  Bangalore/Bengaluru   \n",
       "4                                       Data Analyst  Bangalore/Bengaluru   \n",
       "5                                Senior Data Analyst  Bangalore/Bengaluru   \n",
       "6                                       Data Analyst  Bangalore/Bengaluru   \n",
       "7  Sr Data Analyst with Hadoop and Alteryx both a...  Bangalore/Bengaluru   \n",
       "8                                Senior Data Analyst  Bangalore/Bengaluru   \n",
       "9  Immediate job openings For Partner Consultant ...  Bangalore/Bengaluru   \n",
       "\n",
       "                                 company_name experience_required  \n",
       "0                          Tech Mahindra Ltd.            5-10 Yrs  \n",
       "1                             Publicis Groupe             1-3 Yrs  \n",
       "2                                     Brillio             4-6 Yrs  \n",
       "3            Allegis Services India Pvt. Ltd.            8-12 Yrs  \n",
       "4                           Applied Materials            7-10 Yrs  \n",
       "5           Flipkart Internet Private Limited             2-5 Yrs  \n",
       "6                           ANZ Banking Group             3-8 Yrs  \n",
       "7  Inspiration Manpower Consultancy Pvt. Ltd.            7-12 Yrs  \n",
       "8                              Liventus, Inc.             5-8 Yrs  \n",
       "9                      RANDSTAD INDIA PVT LTD             1-5 Yrs  "
      ]
     },
     "execution_count": 75,
     "metadata": {},
     "output_type": "execute_result"
    }
   ],
   "source": [
    "Job_position"
   ]
  },
  {
   "cell_type": "raw",
   "id": "b85cb390",
   "metadata": {},
   "source": [
    "Q2: Write a python program to scrape data for “Data Scientist” Job position in \n",
    "“Bangalore” location. You have to scrape the job-title, job-location,\n",
    "company_name, full job-description. You have to scrape first 10 jobs data."
   ]
  },
  {
   "cell_type": "code",
   "execution_count": 74,
   "id": "38d70ee2",
   "metadata": {},
   "outputs": [],
   "source": [
    "driver = webdriver.Chrome('chromedriver.exe')"
   ]
  },
  {
   "cell_type": "code",
   "execution_count": 75,
   "id": "2b40cb57",
   "metadata": {},
   "outputs": [],
   "source": [
    "url = 'https://www.naukri.com/'\n",
    "driver.get(url)"
   ]
  },
  {
   "cell_type": "code",
   "execution_count": 76,
   "id": "c650ff6e",
   "metadata": {},
   "outputs": [
    {
     "data": {
      "text/plain": [
       "<selenium.webdriver.remote.webelement.WebElement (session=\"a606cde43ff89fb85fbff5b204315cb8\", element=\"9ea5791b-6206-45a1-ae1e-f895266f52bf\")>"
      ]
     },
     "execution_count": 76,
     "metadata": {},
     "output_type": "execute_result"
    }
   ],
   "source": [
    "search_job = driver.find_element_by_id('qsb-keyword-sugg')\n",
    "search_job"
   ]
  },
  {
   "cell_type": "code",
   "execution_count": 77,
   "id": "2a33c29f",
   "metadata": {},
   "outputs": [],
   "source": [
    "## write on search bar\n",
    "search_job.send_keys('Data Scientist')"
   ]
  },
  {
   "cell_type": "code",
   "execution_count": 78,
   "id": "8af21cee",
   "metadata": {},
   "outputs": [],
   "source": [
    "## finding job location\n",
    "search_loc = driver.find_element_by_id('qsb-location-sugg')\n",
    "search_loc.send_keys('Bangalore')"
   ]
  },
  {
   "cell_type": "code",
   "execution_count": 79,
   "id": "6816e029",
   "metadata": {},
   "outputs": [],
   "source": [
    "## do click using xpath function\n",
    "search_btn = driver.find_element_by_xpath(\"//button[@class='btn']\")\n",
    "search_btn.click()"
   ]
  },
  {
   "cell_type": "code",
   "execution_count": 40,
   "id": "ddccbe95",
   "metadata": {
    "scrolled": true
   },
   "outputs": [
    {
     "data": {
      "text/plain": [
       "[<selenium.webdriver.remote.webelement.WebElement (session=\"d37eeafc80f035e37d68178bd5ccdbc3\", element=\"2a84b161-d9d8-4e20-98c4-9ff6deee78b3\")>,\n",
       " <selenium.webdriver.remote.webelement.WebElement (session=\"d37eeafc80f035e37d68178bd5ccdbc3\", element=\"2aa48079-cbe0-43c5-b922-66591dd60784\")>,\n",
       " <selenium.webdriver.remote.webelement.WebElement (session=\"d37eeafc80f035e37d68178bd5ccdbc3\", element=\"7513a190-4df6-41c0-aa41-4de7442d583a\")>,\n",
       " <selenium.webdriver.remote.webelement.WebElement (session=\"d37eeafc80f035e37d68178bd5ccdbc3\", element=\"9bfa83a3-cd29-4b39-bec5-3595e00010c0\")>,\n",
       " <selenium.webdriver.remote.webelement.WebElement (session=\"d37eeafc80f035e37d68178bd5ccdbc3\", element=\"4cd321ec-2519-48cb-8965-ec438c18205b\")>,\n",
       " <selenium.webdriver.remote.webelement.WebElement (session=\"d37eeafc80f035e37d68178bd5ccdbc3\", element=\"4f1b45b4-ef13-436a-89d6-c7d55eeda243\")>,\n",
       " <selenium.webdriver.remote.webelement.WebElement (session=\"d37eeafc80f035e37d68178bd5ccdbc3\", element=\"2cc296c9-ca35-40df-a321-e9366aec72ac\")>,\n",
       " <selenium.webdriver.remote.webelement.WebElement (session=\"d37eeafc80f035e37d68178bd5ccdbc3\", element=\"77895f98-cb0b-46df-85f3-84bb2c25b26a\")>,\n",
       " <selenium.webdriver.remote.webelement.WebElement (session=\"d37eeafc80f035e37d68178bd5ccdbc3\", element=\"77d39c68-fe11-48e5-94fc-55516c360238\")>,\n",
       " <selenium.webdriver.remote.webelement.WebElement (session=\"d37eeafc80f035e37d68178bd5ccdbc3\", element=\"2342bc4a-38be-4311-ab97-20dad049fb66\")>,\n",
       " <selenium.webdriver.remote.webelement.WebElement (session=\"d37eeafc80f035e37d68178bd5ccdbc3\", element=\"a3e9da27-5cf5-4d0a-a905-a7a912f87702\")>,\n",
       " <selenium.webdriver.remote.webelement.WebElement (session=\"d37eeafc80f035e37d68178bd5ccdbc3\", element=\"d234050e-8faf-4a78-890f-d818d8233ac6\")>,\n",
       " <selenium.webdriver.remote.webelement.WebElement (session=\"d37eeafc80f035e37d68178bd5ccdbc3\", element=\"8308c3d0-8103-44c4-851a-42010fe3b3f3\")>,\n",
       " <selenium.webdriver.remote.webelement.WebElement (session=\"d37eeafc80f035e37d68178bd5ccdbc3\", element=\"f5ce5eee-f391-4518-a579-90b03a426704\")>,\n",
       " <selenium.webdriver.remote.webelement.WebElement (session=\"d37eeafc80f035e37d68178bd5ccdbc3\", element=\"195dcfde-f3f9-4a39-a0ac-64bc990d49c8\")>,\n",
       " <selenium.webdriver.remote.webelement.WebElement (session=\"d37eeafc80f035e37d68178bd5ccdbc3\", element=\"d17fa60f-613b-4ab5-8ea0-9e6656317392\")>,\n",
       " <selenium.webdriver.remote.webelement.WebElement (session=\"d37eeafc80f035e37d68178bd5ccdbc3\", element=\"e54cf2de-78fd-490d-b0b2-962bb5e4b3df\")>,\n",
       " <selenium.webdriver.remote.webelement.WebElement (session=\"d37eeafc80f035e37d68178bd5ccdbc3\", element=\"200971c5-d1b4-4560-82c4-bc7bc119b807\")>,\n",
       " <selenium.webdriver.remote.webelement.WebElement (session=\"d37eeafc80f035e37d68178bd5ccdbc3\", element=\"3df2b25a-ee43-42ff-b1c9-9355024480e5\")>,\n",
       " <selenium.webdriver.remote.webelement.WebElement (session=\"d37eeafc80f035e37d68178bd5ccdbc3\", element=\"19240902-08a2-49da-a064-146a488938cc\")>]"
      ]
     },
     "execution_count": 40,
     "metadata": {},
     "output_type": "execute_result"
    }
   ],
   "source": [
    "## scraping the data for the first 10 jobs results having job-title, job-location, company_name, full job-description\n",
    "\n",
    "job_title = driver.find_elements_by_xpath(\"//a[@class= 'title fw500 ellipsis']\")\n",
    "job_title"
   ]
  },
  {
   "cell_type": "code",
   "execution_count": 41,
   "id": "553fbd50",
   "metadata": {},
   "outputs": [
    {
     "data": {
      "text/plain": [
       "['Data Scientist / Data Analyst -Business Analyst',\n",
       " 'Senior Data Scientist',\n",
       " 'Senior/Lead Data Scientist - Machine Learning/Deep Learning',\n",
       " 'Senior Data Scientist',\n",
       " 'Senior Data Scientist',\n",
       " 'Lead Data Scientist - Machine Learning/ Data Mining',\n",
       " 'Data Scientist IV',\n",
       " 'Data Scientist',\n",
       " 'Data Scientist',\n",
       " 'Senior Data Scientist']"
      ]
     },
     "execution_count": 41,
     "metadata": {},
     "output_type": "execute_result"
    }
   ],
   "source": [
    "## Job title using loop\n",
    "\n",
    "J_title = []\n",
    "for i in job_title:\n",
    "    J_title.append(i.text)\n",
    "J_title[:10]"
   ]
  },
  {
   "cell_type": "code",
   "execution_count": 43,
   "id": "35f9d441",
   "metadata": {},
   "outputs": [],
   "source": [
    "## Job location\n",
    "J_location = driver.find_elements_by_xpath(\"//span[@title= 'Bangalore/Bengaluru']\")"
   ]
  },
  {
   "cell_type": "code",
   "execution_count": 44,
   "id": "c6698022",
   "metadata": {},
   "outputs": [
    {
     "data": {
      "text/plain": [
       "['Bangalore/Bengaluru',\n",
       " 'Bangalore/Bengaluru',\n",
       " 'Bangalore/Bengaluru',\n",
       " 'Bangalore/Bengaluru',\n",
       " 'Bangalore/Bengaluru',\n",
       " 'Bangalore/Bengaluru',\n",
       " 'Bangalore/Bengaluru',\n",
       " 'Bangalore/Bengaluru',\n",
       " 'Bangalore/Bengaluru',\n",
       " 'Bangalore/Bengaluru']"
      ]
     },
     "execution_count": 44,
     "metadata": {},
     "output_type": "execute_result"
    }
   ],
   "source": [
    "## Job location using loop\n",
    "\n",
    "Job_location = []\n",
    "for i in J_location:\n",
    "    Job_location.append(i.text)\n",
    "Job_location[:10]"
   ]
  },
  {
   "cell_type": "code",
   "execution_count": 45,
   "id": "0ff9949f",
   "metadata": {},
   "outputs": [],
   "source": [
    "## Company names\n",
    "\n",
    "C_names = driver.find_elements_by_xpath(\"//a[@class= 'subTitle ellipsis fleft']\")"
   ]
  },
  {
   "cell_type": "code",
   "execution_count": 46,
   "id": "e069ce80",
   "metadata": {
    "scrolled": true
   },
   "outputs": [
    {
     "data": {
      "text/plain": [
       "['Inflexion Analytix Private Limited',\n",
       " '24/7 Customer',\n",
       " 'Squareroot Consulting Pvt Ltd.',\n",
       " 'Fractal Analytics',\n",
       " 'Nielsen',\n",
       " 'Wrackle Technologies Pvt Ltd',\n",
       " 'Conduent',\n",
       " 'Oracle India Pvt. Ltd.',\n",
       " 'Wipro Limited',\n",
       " 'Pluto7']"
      ]
     },
     "execution_count": 46,
     "metadata": {},
     "output_type": "execute_result"
    }
   ],
   "source": [
    "## getting the company using loop\n",
    "\n",
    "company_names = []\n",
    "for i in C_names:\n",
    "    company_names.append(i.text)\n",
    "company_names[:10]"
   ]
  },
  {
   "cell_type": "code",
   "execution_count": 80,
   "id": "e2ba4160",
   "metadata": {
    "scrolled": true
   },
   "outputs": [],
   "source": [
    "## Fectching Url\n",
    "\n",
    "urls = []\n",
    "for i in driver.find_elements_by_xpath(\"//a[@class= 'title fw500 ellipsis']\"):\n",
    "    urls.append(i.get_attribute('href'))\n"
   ]
  },
  {
   "cell_type": "code",
   "execution_count": 82,
   "id": "005dcfb9",
   "metadata": {
    "scrolled": true
   },
   "outputs": [
    {
     "data": {
      "text/plain": [
       "['https://www.naukri.com/job-listings-data-scientist-data-analyst-business-analyst-inflexion-analytix-private-limited-hyderabad-secunderabad-chennai-bangalore-bengaluru-0-to-3-years-020721003625?src=jobsearchDesk&sid=16254894235922454&xp=1&px=1',\n",
       " 'https://www.naukri.com/job-listings-senior-data-scientist-24-7-customer-private-ltd-bangalore-bengaluru-5-to-10-years-280621501037?src=jobsearchDesk&sid=16254894235922454&xp=2&px=1',\n",
       " 'https://www.naukri.com/job-listings-senior-lead-data-scientist-machine-learning-deep-learning-squareroot-consulting-pvt-ltd-bangalore-bengaluru-1-to-6-years-010320600083?src=jobsearchDesk&sid=16254894235922454&xp=3&px=1',\n",
       " 'https://www.naukri.com/job-listings-senior-data-scientist-fractal-analytics-ltd-mumbai-gurgaon-gurugram-bangalore-bengaluru-4-to-8-years-290621500776?src=jobsearchDesk&sid=16254894235922454&xp=4&px=1',\n",
       " 'https://www.naukri.com/job-listings-senior-data-scientist-nielsen-india-private-limited-chennai-bangalore-bengaluru-vadodara-baroda-3-to-5-years-290621001647?src=jobsearchDesk&sid=16254894235922454&xp=5&px=1',\n",
       " 'https://www.naukri.com/job-listings-lead-data-scientist-machine-learning-data-mining-wrackle-technologies-pvt-ltd-bangalore-bengaluru-6-to-11-years-080221900886?src=jobsearchDesk&sid=16254894235922454&xp=6&px=1',\n",
       " 'https://www.naukri.com/job-listings-data-scientist-iv-conduent-bangalore-bengaluru-10-to-15-years-030721500406?src=jobsearchDesk&sid=16254894235922454&xp=7&px=1',\n",
       " 'https://www.naukri.com/job-listings-data-scientist-oracle-india-pvt-ltd-noida-bangalore-bengaluru-5-to-9-years-010621004567?src=jobsearchDesk&sid=16254894235922454&xp=8&px=1',\n",
       " 'https://www.naukri.com/job-listings-data-scientist-wipro-limited-hyderabad-secunderabad-bangalore-bengaluru-pune-5-to-10-years-280621014912?src=jobsearchDesk&sid=16254894235922454&xp=9&px=1',\n",
       " 'https://www.naukri.com/job-listings-lead-data-scientist-winfort-services-pvt-ltd-hyderabad-secunderabad-pune-chennai-bangalore-bengaluru-10-to-15-years-290621005092?src=jobsearchDesk&sid=16254894235922454&xp=10&px=1',\n",
       " 'https://www.naukri.com/job-listings-senior-data-scientist-pluto7-bangalore-bengaluru-2-to-4-years-280621500617?src=jobsearchDesk&sid=16254894235922454&xp=11&px=1',\n",
       " 'https://www.naukri.com/job-listings-senior-data-scientist-roppen-transportation-services-private-limited-bangalore-bengaluru-5-to-8-years-010721000825?src=jobsearchDesk&sid=16254894235922454&xp=12&px=1',\n",
       " 'https://www.naukri.com/job-listings-sr-data-scientist-nielseniq-bangalore-bengaluru-3-to-5-years-300621501250?src=jobsearchDesk&sid=16254894235922454&xp=13&px=1',\n",
       " 'https://www.naukri.com/job-listings-senior-data-scientist-go-jek-india-bangalore-bengaluru-5-to-10-years-300621500214?src=jobsearchDesk&sid=16254894235922454&xp=14&px=1',\n",
       " 'https://www.naukri.com/job-listings-senior-data-scientist-publicis-groupe-bangalore-bengaluru-2-to-5-years-290621500896?src=jobsearchDesk&sid=16254894235922454&xp=15&px=1',\n",
       " 'https://www.naukri.com/job-listings-senior-data-scientist-baker-hughes-the-network-bangalore-bengaluru-4-to-8-years-020721501523?src=jobsearchDesk&sid=16254894235922454&xp=16&px=1',\n",
       " 'https://www.naukri.com/job-listings-senior-data-scientist-fabhotel-aay-kay-model-town-bangalore-bengaluru-6-to-7-years-020721501495?src=jobsearchDesk&sid=16254894235922454&xp=17&px=1',\n",
       " 'https://www.naukri.com/job-listings-senior-data-scientist-gojek-tech-bangalore-bengaluru-3-to-6-years-300621500215?src=jobsearchDesk&sid=16254894235922454&xp=18&px=1',\n",
       " 'https://www.naukri.com/job-listings-senior-data-scientist-baker-hughes-incorporated-bangalore-bengaluru-3-to-7-years-010721501049?src=jobsearchDesk&sid=16254894235922454&xp=19&px=1',\n",
       " 'https://www.naukri.com/job-listings-sr-data-scientist-payments-airbnb-global-capability-center-private-limited-bangalore-bengaluru-4-to-6-years-300621903935?src=jobsearchDesk&sid=16254894235922454&xp=20&px=1']"
      ]
     },
     "execution_count": 82,
     "metadata": {},
     "output_type": "execute_result"
    }
   ],
   "source": [
    "urls"
   ]
  },
  {
   "cell_type": "code",
   "execution_count": 98,
   "id": "650b3b23",
   "metadata": {
    "scrolled": true
   },
   "outputs": [],
   "source": [
    "## job description using loop\n",
    "job_description =[]\n",
    "for i in urls[0:10]:\n",
    "    driver.get(i)\n",
    "    time.sleep(3)\n",
    "\n",
    "    try:\n",
    "        job_desc = driver.find_element_by_xpath(\"//section[@class='job-desc']\")\n",
    "        Job_description.append(job_desc.text)\n",
    "    except NoSuchElementException:\n",
    "        job_description.append('-')"
   ]
  },
  {
   "cell_type": "code",
   "execution_count": 99,
   "id": "9e0c5acf",
   "metadata": {},
   "outputs": [
    {
     "data": {
      "text/plain": [
       "['-']"
      ]
     },
     "execution_count": 99,
     "metadata": {},
     "output_type": "execute_result"
    }
   ],
   "source": [
    "job_description"
   ]
  },
  {
   "cell_type": "code",
   "execution_count": 93,
   "id": "14e9d8b0",
   "metadata": {},
   "outputs": [],
   "source": [
    "## creating data frames for job-title, job-location, company_name, full job description\n",
    "\n",
    "Job_position = pd.DataFrame({})\n",
    "Job_position['job-title'] = J_title[:10]\n",
    "Job_position['job-location'] = Job_location[:10]\n",
    "Job_position['company_name'] = company_names[:10]\n",
    "Job_position['Job_description'] = Job_description[:10]"
   ]
  },
  {
   "cell_type": "code",
   "execution_count": 86,
   "id": "760a6fb8",
   "metadata": {},
   "outputs": [
    {
     "data": {
      "text/html": [
       "<div>\n",
       "<style scoped>\n",
       "    .dataframe tbody tr th:only-of-type {\n",
       "        vertical-align: middle;\n",
       "    }\n",
       "\n",
       "    .dataframe tbody tr th {\n",
       "        vertical-align: top;\n",
       "    }\n",
       "\n",
       "    .dataframe thead th {\n",
       "        text-align: right;\n",
       "    }\n",
       "</style>\n",
       "<table border=\"1\" class=\"dataframe\">\n",
       "  <thead>\n",
       "    <tr style=\"text-align: right;\">\n",
       "      <th></th>\n",
       "      <th>job-title</th>\n",
       "      <th>job-location</th>\n",
       "      <th>company_name</th>\n",
       "      <th>Job_description</th>\n",
       "    </tr>\n",
       "  </thead>\n",
       "  <tbody>\n",
       "    <tr>\n",
       "      <th>0</th>\n",
       "      <td>Data Scientist / Data Analyst -Business Analyst</td>\n",
       "      <td>Bangalore/Bengaluru</td>\n",
       "      <td>Inflexion Analytix Private Limited</td>\n",
       "      <td>Job description\\nJob description\\n\\nJob Role: ...</td>\n",
       "    </tr>\n",
       "    <tr>\n",
       "      <th>1</th>\n",
       "      <td>Senior Data Scientist</td>\n",
       "      <td>Bangalore/Bengaluru</td>\n",
       "      <td>24/7 Customer</td>\n",
       "      <td>Job description\\nBrief about the Role\\nThe Pla...</td>\n",
       "    </tr>\n",
       "    <tr>\n",
       "      <th>2</th>\n",
       "      <td>Senior/Lead Data Scientist - Machine Learning/...</td>\n",
       "      <td>Bangalore/Bengaluru</td>\n",
       "      <td>Squareroot Consulting Pvt Ltd.</td>\n",
       "      <td>Job description\\nRoles and Responsibilities\\nH...</td>\n",
       "    </tr>\n",
       "    <tr>\n",
       "      <th>3</th>\n",
       "      <td>Senior Data Scientist</td>\n",
       "      <td>Bangalore/Bengaluru</td>\n",
       "      <td>Fractal Analytics</td>\n",
       "      <td>Job description\\nThe Artificial Intelligence a...</td>\n",
       "    </tr>\n",
       "    <tr>\n",
       "      <th>4</th>\n",
       "      <td>Senior Data Scientist</td>\n",
       "      <td>Bangalore/Bengaluru</td>\n",
       "      <td>Nielsen</td>\n",
       "      <td>Job description\\nABOUT THIS JOB\\nNielsenIQ Adv...</td>\n",
       "    </tr>\n",
       "    <tr>\n",
       "      <th>5</th>\n",
       "      <td>Lead Data Scientist - Machine Learning/ Data M...</td>\n",
       "      <td>Bangalore/Bengaluru</td>\n",
       "      <td>Wrackle Technologies Pvt Ltd</td>\n",
       "      <td>Job description\\nRoles and Responsibilities\\nR...</td>\n",
       "    </tr>\n",
       "    <tr>\n",
       "      <th>6</th>\n",
       "      <td>Data Scientist IV</td>\n",
       "      <td>Bangalore/Bengaluru</td>\n",
       "      <td>Conduent</td>\n",
       "      <td>Job description\\nWe are looking for an Azure D...</td>\n",
       "    </tr>\n",
       "    <tr>\n",
       "      <th>7</th>\n",
       "      <td>Data Scientist</td>\n",
       "      <td>Bangalore/Bengaluru</td>\n",
       "      <td>Oracle India Pvt. Ltd.</td>\n",
       "      <td>Job description\\nJob description\\n\\nJob Role: ...</td>\n",
       "    </tr>\n",
       "    <tr>\n",
       "      <th>8</th>\n",
       "      <td>Data Scientist</td>\n",
       "      <td>Bangalore/Bengaluru</td>\n",
       "      <td>Wipro Limited</td>\n",
       "      <td>Job description\\nBrief about the Role\\nThe Pla...</td>\n",
       "    </tr>\n",
       "    <tr>\n",
       "      <th>9</th>\n",
       "      <td>Senior Data Scientist</td>\n",
       "      <td>Bangalore/Bengaluru</td>\n",
       "      <td>Pluto7</td>\n",
       "      <td>Job description\\nRoles and Responsibilities\\nH...</td>\n",
       "    </tr>\n",
       "  </tbody>\n",
       "</table>\n",
       "</div>"
      ],
      "text/plain": [
       "                                           job-title         job-location  \\\n",
       "0    Data Scientist / Data Analyst -Business Analyst  Bangalore/Bengaluru   \n",
       "1                              Senior Data Scientist  Bangalore/Bengaluru   \n",
       "2  Senior/Lead Data Scientist - Machine Learning/...  Bangalore/Bengaluru   \n",
       "3                              Senior Data Scientist  Bangalore/Bengaluru   \n",
       "4                              Senior Data Scientist  Bangalore/Bengaluru   \n",
       "5  Lead Data Scientist - Machine Learning/ Data M...  Bangalore/Bengaluru   \n",
       "6                                  Data Scientist IV  Bangalore/Bengaluru   \n",
       "7                                     Data Scientist  Bangalore/Bengaluru   \n",
       "8                                     Data Scientist  Bangalore/Bengaluru   \n",
       "9                              Senior Data Scientist  Bangalore/Bengaluru   \n",
       "\n",
       "                         company_name  \\\n",
       "0  Inflexion Analytix Private Limited   \n",
       "1                       24/7 Customer   \n",
       "2      Squareroot Consulting Pvt Ltd.   \n",
       "3                   Fractal Analytics   \n",
       "4                             Nielsen   \n",
       "5        Wrackle Technologies Pvt Ltd   \n",
       "6                            Conduent   \n",
       "7              Oracle India Pvt. Ltd.   \n",
       "8                       Wipro Limited   \n",
       "9                              Pluto7   \n",
       "\n",
       "                                     Job_description  \n",
       "0  Job description\\nJob description\\n\\nJob Role: ...  \n",
       "1  Job description\\nBrief about the Role\\nThe Pla...  \n",
       "2  Job description\\nRoles and Responsibilities\\nH...  \n",
       "3  Job description\\nThe Artificial Intelligence a...  \n",
       "4  Job description\\nABOUT THIS JOB\\nNielsenIQ Adv...  \n",
       "5  Job description\\nRoles and Responsibilities\\nR...  \n",
       "6  Job description\\nWe are looking for an Azure D...  \n",
       "7  Job description\\nJob description\\n\\nJob Role: ...  \n",
       "8  Job description\\nBrief about the Role\\nThe Pla...  \n",
       "9  Job description\\nRoles and Responsibilities\\nH...  "
      ]
     },
     "execution_count": 86,
     "metadata": {},
     "output_type": "execute_result"
    }
   ],
   "source": [
    "Job_position"
   ]
  },
  {
   "cell_type": "raw",
   "id": "697dc989",
   "metadata": {},
   "source": [
    "Q3: In this question you have to scrape data using the filters available on the \n",
    "webpage as shown below"
   ]
  },
  {
   "cell_type": "code",
   "execution_count": 18,
   "id": "2051f621",
   "metadata": {},
   "outputs": [],
   "source": [
    "driver = webdriver.Chrome('chromedriver.exe')"
   ]
  },
  {
   "cell_type": "code",
   "execution_count": 19,
   "id": "c935ae84",
   "metadata": {},
   "outputs": [],
   "source": [
    "url = 'https://www.naukri.com/'\n",
    "driver.get(url)"
   ]
  },
  {
   "cell_type": "code",
   "execution_count": 20,
   "id": "f9ca36b2",
   "metadata": {},
   "outputs": [
    {
     "data": {
      "text/plain": [
       "<selenium.webdriver.remote.webelement.WebElement (session=\"20b882c44f907e0bfd8d46eb3ed87095\", element=\"eefbaf7f-0146-4913-87db-eb510e4f9307\")>"
      ]
     },
     "execution_count": 20,
     "metadata": {},
     "output_type": "execute_result"
    }
   ],
   "source": [
    "search_job = driver.find_element_by_id('qsb-keyword-sugg')\n",
    "search_job"
   ]
  },
  {
   "cell_type": "code",
   "execution_count": 21,
   "id": "cdef19c8",
   "metadata": {},
   "outputs": [],
   "source": [
    "## write on search bar\n",
    "search_job.send_keys('Data Scientist')"
   ]
  },
  {
   "cell_type": "code",
   "execution_count": 22,
   "id": "0707e6d2",
   "metadata": {},
   "outputs": [],
   "source": [
    "## do click using xpath function\n",
    "search_btn = driver.find_element_by_xpath(\"//button[@class='btn']\")\n",
    "search_btn.click()"
   ]
  },
  {
   "cell_type": "code",
   "execution_count": 23,
   "id": "daee8c77",
   "metadata": {},
   "outputs": [],
   "source": [
    "## setting location filter\n",
    "loc_filter = driver.find_element_by_xpath('/html/body/div[1]/div[3]/div[2]/section[1]/div[2]/div[2]/div[2]/div[2]/label/p')\n",
    "loc_filter.click()"
   ]
  },
  {
   "cell_type": "code",
   "execution_count": 24,
   "id": "10401128",
   "metadata": {},
   "outputs": [],
   "source": [
    "## setting salary filter\n",
    "sal_filter = driver.find_element_by_xpath('/html/body/div[1]/div[3]/div[2]/section[1]/div[2]/div[3]/div[2]/div[2]/label/p')\n",
    "sal_filter.click()"
   ]
  },
  {
   "cell_type": "code",
   "execution_count": 25,
   "id": "90302102",
   "metadata": {},
   "outputs": [],
   "source": [
    "## scraping the data for the first 10 jobs results having job-title, job-location, company_name, exp_required\n",
    "\n",
    "job_title = driver.find_elements_by_xpath(\"//a[@class= 'title fw500 ellipsis']\")"
   ]
  },
  {
   "cell_type": "code",
   "execution_count": 26,
   "id": "01ed6c1a",
   "metadata": {},
   "outputs": [
    {
     "data": {
      "text/plain": [
       "['Data Scientist / Data Analyst -Business Analyst',\n",
       " 'Only Fresher / Data Scientist / Data Analyst / Analytics - MNC OSC',\n",
       " 'Data Scientist -Delhi',\n",
       " 'Data Scientist - Text NLP | Noida',\n",
       " 'Data Scientist',\n",
       " 'Data Scientist - Machine Learning/NLP',\n",
       " 'Data Scientist - Machine Learning/NLP',\n",
       " 'Data analytics / Data scientist intern (work from Home)',\n",
       " 'Data Scientist',\n",
       " 'Chaayos is Looking For Data Scientist']"
      ]
     },
     "execution_count": 26,
     "metadata": {},
     "output_type": "execute_result"
    }
   ],
   "source": [
    "## getting the job titles using loop\n",
    "J_title = []\n",
    "for i in job_title:\n",
    "    J_title.append(i.text)\n",
    "J_title[:10]"
   ]
  },
  {
   "cell_type": "code",
   "execution_count": 29,
   "id": "2e6dda22",
   "metadata": {},
   "outputs": [],
   "source": [
    "## Job location\n",
    "J_location = driver.find_elements_by_xpath(\"//span[@class= 'ellipsis fleft fs12 lh16']\")"
   ]
  },
  {
   "cell_type": "code",
   "execution_count": 32,
   "id": "75c819f0",
   "metadata": {},
   "outputs": [
    {
     "data": {
      "text/plain": [
       "['Mumbai, Hyderabad/Secunderabad, Pune, Gurgaon/Gurugram, Chennai, Bangalore/Bengaluru',\n",
       " 'Noida, Gurgaon/Gurugram, Delhi / NCR',\n",
       " 'New Delhi',\n",
       " 'Noida',\n",
       " 'Noida',\n",
       " 'Gurgaon/Gurugram',\n",
       " 'Gurgaon/Gurugram',\n",
       " 'Kolkata, Bangalore/Bengaluru, Delhi / NCR',\n",
       " 'Mumbai, Gurgaon/Gurugram, Bangalore/Bengaluru',\n",
       " 'New Delhi']"
      ]
     },
     "execution_count": 32,
     "metadata": {},
     "output_type": "execute_result"
    }
   ],
   "source": [
    "## getting the location using loop\n",
    "Job_location = []\n",
    "for i in J_location:\n",
    "    Job_location.append(i.text)\n",
    "Job_location[2:30:3]"
   ]
  },
  {
   "cell_type": "code",
   "execution_count": 33,
   "id": "98dd00cc",
   "metadata": {},
   "outputs": [],
   "source": [
    "## Company names\n",
    "\n",
    "C_names = driver.find_elements_by_xpath(\"//a[@class= 'subTitle ellipsis fleft']\")"
   ]
  },
  {
   "cell_type": "code",
   "execution_count": 34,
   "id": "d32cb239",
   "metadata": {},
   "outputs": [
    {
     "data": {
      "text/plain": [
       "['Inflexion Analytix Private Limited',\n",
       " 'GABA Consultancy services',\n",
       " 'CHANGE LEADERS CONSULTING',\n",
       " 'Acidaes Solutions Pvt. Ltd.',\n",
       " 'NEC CORPORATION INDIA PRIVATE LIMITED',\n",
       " 'TalPro',\n",
       " 'TalPro',\n",
       " 'TalkValley LLC',\n",
       " 'Fractal Analytics',\n",
       " 'Chaayos (Sunshine Teahouse Pvt. Ltd.)']"
      ]
     },
     "execution_count": 34,
     "metadata": {},
     "output_type": "execute_result"
    }
   ],
   "source": [
    "## getting the company names using loop\n",
    "\n",
    "company_names = []\n",
    "for i in C_names:\n",
    "    company_names.append(i.text)\n",
    "company_names[:10]"
   ]
  },
  {
   "cell_type": "code",
   "execution_count": 35,
   "id": "da0d430f",
   "metadata": {},
   "outputs": [],
   "source": [
    "## experience_required\n",
    "\n",
    "exp = driver.find_elements_by_xpath(\"//li[@class= 'fleft grey-text br2 placeHolderLi experience']//span\")\n"
   ]
  },
  {
   "cell_type": "code",
   "execution_count": 36,
   "id": "18227a9f",
   "metadata": {},
   "outputs": [
    {
     "data": {
      "text/plain": [
       "['0-3 Yrs',\n",
       " '0-0 Yrs',\n",
       " '5-8 Yrs',\n",
       " '3-5 Yrs',\n",
       " '3-8 Yrs',\n",
       " '2-6 Yrs',\n",
       " '2-4 Yrs',\n",
       " '0-5 Yrs',\n",
       " '3-7 Yrs',\n",
       " '0-5 Yrs']"
      ]
     },
     "execution_count": 36,
     "metadata": {},
     "output_type": "execute_result"
    }
   ],
   "source": [
    "## getting the exp required using loop\n",
    "\n",
    "exp_required = []\n",
    "for i in exp:\n",
    "    exp_required.append(i.text)\n",
    "exp_required[:10]"
   ]
  },
  {
   "cell_type": "code",
   "execution_count": 39,
   "id": "94a99849",
   "metadata": {},
   "outputs": [],
   "source": [
    "## creating data frames for job-title, job-location, company_name, experience_required\n",
    "\n",
    "Job_position = pd.DataFrame({})\n",
    "Job_position['job-title'] = J_title[:10]\n",
    "Job_position['job-location'] = Job_location[2:30:3]\n",
    "Job_position['company_name'] = company_names[:10]\n",
    "Job_position['experience_required'] = exp_required[:10]"
   ]
  },
  {
   "cell_type": "code",
   "execution_count": 40,
   "id": "ad73ebda",
   "metadata": {},
   "outputs": [
    {
     "data": {
      "text/html": [
       "<div>\n",
       "<style scoped>\n",
       "    .dataframe tbody tr th:only-of-type {\n",
       "        vertical-align: middle;\n",
       "    }\n",
       "\n",
       "    .dataframe tbody tr th {\n",
       "        vertical-align: top;\n",
       "    }\n",
       "\n",
       "    .dataframe thead th {\n",
       "        text-align: right;\n",
       "    }\n",
       "</style>\n",
       "<table border=\"1\" class=\"dataframe\">\n",
       "  <thead>\n",
       "    <tr style=\"text-align: right;\">\n",
       "      <th></th>\n",
       "      <th>job-title</th>\n",
       "      <th>job-location</th>\n",
       "      <th>company_name</th>\n",
       "      <th>experience_required</th>\n",
       "    </tr>\n",
       "  </thead>\n",
       "  <tbody>\n",
       "    <tr>\n",
       "      <th>0</th>\n",
       "      <td>Data Scientist / Data Analyst -Business Analyst</td>\n",
       "      <td>Mumbai, Hyderabad/Secunderabad, Pune, Gurgaon/...</td>\n",
       "      <td>Inflexion Analytix Private Limited</td>\n",
       "      <td>0-3 Yrs</td>\n",
       "    </tr>\n",
       "    <tr>\n",
       "      <th>1</th>\n",
       "      <td>Only Fresher / Data Scientist / Data Analyst /...</td>\n",
       "      <td>Noida, Gurgaon/Gurugram, Delhi / NCR</td>\n",
       "      <td>GABA Consultancy services</td>\n",
       "      <td>0-0 Yrs</td>\n",
       "    </tr>\n",
       "    <tr>\n",
       "      <th>2</th>\n",
       "      <td>Data Scientist -Delhi</td>\n",
       "      <td>New Delhi</td>\n",
       "      <td>CHANGE LEADERS CONSULTING</td>\n",
       "      <td>5-8 Yrs</td>\n",
       "    </tr>\n",
       "    <tr>\n",
       "      <th>3</th>\n",
       "      <td>Data Scientist - Text NLP | Noida</td>\n",
       "      <td>Noida</td>\n",
       "      <td>Acidaes Solutions Pvt. Ltd.</td>\n",
       "      <td>3-5 Yrs</td>\n",
       "    </tr>\n",
       "    <tr>\n",
       "      <th>4</th>\n",
       "      <td>Data Scientist</td>\n",
       "      <td>Noida</td>\n",
       "      <td>NEC CORPORATION INDIA PRIVATE LIMITED</td>\n",
       "      <td>3-8 Yrs</td>\n",
       "    </tr>\n",
       "    <tr>\n",
       "      <th>5</th>\n",
       "      <td>Data Scientist - Machine Learning/NLP</td>\n",
       "      <td>Gurgaon/Gurugram</td>\n",
       "      <td>TalPro</td>\n",
       "      <td>2-6 Yrs</td>\n",
       "    </tr>\n",
       "    <tr>\n",
       "      <th>6</th>\n",
       "      <td>Data Scientist - Machine Learning/NLP</td>\n",
       "      <td>Gurgaon/Gurugram</td>\n",
       "      <td>TalPro</td>\n",
       "      <td>2-4 Yrs</td>\n",
       "    </tr>\n",
       "    <tr>\n",
       "      <th>7</th>\n",
       "      <td>Data analytics / Data scientist intern (work f...</td>\n",
       "      <td>Kolkata, Bangalore/Bengaluru, Delhi / NCR</td>\n",
       "      <td>TalkValley LLC</td>\n",
       "      <td>0-5 Yrs</td>\n",
       "    </tr>\n",
       "    <tr>\n",
       "      <th>8</th>\n",
       "      <td>Data Scientist</td>\n",
       "      <td>Mumbai, Gurgaon/Gurugram, Bangalore/Bengaluru</td>\n",
       "      <td>Fractal Analytics</td>\n",
       "      <td>3-7 Yrs</td>\n",
       "    </tr>\n",
       "    <tr>\n",
       "      <th>9</th>\n",
       "      <td>Chaayos is Looking For Data Scientist</td>\n",
       "      <td>New Delhi</td>\n",
       "      <td>Chaayos (Sunshine Teahouse Pvt. Ltd.)</td>\n",
       "      <td>0-5 Yrs</td>\n",
       "    </tr>\n",
       "  </tbody>\n",
       "</table>\n",
       "</div>"
      ],
      "text/plain": [
       "                                           job-title  \\\n",
       "0    Data Scientist / Data Analyst -Business Analyst   \n",
       "1  Only Fresher / Data Scientist / Data Analyst /...   \n",
       "2                              Data Scientist -Delhi   \n",
       "3                  Data Scientist - Text NLP | Noida   \n",
       "4                                     Data Scientist   \n",
       "5              Data Scientist - Machine Learning/NLP   \n",
       "6              Data Scientist - Machine Learning/NLP   \n",
       "7  Data analytics / Data scientist intern (work f...   \n",
       "8                                     Data Scientist   \n",
       "9              Chaayos is Looking For Data Scientist   \n",
       "\n",
       "                                        job-location  \\\n",
       "0  Mumbai, Hyderabad/Secunderabad, Pune, Gurgaon/...   \n",
       "1               Noida, Gurgaon/Gurugram, Delhi / NCR   \n",
       "2                                          New Delhi   \n",
       "3                                              Noida   \n",
       "4                                              Noida   \n",
       "5                                   Gurgaon/Gurugram   \n",
       "6                                   Gurgaon/Gurugram   \n",
       "7          Kolkata, Bangalore/Bengaluru, Delhi / NCR   \n",
       "8      Mumbai, Gurgaon/Gurugram, Bangalore/Bengaluru   \n",
       "9                                          New Delhi   \n",
       "\n",
       "                            company_name experience_required  \n",
       "0     Inflexion Analytix Private Limited             0-3 Yrs  \n",
       "1              GABA Consultancy services             0-0 Yrs  \n",
       "2              CHANGE LEADERS CONSULTING             5-8 Yrs  \n",
       "3            Acidaes Solutions Pvt. Ltd.             3-5 Yrs  \n",
       "4  NEC CORPORATION INDIA PRIVATE LIMITED             3-8 Yrs  \n",
       "5                                 TalPro             2-6 Yrs  \n",
       "6                                 TalPro             2-4 Yrs  \n",
       "7                         TalkValley LLC             0-5 Yrs  \n",
       "8                      Fractal Analytics             3-7 Yrs  \n",
       "9  Chaayos (Sunshine Teahouse Pvt. Ltd.)             0-5 Yrs  "
      ]
     },
     "execution_count": 40,
     "metadata": {},
     "output_type": "execute_result"
    }
   ],
   "source": [
    "Job_position"
   ]
  },
  {
   "cell_type": "raw",
   "id": "20b932d7",
   "metadata": {},
   "source": [
    "Q4: Write a python program to scrape data for first 10 job results for Data scientist \n",
    "Designation in Noida location. You have to scrape company_name, No. of days \n",
    "ago when job was posted, Rating of the company."
   ]
  },
  {
   "cell_type": "code",
   "execution_count": 113,
   "id": "6e0d99de",
   "metadata": {},
   "outputs": [],
   "source": [
    "driver = webdriver.Chrome('chromedriver.exe')"
   ]
  },
  {
   "cell_type": "code",
   "execution_count": 114,
   "id": "f2182f2f",
   "metadata": {},
   "outputs": [],
   "source": [
    "url = 'https://www.glassdoor.co.in/index.htm'\n",
    "driver.get(url)"
   ]
  },
  {
   "cell_type": "code",
   "execution_count": 115,
   "id": "c55d889d",
   "metadata": {},
   "outputs": [
    {
     "data": {
      "text/plain": [
       "<selenium.webdriver.remote.webelement.WebElement (session=\"153003ef80c56f4479b8a87d99ac6306\", element=\"d4287bfb-dbdc-4372-90c2-b0f202bb4183\")>"
      ]
     },
     "execution_count": 115,
     "metadata": {},
     "output_type": "execute_result"
    }
   ],
   "source": [
    "search_job = driver.find_element_by_name('sc.keyword')\n",
    "search_job"
   ]
  },
  {
   "cell_type": "code",
   "execution_count": 116,
   "id": "7d66e365",
   "metadata": {},
   "outputs": [],
   "source": [
    "## write on search bar\n",
    "search_job.send_keys('Data Scientist')"
   ]
  },
  {
   "cell_type": "code",
   "execution_count": 119,
   "id": "3c226b6f",
   "metadata": {},
   "outputs": [],
   "source": [
    "## finding job location\n",
    "search_loc = driver.find_element_by_id('sc.location')\n",
    "search_loc.send_keys('Noida')"
   ]
  },
  {
   "cell_type": "code",
   "execution_count": 120,
   "id": "0385f00a",
   "metadata": {},
   "outputs": [],
   "source": [
    "## do click using xpath function\n",
    "search_btn = driver.find_element_by_xpath(\"//button[@class='gd-ui-button ml-std col-auto SearchStyles__newSearchButton css-iixdfr']\")\n",
    "search_btn.click()"
   ]
  },
  {
   "cell_type": "code",
   "execution_count": 121,
   "id": "90c6a295",
   "metadata": {
    "scrolled": true
   },
   "outputs": [],
   "source": [
    "## scraping the data for the first 10 jobs results having the company_name,No.of days ago when job was posted,Rating of the company.\n",
    "\n",
    "com_name = driver.find_elements_by_xpath(\"//div[@class= 'd-flex justify-content-between align-items-start']\")\n"
   ]
  },
  {
   "cell_type": "code",
   "execution_count": 122,
   "id": "bb32227f",
   "metadata": {},
   "outputs": [
    {
     "data": {
      "text/plain": [
       "['Bechtel',\n",
       " 'Taboola',\n",
       " 'Ericsson',\n",
       " 'Siemens Technology and Services Private Limited',\n",
       " 'Biz2Credit Inc',\n",
       " 'Techlive',\n",
       " 'Priority Vendor',\n",
       " 'Crowe',\n",
       " 'Data Patterns',\n",
       " 'Innovacer']"
      ]
     },
     "execution_count": 122,
     "metadata": {},
     "output_type": "execute_result"
    }
   ],
   "source": [
    "## getting the company name using loop\n",
    "\n",
    "company_names = []\n",
    "for i in com_name:\n",
    "    company_names.append(i.text)\n",
    "company_names[:10]"
   ]
  },
  {
   "cell_type": "code",
   "execution_count": 125,
   "id": "21ad5dab",
   "metadata": {},
   "outputs": [],
   "source": [
    "No_days = driver.find_elements_by_xpath(\"//div[@class= 'd-flex align-items-end pl-std css-mi55ob']\")"
   ]
  },
  {
   "cell_type": "code",
   "execution_count": 127,
   "id": "f133dcb1",
   "metadata": {},
   "outputs": [
    {
     "data": {
      "text/plain": [
       "['2d', '19d', '6d', '11d', '7d', '5d', '27d', '27d', '15d', '4d']"
      ]
     },
     "execution_count": 127,
     "metadata": {},
     "output_type": "execute_result"
    }
   ],
   "source": [
    "## getting the no of days ago job posted using loop\n",
    "\n",
    "No_of_days = []\n",
    "for i in No_days:\n",
    "    No_of_days.append(i.text)\n",
    "No_of_days[:10]"
   ]
  },
  {
   "cell_type": "code",
   "execution_count": 128,
   "id": "8cc82a01",
   "metadata": {},
   "outputs": [],
   "source": [
    "ratings = driver.find_elements_by_xpath(\"//span[@class='css-19pjha7 e1cjmv6j1']\")"
   ]
  },
  {
   "cell_type": "code",
   "execution_count": 129,
   "id": "d12515f6",
   "metadata": {},
   "outputs": [
    {
     "data": {
      "text/plain": [
       "['4.0', '4.2', '4.1', '4.1', '3.9', '5.0', '3.7', '3.8', '3.0', '3.8']"
      ]
     },
     "execution_count": 129,
     "metadata": {},
     "output_type": "execute_result"
    }
   ],
   "source": [
    "## getting the ratings using loop\n",
    "\n",
    "Ratings = []\n",
    "for i in ratings:\n",
    "    Ratings.append(i.text)\n",
    "Ratings[:10]"
   ]
  },
  {
   "cell_type": "code",
   "execution_count": 136,
   "id": "78ec0444",
   "metadata": {},
   "outputs": [],
   "source": [
    "## creating data frames for company_name,No.of days ago when job was posted,Rating of the company.\n",
    "Job_position = pd.DataFrame({})\n",
    "Job_position['company_name'] = company_names[:10]\n",
    "Job_position['No_of_days'] = No_of_days[:10]\n",
    "Job_position['Ratings'] = Ratings[:10]\n",
    "\n"
   ]
  },
  {
   "cell_type": "code",
   "execution_count": 137,
   "id": "07bb753d",
   "metadata": {
    "scrolled": true
   },
   "outputs": [
    {
     "data": {
      "text/html": [
       "<div>\n",
       "<style scoped>\n",
       "    .dataframe tbody tr th:only-of-type {\n",
       "        vertical-align: middle;\n",
       "    }\n",
       "\n",
       "    .dataframe tbody tr th {\n",
       "        vertical-align: top;\n",
       "    }\n",
       "\n",
       "    .dataframe thead th {\n",
       "        text-align: right;\n",
       "    }\n",
       "</style>\n",
       "<table border=\"1\" class=\"dataframe\">\n",
       "  <thead>\n",
       "    <tr style=\"text-align: right;\">\n",
       "      <th></th>\n",
       "      <th>company_name</th>\n",
       "      <th>No_of_days</th>\n",
       "      <th>Ratings</th>\n",
       "    </tr>\n",
       "  </thead>\n",
       "  <tbody>\n",
       "    <tr>\n",
       "      <th>0</th>\n",
       "      <td>Bechtel</td>\n",
       "      <td>2d</td>\n",
       "      <td>4.0</td>\n",
       "    </tr>\n",
       "    <tr>\n",
       "      <th>1</th>\n",
       "      <td>Taboola</td>\n",
       "      <td>19d</td>\n",
       "      <td>4.2</td>\n",
       "    </tr>\n",
       "    <tr>\n",
       "      <th>2</th>\n",
       "      <td>Ericsson</td>\n",
       "      <td>6d</td>\n",
       "      <td>4.1</td>\n",
       "    </tr>\n",
       "    <tr>\n",
       "      <th>3</th>\n",
       "      <td>Siemens Technology and Services Private Limited</td>\n",
       "      <td>11d</td>\n",
       "      <td>4.1</td>\n",
       "    </tr>\n",
       "    <tr>\n",
       "      <th>4</th>\n",
       "      <td>Biz2Credit Inc</td>\n",
       "      <td>7d</td>\n",
       "      <td>3.9</td>\n",
       "    </tr>\n",
       "    <tr>\n",
       "      <th>5</th>\n",
       "      <td>Techlive</td>\n",
       "      <td>5d</td>\n",
       "      <td>5.0</td>\n",
       "    </tr>\n",
       "    <tr>\n",
       "      <th>6</th>\n",
       "      <td>Priority Vendor</td>\n",
       "      <td>27d</td>\n",
       "      <td>3.7</td>\n",
       "    </tr>\n",
       "    <tr>\n",
       "      <th>7</th>\n",
       "      <td>Crowe</td>\n",
       "      <td>27d</td>\n",
       "      <td>3.8</td>\n",
       "    </tr>\n",
       "    <tr>\n",
       "      <th>8</th>\n",
       "      <td>Data Patterns</td>\n",
       "      <td>15d</td>\n",
       "      <td>3.0</td>\n",
       "    </tr>\n",
       "    <tr>\n",
       "      <th>9</th>\n",
       "      <td>Innovacer</td>\n",
       "      <td>4d</td>\n",
       "      <td>3.8</td>\n",
       "    </tr>\n",
       "  </tbody>\n",
       "</table>\n",
       "</div>"
      ],
      "text/plain": [
       "                                      company_name No_of_days Ratings\n",
       "0                                          Bechtel         2d     4.0\n",
       "1                                          Taboola        19d     4.2\n",
       "2                                         Ericsson         6d     4.1\n",
       "3  Siemens Technology and Services Private Limited        11d     4.1\n",
       "4                                   Biz2Credit Inc         7d     3.9\n",
       "5                                         Techlive         5d     5.0\n",
       "6                                  Priority Vendor        27d     3.7\n",
       "7                                            Crowe        27d     3.8\n",
       "8                                    Data Patterns        15d     3.0\n",
       "9                                        Innovacer         4d     3.8"
      ]
     },
     "execution_count": 137,
     "metadata": {},
     "output_type": "execute_result"
    }
   ],
   "source": [
    "Job_position"
   ]
  },
  {
   "cell_type": "raw",
   "id": "ea6a563f",
   "metadata": {},
   "source": [
    "Q5: Write a python program to scrape the salary data for Data Scientist designation \n",
    "in Noida location.\n"
   ]
  },
  {
   "cell_type": "code",
   "execution_count": 138,
   "id": "4f98fb46",
   "metadata": {},
   "outputs": [],
   "source": [
    "driver = webdriver.Chrome('chromedriver.exe')"
   ]
  },
  {
   "cell_type": "code",
   "execution_count": 139,
   "id": "e36306b2",
   "metadata": {},
   "outputs": [],
   "source": [
    "url = 'https://www.glassdoor.co.in/Salaries/index.htm'\n",
    "driver.get(url)"
   ]
  },
  {
   "cell_type": "code",
   "execution_count": 140,
   "id": "bb175c2f",
   "metadata": {},
   "outputs": [
    {
     "data": {
      "text/plain": [
       "<selenium.webdriver.remote.webelement.WebElement (session=\"5bdb1a485f37ea8423b545250481c68e\", element=\"3a1b54df-619b-427c-adef-458e7e9f1ecf\")>"
      ]
     },
     "execution_count": 140,
     "metadata": {},
     "output_type": "execute_result"
    }
   ],
   "source": [
    "search_job = driver.find_element_by_id('KeywordSearch')\n",
    "search_job"
   ]
  },
  {
   "cell_type": "code",
   "execution_count": 141,
   "id": "47b1aa45",
   "metadata": {},
   "outputs": [],
   "source": [
    "## write on search bar\n",
    "search_job.send_keys('Data Scientist')"
   ]
  },
  {
   "cell_type": "code",
   "execution_count": 142,
   "id": "a72f6834",
   "metadata": {},
   "outputs": [],
   "source": [
    "## finding job location\n",
    "search_loc = driver.find_element_by_class_name('loc')\n",
    "search_loc.send_keys('Noida')"
   ]
  },
  {
   "cell_type": "code",
   "execution_count": 143,
   "id": "8c050635",
   "metadata": {},
   "outputs": [],
   "source": [
    "## do click using xpath function\n",
    "search_btn = driver.find_element_by_xpath(\"//button[@class='gd-btn-mkt']\")\n",
    "search_btn.click()"
   ]
  },
  {
   "cell_type": "code",
   "execution_count": 172,
   "id": "f2ad1111",
   "metadata": {},
   "outputs": [],
   "source": [
    "## scrapping company name\n",
    "\n",
    "comp_name = driver.find_elements_by_xpath(\"//h3[@class='m-0 css-g261rn']\")"
   ]
  },
  {
   "cell_type": "code",
   "execution_count": 183,
   "id": "1fe9ce29",
   "metadata": {},
   "outputs": [
    {
     "data": {
      "text/plain": [
       "['IBM',\n",
       " 'Tata Consultancy Services',\n",
       " 'Accenture',\n",
       " 'Delhivery',\n",
       " 'Ericsson-Worldwide',\n",
       " 'UnitedHealth Group',\n",
       " 'Valiance Solutions',\n",
       " 'Optum Global Solutions',\n",
       " 'ZS Associates',\n",
       " 'EXL Service']"
      ]
     },
     "execution_count": 183,
     "metadata": {},
     "output_type": "execute_result"
    }
   ],
   "source": [
    "## getting the company name using loop\n",
    "\n",
    "company_names = []\n",
    "for i in comp_name:\n",
    "    company_names.append(i.text)\n",
    "company_names[4:24:2]"
   ]
  },
  {
   "cell_type": "code",
   "execution_count": 185,
   "id": "d246b7d2",
   "metadata": {},
   "outputs": [],
   "source": [
    "## Scrapping the average salary\n",
    "\n",
    "Avg_salary = driver.find_elements_by_xpath(\"//div[@class='col-12 col-lg-4 px-lg-0 d-flex align-items-baseline']\")"
   ]
  },
  {
   "cell_type": "code",
   "execution_count": 190,
   "id": "f9d7d357",
   "metadata": {},
   "outputs": [
    {
     "data": {
      "text/plain": [
       "['₹9,00,000 /yr',\n",
       " '₹6,15,289 /yr',\n",
       " '₹11,63,336 /yr',\n",
       " '₹12,18,244 /yr',\n",
       " '₹7,39,238 /yr',\n",
       " '₹13,38,279 /yr',\n",
       " '₹8,63,750 /yr',\n",
       " '₹13,28,697 /yr',\n",
       " '₹11,42,356 /yr',\n",
       " '₹11,46,073 /yr']"
      ]
     },
     "execution_count": 190,
     "metadata": {},
     "output_type": "execute_result"
    }
   ],
   "source": [
    "## getting the avg salary using loop\n",
    "\n",
    "Average_Salary = []\n",
    "for i in Avg_salary:\n",
    "    Average_Salary.append(i.text.replace('\\n',''))\n",
    "Average_Salary[:10]"
   ]
  },
  {
   "cell_type": "code",
   "execution_count": 191,
   "id": "070327bf",
   "metadata": {},
   "outputs": [],
   "source": [
    "## Scrapping the ratings of the company\n",
    "\n",
    "rat = driver.find_elements_by_xpath(\"//div[@class='d-flex align-items-center mt-xxsm']\")"
   ]
  },
  {
   "cell_type": "code",
   "execution_count": 193,
   "id": "c0e5bc83",
   "metadata": {},
   "outputs": [
    {
     "data": {
      "text/plain": [
       "['3.9★', '3.9★', '4★', '3.9★', '4★', '3.7★', '4.2★', '3.9★', '4★', '3.6★']"
      ]
     },
     "execution_count": 193,
     "metadata": {},
     "output_type": "execute_result"
    }
   ],
   "source": [
    "## getting the ratings using loop\n",
    "Ratings = []\n",
    "for i in rat:\n",
    "    Ratings.append(i.text.replace('\\n',''))\n",
    "Ratings[:10]"
   ]
  },
  {
   "cell_type": "code",
   "execution_count": 204,
   "id": "38286de9",
   "metadata": {},
   "outputs": [],
   "source": [
    "## Scrapping the min & max salary\n",
    "\n",
    "min_sal = driver.find_elements_by_xpath(\"//div[@class='d-flex mt-xxsm css-79elbk epuxyqn0']\")"
   ]
  },
  {
   "cell_type": "code",
   "execution_count": 215,
   "id": "a702fbd3",
   "metadata": {},
   "outputs": [
    {
     "data": {
      "text/plain": [
       "['₹6L--₹27L',\n",
       " '₹3L--₹13L',\n",
       " '₹6L--₹22L',\n",
       " '₹5L--₹1Cr',\n",
       " '₹4L--₹16L',\n",
       " '₹11L--₹15L',\n",
       " '₹5L--₹15L',\n",
       " '₹4L--₹22L',\n",
       " '₹2L--₹18L',\n",
       " '₹6L--₹15L']"
      ]
     },
     "execution_count": 215,
     "metadata": {},
     "output_type": "execute_result"
    }
   ],
   "source": [
    "## getting the min & max salary using loop\n",
    "\n",
    "minmax_salary = []\n",
    "for i in min_sal:\n",
    "    minmax_salary.append(i.text.replace('\\n','--'))\n",
    "minmax_salary[:10]"
   ]
  },
  {
   "cell_type": "code",
   "execution_count": 216,
   "id": "74e513f6",
   "metadata": {},
   "outputs": [],
   "source": [
    "## creating data frames for min salary, max salary, company name, Average salary and rating of the company.\n",
    "Job_position = pd.DataFrame({})\n",
    "Job_position['Company_Name'] = company_names[4:24:2]\n",
    "Job_position['Ratings'] = Ratings[:10]\n",
    "Job_position['Average_Salary'] = Average_Salary[:10]\n",
    "Job_position['MinMax_salary'] = minmax_salary[:10]"
   ]
  },
  {
   "cell_type": "code",
   "execution_count": 217,
   "id": "6d1519cf",
   "metadata": {},
   "outputs": [
    {
     "data": {
      "text/html": [
       "<div>\n",
       "<style scoped>\n",
       "    .dataframe tbody tr th:only-of-type {\n",
       "        vertical-align: middle;\n",
       "    }\n",
       "\n",
       "    .dataframe tbody tr th {\n",
       "        vertical-align: top;\n",
       "    }\n",
       "\n",
       "    .dataframe thead th {\n",
       "        text-align: right;\n",
       "    }\n",
       "</style>\n",
       "<table border=\"1\" class=\"dataframe\">\n",
       "  <thead>\n",
       "    <tr style=\"text-align: right;\">\n",
       "      <th></th>\n",
       "      <th>Company_Name</th>\n",
       "      <th>Ratings</th>\n",
       "      <th>Average_Salary</th>\n",
       "      <th>MinMax_salary</th>\n",
       "    </tr>\n",
       "  </thead>\n",
       "  <tbody>\n",
       "    <tr>\n",
       "      <th>0</th>\n",
       "      <td>IBM</td>\n",
       "      <td>3.9★</td>\n",
       "      <td>₹9,00,000 /yr</td>\n",
       "      <td>₹6L--₹27L</td>\n",
       "    </tr>\n",
       "    <tr>\n",
       "      <th>1</th>\n",
       "      <td>Tata Consultancy Services</td>\n",
       "      <td>3.9★</td>\n",
       "      <td>₹6,15,289 /yr</td>\n",
       "      <td>₹3L--₹13L</td>\n",
       "    </tr>\n",
       "    <tr>\n",
       "      <th>2</th>\n",
       "      <td>Accenture</td>\n",
       "      <td>4★</td>\n",
       "      <td>₹11,63,336 /yr</td>\n",
       "      <td>₹6L--₹22L</td>\n",
       "    </tr>\n",
       "    <tr>\n",
       "      <th>3</th>\n",
       "      <td>Delhivery</td>\n",
       "      <td>3.9★</td>\n",
       "      <td>₹12,18,244 /yr</td>\n",
       "      <td>₹5L--₹1Cr</td>\n",
       "    </tr>\n",
       "    <tr>\n",
       "      <th>4</th>\n",
       "      <td>Ericsson-Worldwide</td>\n",
       "      <td>4★</td>\n",
       "      <td>₹7,39,238 /yr</td>\n",
       "      <td>₹4L--₹16L</td>\n",
       "    </tr>\n",
       "    <tr>\n",
       "      <th>5</th>\n",
       "      <td>UnitedHealth Group</td>\n",
       "      <td>3.7★</td>\n",
       "      <td>₹13,38,279 /yr</td>\n",
       "      <td>₹11L--₹15L</td>\n",
       "    </tr>\n",
       "    <tr>\n",
       "      <th>6</th>\n",
       "      <td>Valiance Solutions</td>\n",
       "      <td>4.2★</td>\n",
       "      <td>₹8,63,750 /yr</td>\n",
       "      <td>₹5L--₹15L</td>\n",
       "    </tr>\n",
       "    <tr>\n",
       "      <th>7</th>\n",
       "      <td>Optum Global Solutions</td>\n",
       "      <td>3.9★</td>\n",
       "      <td>₹13,28,697 /yr</td>\n",
       "      <td>₹4L--₹22L</td>\n",
       "    </tr>\n",
       "    <tr>\n",
       "      <th>8</th>\n",
       "      <td>ZS Associates</td>\n",
       "      <td>4★</td>\n",
       "      <td>₹11,42,356 /yr</td>\n",
       "      <td>₹2L--₹18L</td>\n",
       "    </tr>\n",
       "    <tr>\n",
       "      <th>9</th>\n",
       "      <td>EXL Service</td>\n",
       "      <td>3.6★</td>\n",
       "      <td>₹11,46,073 /yr</td>\n",
       "      <td>₹6L--₹15L</td>\n",
       "    </tr>\n",
       "  </tbody>\n",
       "</table>\n",
       "</div>"
      ],
      "text/plain": [
       "                Company_Name Ratings  Average_Salary MinMax_salary\n",
       "0                        IBM    3.9★   ₹9,00,000 /yr     ₹6L--₹27L\n",
       "1  Tata Consultancy Services    3.9★   ₹6,15,289 /yr     ₹3L--₹13L\n",
       "2                  Accenture      4★  ₹11,63,336 /yr     ₹6L--₹22L\n",
       "3                  Delhivery    3.9★  ₹12,18,244 /yr     ₹5L--₹1Cr\n",
       "4         Ericsson-Worldwide      4★   ₹7,39,238 /yr     ₹4L--₹16L\n",
       "5         UnitedHealth Group    3.7★  ₹13,38,279 /yr    ₹11L--₹15L\n",
       "6         Valiance Solutions    4.2★   ₹8,63,750 /yr     ₹5L--₹15L\n",
       "7     Optum Global Solutions    3.9★  ₹13,28,697 /yr     ₹4L--₹22L\n",
       "8              ZS Associates      4★  ₹11,42,356 /yr     ₹2L--₹18L\n",
       "9                EXL Service    3.6★  ₹11,46,073 /yr     ₹6L--₹15L"
      ]
     },
     "execution_count": 217,
     "metadata": {},
     "output_type": "execute_result"
    }
   ],
   "source": [
    "Job_position"
   ]
  },
  {
   "cell_type": "raw",
   "id": "b1239e52",
   "metadata": {},
   "source": [
    "Q6 : Scrape data of first 100 sunglasses listings on flipkart.com. You have to \n",
    "scrape four attributes:"
   ]
  },
  {
   "cell_type": "code",
   "execution_count": 2,
   "id": "f53b0656",
   "metadata": {},
   "outputs": [],
   "source": [
    "driver = webdriver.Chrome('chromedriver.exe')"
   ]
  },
  {
   "cell_type": "code",
   "execution_count": 3,
   "id": "de4232f1",
   "metadata": {},
   "outputs": [],
   "source": [
    "url = 'https://www.flipkart.com/'\n",
    "driver.get(url)"
   ]
  },
  {
   "cell_type": "code",
   "execution_count": 4,
   "id": "e3add130",
   "metadata": {},
   "outputs": [
    {
     "data": {
      "text/plain": [
       "<selenium.webdriver.remote.webelement.WebElement (session=\"01d6b1f127f20e1e5b5ed8e36623020b\", element=\"16e2d20a-d899-49fb-9f5e-e242c93488d1\")>"
      ]
     },
     "execution_count": 4,
     "metadata": {},
     "output_type": "execute_result"
    }
   ],
   "source": [
    "search_glasses = driver.find_element_by_class_name('_3704LK')\n",
    "search_glasses"
   ]
  },
  {
   "cell_type": "code",
   "execution_count": 5,
   "id": "c0661557",
   "metadata": {},
   "outputs": [],
   "source": [
    "## write on search bar\n",
    "search_glasses.send_keys('sunglasses')"
   ]
  },
  {
   "cell_type": "code",
   "execution_count": 8,
   "id": "3c63ce48",
   "metadata": {},
   "outputs": [],
   "source": [
    "## do click using xpath function\n",
    "search_btn = driver.find_element_by_xpath(\"//button[@class='L0Z3Pu']\")\n",
    "search_btn.click()"
   ]
  },
  {
   "cell_type": "code",
   "execution_count": 37,
   "id": "80dd6768",
   "metadata": {},
   "outputs": [],
   "source": [
    "## Scrapping the Brand details for 100 sunglasses\n",
    "\n",
    "sg = driver.find_elements_by_xpath(\"//div[@class='_2WkVRV']\")\n",
    "sunglasses = []"
   ]
  },
  {
   "cell_type": "code",
   "execution_count": 38,
   "id": "0fb1a926",
   "metadata": {},
   "outputs": [],
   "source": [
    "for i in range(1,4):\n",
    "    for s in sg:\n",
    "        sunglasses.append(s.text)\n",
    "    next_button = driver.find_element_by_xpath(\"//a[@class='_1LKTO3']\")    \n",
    "    next_button.click"
   ]
  },
  {
   "cell_type": "code",
   "execution_count": 39,
   "id": "1ad28159",
   "metadata": {
    "scrolled": true
   },
   "outputs": [
    {
     "data": {
      "text/plain": [
       "['Villain',\n",
       " 'AISLIN',\n",
       " 'Fastrack',\n",
       " 'Fastrack',\n",
       " 'kingsunglasses',\n",
       " 'Fastrack',\n",
       " 'PIRASO',\n",
       " 'ROYAL SON',\n",
       " 'Fastrack',\n",
       " 'IRUS by IDEE',\n",
       " 'PHENOMENAL',\n",
       " 'AISLIN',\n",
       " 'kingsunglasses',\n",
       " 'Fastrack',\n",
       " 'Fastrack',\n",
       " 'VINCENT CHASE',\n",
       " 'kingsunglasses',\n",
       " 'Fastrack',\n",
       " 'PHENOMENAL',\n",
       " 'AISLIN',\n",
       " 'Fastrack',\n",
       " 'GANSTA',\n",
       " 'kingsunglasses',\n",
       " 'OCHILA',\n",
       " 'Fastrack',\n",
       " 'ROZZETTA CRAFT',\n",
       " 'PIRASO',\n",
       " 'NuVew',\n",
       " 'DEIXELS',\n",
       " 'Fastrack',\n",
       " 'Fastrack',\n",
       " 'AISLIN',\n",
       " 'Fastrack',\n",
       " 'NuVew',\n",
       " 'hipe',\n",
       " 'Villain',\n",
       " 'kingsunglasses',\n",
       " 'Fastrack',\n",
       " 'IDEE',\n",
       " 'AISLIN',\n",
       " 'Villain',\n",
       " 'AISLIN',\n",
       " 'Fastrack',\n",
       " 'Fastrack',\n",
       " 'kingsunglasses',\n",
       " 'Fastrack',\n",
       " 'PIRASO',\n",
       " 'ROYAL SON',\n",
       " 'Fastrack',\n",
       " 'IRUS by IDEE',\n",
       " 'PHENOMENAL',\n",
       " 'AISLIN',\n",
       " 'kingsunglasses',\n",
       " 'Fastrack',\n",
       " 'Fastrack',\n",
       " 'VINCENT CHASE',\n",
       " 'kingsunglasses',\n",
       " 'Fastrack',\n",
       " 'PHENOMENAL',\n",
       " 'AISLIN',\n",
       " 'Fastrack',\n",
       " 'GANSTA',\n",
       " 'kingsunglasses',\n",
       " 'OCHILA',\n",
       " 'Fastrack',\n",
       " 'ROZZETTA CRAFT',\n",
       " 'PIRASO',\n",
       " 'NuVew',\n",
       " 'DEIXELS',\n",
       " 'Fastrack',\n",
       " 'Fastrack',\n",
       " 'AISLIN',\n",
       " 'Fastrack',\n",
       " 'NuVew',\n",
       " 'hipe',\n",
       " 'Villain',\n",
       " 'kingsunglasses',\n",
       " 'Fastrack',\n",
       " 'IDEE',\n",
       " 'AISLIN',\n",
       " 'Villain',\n",
       " 'AISLIN',\n",
       " 'Fastrack',\n",
       " 'Fastrack',\n",
       " 'kingsunglasses',\n",
       " 'Fastrack',\n",
       " 'PIRASO',\n",
       " 'ROYAL SON',\n",
       " 'Fastrack',\n",
       " 'IRUS by IDEE',\n",
       " 'PHENOMENAL',\n",
       " 'AISLIN',\n",
       " 'kingsunglasses',\n",
       " 'Fastrack',\n",
       " 'Fastrack',\n",
       " 'VINCENT CHASE',\n",
       " 'kingsunglasses',\n",
       " 'Fastrack',\n",
       " 'PHENOMENAL']"
      ]
     },
     "execution_count": 39,
     "metadata": {},
     "output_type": "execute_result"
    }
   ],
   "source": [
    "sunglasses[:99]"
   ]
  },
  {
   "cell_type": "code",
   "execution_count": 41,
   "id": "4a79b0e3",
   "metadata": {},
   "outputs": [],
   "source": [
    "## Scrapping product description\n",
    "\n",
    "prd = driver.find_elements_by_xpath(\"//a[@class='IRpwTa']\")\n",
    "Prd_desc = []"
   ]
  },
  {
   "cell_type": "code",
   "execution_count": 42,
   "id": "606b4bce",
   "metadata": {},
   "outputs": [],
   "source": [
    "for i in range(1,4):\n",
    "    for p in prd:\n",
    "        Prd_desc.append(p.text)\n",
    "    next_button = driver.find_element_by_xpath(\"//a[@class='_1LKTO3']\")\n",
    "    next_button.click"
   ]
  },
  {
   "cell_type": "code",
   "execution_count": 45,
   "id": "14a1cb91",
   "metadata": {
    "scrolled": true
   },
   "outputs": [
    {
     "data": {
      "text/plain": [
       "['Others Retro Square Sunglasses (Free Size)',\n",
       " 'UV Protection, Gradient Wayfarer Sunglasses (61)',\n",
       " 'UV Protection Wayfarer Sunglasses (Free Size)',\n",
       " 'UV Protection Rectangular Sunglasses (Free Size)',\n",
       " 'Mirrored, UV Protection Wayfarer Sunglasses (Free Size)',\n",
       " 'UV Protection, Polarized Wayfarer Sunglasses (56)',\n",
       " 'UV Protection Aviator Sunglasses (54)',\n",
       " 'Polarized Sports Sunglasses (68)',\n",
       " 'UV Protection Wayfarer Sunglasses (56)',\n",
       " 'Gradient Rectangular Sunglasses (56)',\n",
       " 'UV Protection Round Sunglasses (53)',\n",
       " 'UV Protection, Gradient Round, Cat-eye Sunglasses (60)',\n",
       " 'UV Protection Round Sunglasses (Free Size)',\n",
       " 'UV Protection Wrap-around Sunglasses (Free Size)',\n",
       " 'UV Protection Wayfarer Sunglasses (Free Size)',\n",
       " 'by Lenskart UV Protection Wayfarer Sunglasses (49)',\n",
       " 'Mirrored, UV Protection Wayfarer Sunglasses (Free Size)',\n",
       " 'UV Protection Wayfarer Sunglasses (Free Size)',\n",
       " 'UV Protection Retro Square Sunglasses (Free Size)',\n",
       " 'Polarized, UV Protection Wayfarer, Rectangular Sunglass...',\n",
       " 'UV Protection Aviator Sunglasses (61)',\n",
       " 'UV Protection Aviator Sunglasses (57)',\n",
       " 'UV Protection Round Sunglasses (54)',\n",
       " 'UV Protection Aviator Sunglasses (58)',\n",
       " 'UV Protection Aviator Sunglasses (Free Size)',\n",
       " 'UV Protection Retro Square Sunglasses (Free Size)',\n",
       " 'UV Protection Aviator Sunglasses (Free Size)',\n",
       " 'UV Protection Sports Sunglasses (73)',\n",
       " 'UV Protection Aviator, Wayfarer Sunglasses (Free Size)',\n",
       " 'UV Protection Aviator Sunglasses (58)',\n",
       " 'Gradient Aviator Sunglasses (Free Size)',\n",
       " 'UV Protection, Gradient Over-sized Sunglasses (63)',\n",
       " 'Gradient, UV Protection Wayfarer Sunglasses (Free Size)',\n",
       " 'UV Protection Aviator Sunglasses (58)',\n",
       " 'UV Protection Sports Sunglasses (Free Size)',\n",
       " 'Others Wayfarer Sunglasses (Free Size)',\n",
       " 'UV Protection Rectangular Sunglasses (55)',\n",
       " 'UV Protection Aviator Sunglasses (58)',\n",
       " 'Polarized Rectangular Sunglasses (55)',\n",
       " 'UV Protection Wayfarer, Rectangular Sunglasses (58)',\n",
       " 'Others Retro Square Sunglasses (Free Size)',\n",
       " 'UV Protection, Gradient Wayfarer Sunglasses (61)',\n",
       " 'UV Protection Wayfarer Sunglasses (Free Size)',\n",
       " 'UV Protection Rectangular Sunglasses (Free Size)',\n",
       " 'Mirrored, UV Protection Wayfarer Sunglasses (Free Size)',\n",
       " 'UV Protection, Polarized Wayfarer Sunglasses (56)',\n",
       " 'UV Protection Aviator Sunglasses (54)',\n",
       " 'Polarized Sports Sunglasses (68)',\n",
       " 'UV Protection Wayfarer Sunglasses (56)',\n",
       " 'Gradient Rectangular Sunglasses (56)',\n",
       " 'UV Protection Round Sunglasses (53)',\n",
       " 'UV Protection, Gradient Round, Cat-eye Sunglasses (60)',\n",
       " 'UV Protection Round Sunglasses (Free Size)',\n",
       " 'UV Protection Wrap-around Sunglasses (Free Size)',\n",
       " 'UV Protection Wayfarer Sunglasses (Free Size)',\n",
       " 'by Lenskart UV Protection Wayfarer Sunglasses (49)',\n",
       " 'Mirrored, UV Protection Wayfarer Sunglasses (Free Size)',\n",
       " 'UV Protection Wayfarer Sunglasses (Free Size)',\n",
       " 'UV Protection Retro Square Sunglasses (Free Size)',\n",
       " 'Polarized, UV Protection Wayfarer, Rectangular Sunglass...',\n",
       " 'UV Protection Aviator Sunglasses (61)',\n",
       " 'UV Protection Aviator Sunglasses (57)',\n",
       " 'UV Protection Round Sunglasses (54)',\n",
       " 'UV Protection Aviator Sunglasses (58)',\n",
       " 'UV Protection Aviator Sunglasses (Free Size)',\n",
       " 'UV Protection Retro Square Sunglasses (Free Size)',\n",
       " 'UV Protection Aviator Sunglasses (Free Size)',\n",
       " 'UV Protection Sports Sunglasses (73)',\n",
       " 'UV Protection Aviator, Wayfarer Sunglasses (Free Size)',\n",
       " 'UV Protection Aviator Sunglasses (58)',\n",
       " 'Gradient Aviator Sunglasses (Free Size)',\n",
       " 'UV Protection, Gradient Over-sized Sunglasses (63)',\n",
       " 'Gradient, UV Protection Wayfarer Sunglasses (Free Size)',\n",
       " 'UV Protection Aviator Sunglasses (58)',\n",
       " 'UV Protection Sports Sunglasses (Free Size)',\n",
       " 'Others Wayfarer Sunglasses (Free Size)',\n",
       " 'UV Protection Rectangular Sunglasses (55)',\n",
       " 'UV Protection Aviator Sunglasses (58)',\n",
       " 'Polarized Rectangular Sunglasses (55)',\n",
       " 'UV Protection Wayfarer, Rectangular Sunglasses (58)',\n",
       " 'Others Retro Square Sunglasses (Free Size)',\n",
       " 'UV Protection, Gradient Wayfarer Sunglasses (61)',\n",
       " 'UV Protection Wayfarer Sunglasses (Free Size)',\n",
       " 'UV Protection Rectangular Sunglasses (Free Size)',\n",
       " 'Mirrored, UV Protection Wayfarer Sunglasses (Free Size)',\n",
       " 'UV Protection, Polarized Wayfarer Sunglasses (56)',\n",
       " 'UV Protection Aviator Sunglasses (54)',\n",
       " 'Polarized Sports Sunglasses (68)',\n",
       " 'UV Protection Wayfarer Sunglasses (56)',\n",
       " 'Gradient Rectangular Sunglasses (56)',\n",
       " 'UV Protection Round Sunglasses (53)',\n",
       " 'UV Protection, Gradient Round, Cat-eye Sunglasses (60)',\n",
       " 'UV Protection Round Sunglasses (Free Size)',\n",
       " 'UV Protection Wrap-around Sunglasses (Free Size)',\n",
       " 'UV Protection Wayfarer Sunglasses (Free Size)',\n",
       " 'by Lenskart UV Protection Wayfarer Sunglasses (49)',\n",
       " 'Mirrored, UV Protection Wayfarer Sunglasses (Free Size)',\n",
       " 'UV Protection Wayfarer Sunglasses (Free Size)',\n",
       " 'UV Protection Retro Square Sunglasses (Free Size)']"
      ]
     },
     "execution_count": 45,
     "metadata": {},
     "output_type": "execute_result"
    }
   ],
   "source": [
    "Prd_desc[:99]"
   ]
  },
  {
   "cell_type": "code",
   "execution_count": 52,
   "id": "f3c3ff47",
   "metadata": {},
   "outputs": [],
   "source": [
    "## Scrapping the Price details\n",
    "prc = driver.find_elements_by_xpath(\"//div[@class='_30jeq3']\")\n",
    "price = []"
   ]
  },
  {
   "cell_type": "code",
   "execution_count": 53,
   "id": "4a83f42f",
   "metadata": {},
   "outputs": [],
   "source": [
    "for i in range(1,4):\n",
    "    for g in prc:\n",
    "        price.append(g.text)\n",
    "    next_button = driver.find_element_by_xpath(\"//a[@class='_1LKTO3']\")\n",
    "    next_button.click"
   ]
  },
  {
   "cell_type": "code",
   "execution_count": 56,
   "id": "46cfbc9f",
   "metadata": {
    "scrolled": true
   },
   "outputs": [
    {
     "data": {
      "text/plain": [
       "['₹449',\n",
       " '₹624',\n",
       " '₹682',\n",
       " '₹513',\n",
       " '₹299',\n",
       " '₹529',\n",
       " '₹237',\n",
       " '₹1,234',\n",
       " '₹649',\n",
       " '₹499',\n",
       " '₹297',\n",
       " '₹525',\n",
       " '₹349',\n",
       " '₹529',\n",
       " '₹499',\n",
       " '₹1,120',\n",
       " '₹299',\n",
       " '₹647',\n",
       " '₹399',\n",
       " '₹964',\n",
       " '₹619',\n",
       " '₹281',\n",
       " '₹225',\n",
       " '₹255',\n",
       " '₹592',\n",
       " '₹499',\n",
       " '₹331',\n",
       " '₹348',\n",
       " '₹213',\n",
       " '₹1,003',\n",
       " '₹1,189',\n",
       " '₹917',\n",
       " '₹558',\n",
       " '₹215',\n",
       " '₹299',\n",
       " '₹562',\n",
       " '₹349',\n",
       " '₹976',\n",
       " '₹849',\n",
       " '₹446',\n",
       " '₹449',\n",
       " '₹624',\n",
       " '₹682',\n",
       " '₹513',\n",
       " '₹299',\n",
       " '₹529',\n",
       " '₹237',\n",
       " '₹1,234',\n",
       " '₹649',\n",
       " '₹499',\n",
       " '₹297',\n",
       " '₹525',\n",
       " '₹349',\n",
       " '₹529',\n",
       " '₹499',\n",
       " '₹1,120',\n",
       " '₹299',\n",
       " '₹647',\n",
       " '₹399',\n",
       " '₹964',\n",
       " '₹619',\n",
       " '₹281',\n",
       " '₹225',\n",
       " '₹255',\n",
       " '₹592',\n",
       " '₹499',\n",
       " '₹331',\n",
       " '₹348',\n",
       " '₹213',\n",
       " '₹1,003',\n",
       " '₹1,189',\n",
       " '₹917',\n",
       " '₹558',\n",
       " '₹215',\n",
       " '₹299',\n",
       " '₹562',\n",
       " '₹349',\n",
       " '₹976',\n",
       " '₹849',\n",
       " '₹446',\n",
       " '₹449',\n",
       " '₹624',\n",
       " '₹682',\n",
       " '₹513',\n",
       " '₹299',\n",
       " '₹529',\n",
       " '₹237',\n",
       " '₹1,234',\n",
       " '₹649',\n",
       " '₹499',\n",
       " '₹297',\n",
       " '₹525',\n",
       " '₹349',\n",
       " '₹529',\n",
       " '₹499',\n",
       " '₹1,120',\n",
       " '₹299',\n",
       " '₹647',\n",
       " '₹399']"
      ]
     },
     "execution_count": 56,
     "metadata": {},
     "output_type": "execute_result"
    }
   ],
   "source": [
    "price[:99]"
   ]
  },
  {
   "cell_type": "code",
   "execution_count": 57,
   "id": "9072ca04",
   "metadata": {},
   "outputs": [],
   "source": [
    "# Scrapping the discount\n",
    "ds = driver.find_elements_by_xpath(\"//div[@class='_3Ay6Sb']\")\n",
    "discount = []"
   ]
  },
  {
   "cell_type": "code",
   "execution_count": 58,
   "id": "44031d22",
   "metadata": {},
   "outputs": [],
   "source": [
    "for i in range(1,4):\n",
    "    for d in ds:\n",
    "        discount.append(d.text)\n",
    "    next_button = driver.find_element_by_xpath(\"//a[@class='_1LKTO3']\")\n",
    "    next_button.click"
   ]
  },
  {
   "cell_type": "code",
   "execution_count": 61,
   "id": "1845bd99",
   "metadata": {
    "scrolled": true
   },
   "outputs": [
    {
     "data": {
      "text/plain": [
       "['40% off',\n",
       " '77% off',\n",
       " '24% off',\n",
       " '35% off',\n",
       " '88% off',\n",
       " '41% off',\n",
       " '85% off',\n",
       " '50% off',\n",
       " '27% off',\n",
       " '61% off',\n",
       " '87% off',\n",
       " '69% off',\n",
       " '78% off',\n",
       " '41% off',\n",
       " '37% off',\n",
       " '43% off',\n",
       " '88% off',\n",
       " '28% off',\n",
       " '80% off',\n",
       " '75% off',\n",
       " '31% off',\n",
       " '85% off',\n",
       " '79% off',\n",
       " '78% off',\n",
       " '34% off',\n",
       " '77% off',\n",
       " '79% off',\n",
       " '72% off',\n",
       " '82% off',\n",
       " '22% off',\n",
       " '40% off',\n",
       " '77% off',\n",
       " '30% off',\n",
       " '72% off',\n",
       " '84% off',\n",
       " '43% off',\n",
       " '76% off',\n",
       " '24% off',\n",
       " '68% off',\n",
       " '79% off',\n",
       " '40% off',\n",
       " '77% off',\n",
       " '24% off',\n",
       " '35% off',\n",
       " '88% off',\n",
       " '41% off',\n",
       " '85% off',\n",
       " '50% off',\n",
       " '27% off',\n",
       " '61% off',\n",
       " '87% off',\n",
       " '69% off',\n",
       " '78% off',\n",
       " '41% off',\n",
       " '37% off',\n",
       " '43% off',\n",
       " '88% off',\n",
       " '28% off',\n",
       " '80% off',\n",
       " '75% off',\n",
       " '31% off',\n",
       " '85% off',\n",
       " '79% off',\n",
       " '78% off',\n",
       " '34% off',\n",
       " '77% off',\n",
       " '79% off',\n",
       " '72% off',\n",
       " '82% off',\n",
       " '22% off',\n",
       " '40% off',\n",
       " '77% off',\n",
       " '30% off',\n",
       " '72% off',\n",
       " '84% off',\n",
       " '43% off',\n",
       " '76% off',\n",
       " '24% off',\n",
       " '68% off',\n",
       " '79% off',\n",
       " '40% off',\n",
       " '77% off',\n",
       " '24% off',\n",
       " '35% off',\n",
       " '88% off',\n",
       " '41% off',\n",
       " '85% off',\n",
       " '50% off',\n",
       " '27% off',\n",
       " '61% off',\n",
       " '87% off',\n",
       " '69% off',\n",
       " '78% off',\n",
       " '41% off',\n",
       " '37% off',\n",
       " '43% off',\n",
       " '88% off',\n",
       " '28% off',\n",
       " '80% off']"
      ]
     },
     "execution_count": 61,
     "metadata": {},
     "output_type": "execute_result"
    }
   ],
   "source": [
    "discount[:99]"
   ]
  },
  {
   "cell_type": "raw",
   "id": "d3f5b170",
   "metadata": {},
   "source": [
    "Q 7) Scrape 100 reviews data from flipkart.com for iphone11 phone."
   ]
  },
  {
   "cell_type": "code",
   "execution_count": 102,
   "id": "99c95304",
   "metadata": {},
   "outputs": [],
   "source": [
    "driver = webdriver.Chrome('chromedriver.exe')"
   ]
  },
  {
   "cell_type": "code",
   "execution_count": 103,
   "id": "95adbba0",
   "metadata": {},
   "outputs": [],
   "source": [
    "url = 'https://www.flipkart.com/apple-iphone-11-black-64-gb-includes-earpods-power-adapter/p/itm0f37c2240b217?pid=MOBFKCTSVZAXUHGR&lid=LSTMOBFKCTSVZAXUHGREPBFGI&marketplace'\n",
    "driver.get(url)"
   ]
  },
  {
   "cell_type": "code",
   "execution_count": 117,
   "id": "d052d342",
   "metadata": {},
   "outputs": [],
   "source": [
    "## Scrapping the ratings\n",
    "rat = driver.find_elements_by_xpath(\"//div[@class='_3LWZlK _1BLPMq']\")\n",
    "Ratings = []"
   ]
  },
  {
   "cell_type": "code",
   "execution_count": 130,
   "id": "8facaba5",
   "metadata": {},
   "outputs": [],
   "source": [
    "for i in range(1,10):\n",
    "    for r in rat:\n",
    "        try:\n",
    "            Ratings.append(r.text)\n",
    "        except StaleElementReferenceException:\n",
    "            Ratings.append('-')\n",
    "    next_button = driver.find_element_by_xpath(\"//a[@class='_1LKTO3']\")\n",
    "    next_button.click"
   ]
  },
  {
   "cell_type": "code",
   "execution_count": 132,
   "id": "ff595c96",
   "metadata": {
    "scrolled": true
   },
   "outputs": [
    {
     "data": {
      "text/plain": [
       "['5',\n",
       " '5',\n",
       " '5',\n",
       " '5',\n",
       " '5',\n",
       " '4',\n",
       " '5',\n",
       " '5',\n",
       " '5',\n",
       " '5',\n",
       " '5',\n",
       " '5',\n",
       " '5',\n",
       " '5',\n",
       " '5',\n",
       " '4',\n",
       " '5',\n",
       " '5',\n",
       " '5',\n",
       " '5',\n",
       " '5',\n",
       " '5',\n",
       " '5',\n",
       " '5',\n",
       " '5',\n",
       " '4',\n",
       " '5',\n",
       " '5',\n",
       " '5',\n",
       " '5',\n",
       " '5',\n",
       " '5',\n",
       " '5',\n",
       " '5',\n",
       " '5',\n",
       " '4',\n",
       " '5',\n",
       " '5',\n",
       " '5',\n",
       " '5',\n",
       " '5',\n",
       " '5',\n",
       " '5',\n",
       " '5',\n",
       " '5',\n",
       " '4',\n",
       " '5',\n",
       " '5',\n",
       " '5',\n",
       " '5',\n",
       " '5',\n",
       " '5',\n",
       " '5',\n",
       " '5',\n",
       " '5',\n",
       " '4',\n",
       " '5',\n",
       " '5',\n",
       " '5',\n",
       " '5',\n",
       " '5',\n",
       " '5',\n",
       " '5',\n",
       " '5',\n",
       " '5',\n",
       " '4',\n",
       " '5',\n",
       " '5',\n",
       " '5',\n",
       " '5',\n",
       " '5',\n",
       " '5',\n",
       " '5',\n",
       " '5',\n",
       " '5',\n",
       " '4',\n",
       " '5',\n",
       " '5',\n",
       " '5',\n",
       " '5',\n",
       " '5',\n",
       " '5',\n",
       " '5',\n",
       " '5',\n",
       " '5',\n",
       " '4',\n",
       " '5',\n",
       " '5',\n",
       " '5',\n",
       " '5',\n",
       " '5',\n",
       " '5',\n",
       " '5',\n",
       " '5',\n",
       " '5',\n",
       " '4',\n",
       " '5',\n",
       " '5',\n",
       " '5']"
      ]
     },
     "execution_count": 132,
     "metadata": {},
     "output_type": "execute_result"
    }
   ],
   "source": [
    "Ratings[:99]"
   ]
  },
  {
   "cell_type": "code",
   "execution_count": 147,
   "id": "97cdf192",
   "metadata": {},
   "outputs": [],
   "source": [
    "# Scrapping Full Review summary\n",
    "review = driver.find_elements_by_xpath(\"//div[@class='t-ZTKy']\")\n",
    "full_review = []"
   ]
  },
  {
   "cell_type": "code",
   "execution_count": 148,
   "id": "debae1b3",
   "metadata": {},
   "outputs": [],
   "source": [
    "for i in range(1,10):\n",
    "    for s in review:\n",
    "        try:\n",
    "            full_review.append(s.text.replace('\\n','').strip())\n",
    "        except StaleElementReferenceException:\n",
    "            full_review.append('-')\n",
    "    next_button = driver.find_element_by_xpath(\"//a[@class='_1LKTO3']\")\n",
    "    next_button.click"
   ]
  },
  {
   "cell_type": "code",
   "execution_count": 149,
   "id": "18725737",
   "metadata": {},
   "outputs": [
    {
     "data": {
      "text/plain": [
       "['The Best Phone for the MoneyThe iPhone 11 offers superb cameras, a more durable design and excellent battery life for an affordable price.Compelling ultra-wide cameraNew Night mode is excellentLong battery life',\n",
       " 'Amazing phone with great cameras and better battery which gives you the best performance. I just love the camera .',\n",
       " 'Previously I was using one plus 3t it was a great phoneAnd then I decided to upgrade I am stuck between Samsung s10 plus or iPhone 11I have seen the specs and everything were good except the display it’s somewhere between 720-1080 and it’s not even an amoled it’s an LCD displayBut I decided to go with iPhone because I have never used an IOS device I have Been an android user from the past 9 years I ordered IPhone 11 (128gb) product redMy experience after using 3 weeks1. The delivery ...READ MORE',\n",
       " 'Amazing Powerful and Durable Gadget.I’m am very happy with the camera picture quality, Amazing face id unlocked in dark room, Strong battery with perfect screen size as you can carry easily in pocket. This is my third iPhone.I shifted from android Samsung Note series to iPhone because of the strong build quality and peace of mind for next 3-4 years.Don’t think to much just go for it and I suggest you to go for minimum 128gb variant or more 256gb.I’ve attached my puppy pics and no fi...READ MORE',\n",
       " 'This is my first iOS phone. I am very happy with this product. Very much satisfied with this. I love this phone.',\n",
       " 'So far it’s been an AMAZING experience coming back to iOS after nearly a decade but it’s not as versatile as android though phone is sturdy dropped it accidentally a couple of times and nothing happened fortunately camera is awesome',\n",
       " 'Really satisfied with the Product I received... It’s totally genuine and the packaging was also really good so if ur planning to buy just go for it.',\n",
       " 'i11 is worthy to buy, too much happy with the product. Thank u flipkart I received the item on time..loved it..',\n",
       " 'iphone 11 is a very good phone to buy only if you can compromise for the display. The display on this is device is pretty good but you can get other options with better displays in this price segment.If you can survive with an HD+ LCD panel with thicker bezels and a notch up top then this is a very good phone for you.Cameras are awesome, battery backup excellent, great performance and a decent premium look. Good job Apple !',\n",
       " 'It’s a must buy who is looking for an upgrade from previous generation of iPhones. If you are using XR then still you can hold on for sometime and upgrade to 2020 model else this phone is a must buy . Camera quality is amazing and wide angle is something to count upon. Performance wise it’s amazing and feels premium while holding in hand. So a big YES for this device. Go for 128 GB variant as the 4K videos will occupy lots of space and the storage can get over very quickly. Try to buy it with...READ MORE',\n",
       " 'The Best Phone for the MoneyThe iPhone 11 offers superb cameras, a more durable design and excellent battery life for an affordable price.Compelling ultra-wide cameraNew Night mode is excellentLong battery life',\n",
       " 'Amazing phone with great cameras and better battery which gives you the best performance. I just love the camera .',\n",
       " 'Previously I was using one plus 3t it was a great phoneAnd then I decided to upgrade I am stuck between Samsung s10 plus or iPhone 11I have seen the specs and everything were good except the display it’s somewhere between 720-1080 and it’s not even an amoled it’s an LCD displayBut I decided to go with iPhone because I have never used an IOS device I have Been an android user from the past 9 years I ordered IPhone 11 (128gb) product redMy experience after using 3 weeks1. The delivery ...READ MORE',\n",
       " 'Amazing Powerful and Durable Gadget.I’m am very happy with the camera picture quality, Amazing face id unlocked in dark room, Strong battery with perfect screen size as you can carry easily in pocket. This is my third iPhone.I shifted from android Samsung Note series to iPhone because of the strong build quality and peace of mind for next 3-4 years.Don’t think to much just go for it and I suggest you to go for minimum 128gb variant or more 256gb.I’ve attached my puppy pics and no fi...READ MORE',\n",
       " 'This is my first iOS phone. I am very happy with this product. Very much satisfied with this. I love this phone.',\n",
       " 'So far it’s been an AMAZING experience coming back to iOS after nearly a decade but it’s not as versatile as android though phone is sturdy dropped it accidentally a couple of times and nothing happened fortunately camera is awesome',\n",
       " 'Really satisfied with the Product I received... It’s totally genuine and the packaging was also really good so if ur planning to buy just go for it.',\n",
       " 'i11 is worthy to buy, too much happy with the product. Thank u flipkart I received the item on time..loved it..',\n",
       " 'iphone 11 is a very good phone to buy only if you can compromise for the display. The display on this is device is pretty good but you can get other options with better displays in this price segment.If you can survive with an HD+ LCD panel with thicker bezels and a notch up top then this is a very good phone for you.Cameras are awesome, battery backup excellent, great performance and a decent premium look. Good job Apple !',\n",
       " 'It’s a must buy who is looking for an upgrade from previous generation of iPhones. If you are using XR then still you can hold on for sometime and upgrade to 2020 model else this phone is a must buy . Camera quality is amazing and wide angle is something to count upon. Performance wise it’s amazing and feels premium while holding in hand. So a big YES for this device. Go for 128 GB variant as the 4K videos will occupy lots of space and the storage can get over very quickly. Try to buy it with...READ MORE',\n",
       " 'The Best Phone for the MoneyThe iPhone 11 offers superb cameras, a more durable design and excellent battery life for an affordable price.Compelling ultra-wide cameraNew Night mode is excellentLong battery life',\n",
       " 'Amazing phone with great cameras and better battery which gives you the best performance. I just love the camera .',\n",
       " 'Previously I was using one plus 3t it was a great phoneAnd then I decided to upgrade I am stuck between Samsung s10 plus or iPhone 11I have seen the specs and everything were good except the display it’s somewhere between 720-1080 and it’s not even an amoled it’s an LCD displayBut I decided to go with iPhone because I have never used an IOS device I have Been an android user from the past 9 years I ordered IPhone 11 (128gb) product redMy experience after using 3 weeks1. The delivery ...READ MORE',\n",
       " 'Amazing Powerful and Durable Gadget.I’m am very happy with the camera picture quality, Amazing face id unlocked in dark room, Strong battery with perfect screen size as you can carry easily in pocket. This is my third iPhone.I shifted from android Samsung Note series to iPhone because of the strong build quality and peace of mind for next 3-4 years.Don’t think to much just go for it and I suggest you to go for minimum 128gb variant or more 256gb.I’ve attached my puppy pics and no fi...READ MORE',\n",
       " 'This is my first iOS phone. I am very happy with this product. Very much satisfied with this. I love this phone.',\n",
       " 'So far it’s been an AMAZING experience coming back to iOS after nearly a decade but it’s not as versatile as android though phone is sturdy dropped it accidentally a couple of times and nothing happened fortunately camera is awesome',\n",
       " 'Really satisfied with the Product I received... It’s totally genuine and the packaging was also really good so if ur planning to buy just go for it.',\n",
       " 'i11 is worthy to buy, too much happy with the product. Thank u flipkart I received the item on time..loved it..',\n",
       " 'iphone 11 is a very good phone to buy only if you can compromise for the display. The display on this is device is pretty good but you can get other options with better displays in this price segment.If you can survive with an HD+ LCD panel with thicker bezels and a notch up top then this is a very good phone for you.Cameras are awesome, battery backup excellent, great performance and a decent premium look. Good job Apple !',\n",
       " 'It’s a must buy who is looking for an upgrade from previous generation of iPhones. If you are using XR then still you can hold on for sometime and upgrade to 2020 model else this phone is a must buy . Camera quality is amazing and wide angle is something to count upon. Performance wise it’s amazing and feels premium while holding in hand. So a big YES for this device. Go for 128 GB variant as the 4K videos will occupy lots of space and the storage can get over very quickly. Try to buy it with...READ MORE',\n",
       " 'The Best Phone for the MoneyThe iPhone 11 offers superb cameras, a more durable design and excellent battery life for an affordable price.Compelling ultra-wide cameraNew Night mode is excellentLong battery life',\n",
       " 'Amazing phone with great cameras and better battery which gives you the best performance. I just love the camera .',\n",
       " 'Previously I was using one plus 3t it was a great phoneAnd then I decided to upgrade I am stuck between Samsung s10 plus or iPhone 11I have seen the specs and everything were good except the display it’s somewhere between 720-1080 and it’s not even an amoled it’s an LCD displayBut I decided to go with iPhone because I have never used an IOS device I have Been an android user from the past 9 years I ordered IPhone 11 (128gb) product redMy experience after using 3 weeks1. The delivery ...READ MORE',\n",
       " 'Amazing Powerful and Durable Gadget.I’m am very happy with the camera picture quality, Amazing face id unlocked in dark room, Strong battery with perfect screen size as you can carry easily in pocket. This is my third iPhone.I shifted from android Samsung Note series to iPhone because of the strong build quality and peace of mind for next 3-4 years.Don’t think to much just go for it and I suggest you to go for minimum 128gb variant or more 256gb.I’ve attached my puppy pics and no fi...READ MORE',\n",
       " 'This is my first iOS phone. I am very happy with this product. Very much satisfied with this. I love this phone.',\n",
       " 'So far it’s been an AMAZING experience coming back to iOS after nearly a decade but it’s not as versatile as android though phone is sturdy dropped it accidentally a couple of times and nothing happened fortunately camera is awesome',\n",
       " 'Really satisfied with the Product I received... It’s totally genuine and the packaging was also really good so if ur planning to buy just go for it.',\n",
       " 'i11 is worthy to buy, too much happy with the product. Thank u flipkart I received the item on time..loved it..',\n",
       " 'iphone 11 is a very good phone to buy only if you can compromise for the display. The display on this is device is pretty good but you can get other options with better displays in this price segment.If you can survive with an HD+ LCD panel with thicker bezels and a notch up top then this is a very good phone for you.Cameras are awesome, battery backup excellent, great performance and a decent premium look. Good job Apple !',\n",
       " 'It’s a must buy who is looking for an upgrade from previous generation of iPhones. If you are using XR then still you can hold on for sometime and upgrade to 2020 model else this phone is a must buy . Camera quality is amazing and wide angle is something to count upon. Performance wise it’s amazing and feels premium while holding in hand. So a big YES for this device. Go for 128 GB variant as the 4K videos will occupy lots of space and the storage can get over very quickly. Try to buy it with...READ MORE',\n",
       " 'The Best Phone for the MoneyThe iPhone 11 offers superb cameras, a more durable design and excellent battery life for an affordable price.Compelling ultra-wide cameraNew Night mode is excellentLong battery life',\n",
       " 'Amazing phone with great cameras and better battery which gives you the best performance. I just love the camera .',\n",
       " 'Previously I was using one plus 3t it was a great phoneAnd then I decided to upgrade I am stuck between Samsung s10 plus or iPhone 11I have seen the specs and everything were good except the display it’s somewhere between 720-1080 and it’s not even an amoled it’s an LCD displayBut I decided to go with iPhone because I have never used an IOS device I have Been an android user from the past 9 years I ordered IPhone 11 (128gb) product redMy experience after using 3 weeks1. The delivery ...READ MORE',\n",
       " 'Amazing Powerful and Durable Gadget.I’m am very happy with the camera picture quality, Amazing face id unlocked in dark room, Strong battery with perfect screen size as you can carry easily in pocket. This is my third iPhone.I shifted from android Samsung Note series to iPhone because of the strong build quality and peace of mind for next 3-4 years.Don’t think to much just go for it and I suggest you to go for minimum 128gb variant or more 256gb.I’ve attached my puppy pics and no fi...READ MORE',\n",
       " 'This is my first iOS phone. I am very happy with this product. Very much satisfied with this. I love this phone.',\n",
       " 'So far it’s been an AMAZING experience coming back to iOS after nearly a decade but it’s not as versatile as android though phone is sturdy dropped it accidentally a couple of times and nothing happened fortunately camera is awesome',\n",
       " 'Really satisfied with the Product I received... It’s totally genuine and the packaging was also really good so if ur planning to buy just go for it.',\n",
       " 'i11 is worthy to buy, too much happy with the product. Thank u flipkart I received the item on time..loved it..',\n",
       " 'iphone 11 is a very good phone to buy only if you can compromise for the display. The display on this is device is pretty good but you can get other options with better displays in this price segment.If you can survive with an HD+ LCD panel with thicker bezels and a notch up top then this is a very good phone for you.Cameras are awesome, battery backup excellent, great performance and a decent premium look. Good job Apple !',\n",
       " 'It’s a must buy who is looking for an upgrade from previous generation of iPhones. If you are using XR then still you can hold on for sometime and upgrade to 2020 model else this phone is a must buy . Camera quality is amazing and wide angle is something to count upon. Performance wise it’s amazing and feels premium while holding in hand. So a big YES for this device. Go for 128 GB variant as the 4K videos will occupy lots of space and the storage can get over very quickly. Try to buy it with...READ MORE',\n",
       " 'The Best Phone for the MoneyThe iPhone 11 offers superb cameras, a more durable design and excellent battery life for an affordable price.Compelling ultra-wide cameraNew Night mode is excellentLong battery life',\n",
       " 'Amazing phone with great cameras and better battery which gives you the best performance. I just love the camera .',\n",
       " 'Previously I was using one plus 3t it was a great phoneAnd then I decided to upgrade I am stuck between Samsung s10 plus or iPhone 11I have seen the specs and everything were good except the display it’s somewhere between 720-1080 and it’s not even an amoled it’s an LCD displayBut I decided to go with iPhone because I have never used an IOS device I have Been an android user from the past 9 years I ordered IPhone 11 (128gb) product redMy experience after using 3 weeks1. The delivery ...READ MORE',\n",
       " 'Amazing Powerful and Durable Gadget.I’m am very happy with the camera picture quality, Amazing face id unlocked in dark room, Strong battery with perfect screen size as you can carry easily in pocket. This is my third iPhone.I shifted from android Samsung Note series to iPhone because of the strong build quality and peace of mind for next 3-4 years.Don’t think to much just go for it and I suggest you to go for minimum 128gb variant or more 256gb.I’ve attached my puppy pics and no fi...READ MORE',\n",
       " 'This is my first iOS phone. I am very happy with this product. Very much satisfied with this. I love this phone.',\n",
       " 'So far it’s been an AMAZING experience coming back to iOS after nearly a decade but it’s not as versatile as android though phone is sturdy dropped it accidentally a couple of times and nothing happened fortunately camera is awesome',\n",
       " 'Really satisfied with the Product I received... It’s totally genuine and the packaging was also really good so if ur planning to buy just go for it.',\n",
       " 'i11 is worthy to buy, too much happy with the product. Thank u flipkart I received the item on time..loved it..',\n",
       " 'iphone 11 is a very good phone to buy only if you can compromise for the display. The display on this is device is pretty good but you can get other options with better displays in this price segment.If you can survive with an HD+ LCD panel with thicker bezels and a notch up top then this is a very good phone for you.Cameras are awesome, battery backup excellent, great performance and a decent premium look. Good job Apple !',\n",
       " 'It’s a must buy who is looking for an upgrade from previous generation of iPhones. If you are using XR then still you can hold on for sometime and upgrade to 2020 model else this phone is a must buy . Camera quality is amazing and wide angle is something to count upon. Performance wise it’s amazing and feels premium while holding in hand. So a big YES for this device. Go for 128 GB variant as the 4K videos will occupy lots of space and the storage can get over very quickly. Try to buy it with...READ MORE',\n",
       " 'The Best Phone for the MoneyThe iPhone 11 offers superb cameras, a more durable design and excellent battery life for an affordable price.Compelling ultra-wide cameraNew Night mode is excellentLong battery life',\n",
       " 'Amazing phone with great cameras and better battery which gives you the best performance. I just love the camera .',\n",
       " 'Previously I was using one plus 3t it was a great phoneAnd then I decided to upgrade I am stuck between Samsung s10 plus or iPhone 11I have seen the specs and everything were good except the display it’s somewhere between 720-1080 and it’s not even an amoled it’s an LCD displayBut I decided to go with iPhone because I have never used an IOS device I have Been an android user from the past 9 years I ordered IPhone 11 (128gb) product redMy experience after using 3 weeks1. The delivery ...READ MORE',\n",
       " 'Amazing Powerful and Durable Gadget.I’m am very happy with the camera picture quality, Amazing face id unlocked in dark room, Strong battery with perfect screen size as you can carry easily in pocket. This is my third iPhone.I shifted from android Samsung Note series to iPhone because of the strong build quality and peace of mind for next 3-4 years.Don’t think to much just go for it and I suggest you to go for minimum 128gb variant or more 256gb.I’ve attached my puppy pics and no fi...READ MORE',\n",
       " 'This is my first iOS phone. I am very happy with this product. Very much satisfied with this. I love this phone.',\n",
       " 'So far it’s been an AMAZING experience coming back to iOS after nearly a decade but it’s not as versatile as android though phone is sturdy dropped it accidentally a couple of times and nothing happened fortunately camera is awesome',\n",
       " 'Really satisfied with the Product I received... It’s totally genuine and the packaging was also really good so if ur planning to buy just go for it.',\n",
       " 'i11 is worthy to buy, too much happy with the product. Thank u flipkart I received the item on time..loved it..',\n",
       " 'iphone 11 is a very good phone to buy only if you can compromise for the display. The display on this is device is pretty good but you can get other options with better displays in this price segment.If you can survive with an HD+ LCD panel with thicker bezels and a notch up top then this is a very good phone for you.Cameras are awesome, battery backup excellent, great performance and a decent premium look. Good job Apple !',\n",
       " 'It’s a must buy who is looking for an upgrade from previous generation of iPhones. If you are using XR then still you can hold on for sometime and upgrade to 2020 model else this phone is a must buy . Camera quality is amazing and wide angle is something to count upon. Performance wise it’s amazing and feels premium while holding in hand. So a big YES for this device. Go for 128 GB variant as the 4K videos will occupy lots of space and the storage can get over very quickly. Try to buy it with...READ MORE',\n",
       " 'The Best Phone for the MoneyThe iPhone 11 offers superb cameras, a more durable design and excellent battery life for an affordable price.Compelling ultra-wide cameraNew Night mode is excellentLong battery life',\n",
       " 'Amazing phone with great cameras and better battery which gives you the best performance. I just love the camera .',\n",
       " 'Previously I was using one plus 3t it was a great phoneAnd then I decided to upgrade I am stuck between Samsung s10 plus or iPhone 11I have seen the specs and everything were good except the display it’s somewhere between 720-1080 and it’s not even an amoled it’s an LCD displayBut I decided to go with iPhone because I have never used an IOS device I have Been an android user from the past 9 years I ordered IPhone 11 (128gb) product redMy experience after using 3 weeks1. The delivery ...READ MORE',\n",
       " 'Amazing Powerful and Durable Gadget.I’m am very happy with the camera picture quality, Amazing face id unlocked in dark room, Strong battery with perfect screen size as you can carry easily in pocket. This is my third iPhone.I shifted from android Samsung Note series to iPhone because of the strong build quality and peace of mind for next 3-4 years.Don’t think to much just go for it and I suggest you to go for minimum 128gb variant or more 256gb.I’ve attached my puppy pics and no fi...READ MORE',\n",
       " 'This is my first iOS phone. I am very happy with this product. Very much satisfied with this. I love this phone.',\n",
       " 'So far it’s been an AMAZING experience coming back to iOS after nearly a decade but it’s not as versatile as android though phone is sturdy dropped it accidentally a couple of times and nothing happened fortunately camera is awesome',\n",
       " 'Really satisfied with the Product I received... It’s totally genuine and the packaging was also really good so if ur planning to buy just go for it.',\n",
       " 'i11 is worthy to buy, too much happy with the product. Thank u flipkart I received the item on time..loved it..',\n",
       " 'iphone 11 is a very good phone to buy only if you can compromise for the display. The display on this is device is pretty good but you can get other options with better displays in this price segment.If you can survive with an HD+ LCD panel with thicker bezels and a notch up top then this is a very good phone for you.Cameras are awesome, battery backup excellent, great performance and a decent premium look. Good job Apple !',\n",
       " 'It’s a must buy who is looking for an upgrade from previous generation of iPhones. If you are using XR then still you can hold on for sometime and upgrade to 2020 model else this phone is a must buy . Camera quality is amazing and wide angle is something to count upon. Performance wise it’s amazing and feels premium while holding in hand. So a big YES for this device. Go for 128 GB variant as the 4K videos will occupy lots of space and the storage can get over very quickly. Try to buy it with...READ MORE',\n",
       " 'The Best Phone for the MoneyThe iPhone 11 offers superb cameras, a more durable design and excellent battery life for an affordable price.Compelling ultra-wide cameraNew Night mode is excellentLong battery life',\n",
       " 'Amazing phone with great cameras and better battery which gives you the best performance. I just love the camera .',\n",
       " 'Previously I was using one plus 3t it was a great phoneAnd then I decided to upgrade I am stuck between Samsung s10 plus or iPhone 11I have seen the specs and everything were good except the display it’s somewhere between 720-1080 and it’s not even an amoled it’s an LCD displayBut I decided to go with iPhone because I have never used an IOS device I have Been an android user from the past 9 years I ordered IPhone 11 (128gb) product redMy experience after using 3 weeks1. The delivery ...READ MORE',\n",
       " 'Amazing Powerful and Durable Gadget.I’m am very happy with the camera picture quality, Amazing face id unlocked in dark room, Strong battery with perfect screen size as you can carry easily in pocket. This is my third iPhone.I shifted from android Samsung Note series to iPhone because of the strong build quality and peace of mind for next 3-4 years.Don’t think to much just go for it and I suggest you to go for minimum 128gb variant or more 256gb.I’ve attached my puppy pics and no fi...READ MORE',\n",
       " 'This is my first iOS phone. I am very happy with this product. Very much satisfied with this. I love this phone.',\n",
       " 'So far it’s been an AMAZING experience coming back to iOS after nearly a decade but it’s not as versatile as android though phone is sturdy dropped it accidentally a couple of times and nothing happened fortunately camera is awesome',\n",
       " 'Really satisfied with the Product I received... It’s totally genuine and the packaging was also really good so if ur planning to buy just go for it.',\n",
       " 'i11 is worthy to buy, too much happy with the product. Thank u flipkart I received the item on time..loved it..',\n",
       " 'iphone 11 is a very good phone to buy only if you can compromise for the display. The display on this is device is pretty good but you can get other options with better displays in this price segment.If you can survive with an HD+ LCD panel with thicker bezels and a notch up top then this is a very good phone for you.Cameras are awesome, battery backup excellent, great performance and a decent premium look. Good job Apple !',\n",
       " 'It’s a must buy who is looking for an upgrade from previous generation of iPhones. If you are using XR then still you can hold on for sometime and upgrade to 2020 model else this phone is a must buy . Camera quality is amazing and wide angle is something to count upon. Performance wise it’s amazing and feels premium while holding in hand. So a big YES for this device. Go for 128 GB variant as the 4K videos will occupy lots of space and the storage can get over very quickly. Try to buy it with...READ MORE']"
      ]
     },
     "execution_count": 149,
     "metadata": {},
     "output_type": "execute_result"
    }
   ],
   "source": [
    "full_review[:99]"
   ]
  },
  {
   "cell_type": "code",
   "execution_count": 162,
   "id": "e4314691",
   "metadata": {},
   "outputs": [],
   "source": [
    "#  Scrapping the review summary\n",
    "summary = driver.find_elements_by_xpath(\"//p[@class ='_2-N8zT']\")\n",
    "sum_review = [] "
   ]
  },
  {
   "cell_type": "code",
   "execution_count": 165,
   "id": "2d696044",
   "metadata": {},
   "outputs": [],
   "source": [
    "for i in range(1,10):\n",
    "    for f in summary:\n",
    "        try:\n",
    "            sum_review.append(f.text)\n",
    "        except StaleElementReferenceException:\n",
    "            sum_review.append('-')\n",
    "    next_button = driver.find_element_by_xpath(\"//a[@class='_1LKTO3']\")\n",
    "    next_button.click"
   ]
  },
  {
   "cell_type": "code",
   "execution_count": 167,
   "id": "120dfc5b",
   "metadata": {
    "scrolled": true
   },
   "outputs": [
    {
     "data": {
      "text/plain": [
       "['Brilliant',\n",
       " 'Perfect product!',\n",
       " 'Worth every penny',\n",
       " 'Great product',\n",
       " 'Fabulous!',\n",
       " 'Good choice',\n",
       " 'Simply awesome',\n",
       " 'Worth every penny',\n",
       " 'Highly recommended',\n",
       " 'Perfect product!',\n",
       " 'Brilliant',\n",
       " 'Perfect product!',\n",
       " 'Worth every penny',\n",
       " 'Great product',\n",
       " 'Fabulous!',\n",
       " 'Good choice',\n",
       " 'Simply awesome',\n",
       " 'Worth every penny',\n",
       " 'Highly recommended',\n",
       " 'Perfect product!',\n",
       " 'Brilliant',\n",
       " 'Perfect product!',\n",
       " 'Worth every penny',\n",
       " 'Great product',\n",
       " 'Fabulous!',\n",
       " 'Good choice',\n",
       " 'Simply awesome',\n",
       " 'Worth every penny',\n",
       " 'Highly recommended',\n",
       " 'Perfect product!',\n",
       " 'Brilliant',\n",
       " 'Perfect product!',\n",
       " 'Worth every penny',\n",
       " 'Great product',\n",
       " 'Fabulous!',\n",
       " 'Good choice',\n",
       " 'Simply awesome',\n",
       " 'Worth every penny',\n",
       " 'Highly recommended',\n",
       " 'Perfect product!',\n",
       " 'Brilliant',\n",
       " 'Perfect product!',\n",
       " 'Worth every penny',\n",
       " 'Great product',\n",
       " 'Fabulous!',\n",
       " 'Good choice',\n",
       " 'Simply awesome',\n",
       " 'Worth every penny',\n",
       " 'Highly recommended',\n",
       " 'Perfect product!',\n",
       " 'Brilliant',\n",
       " 'Perfect product!',\n",
       " 'Worth every penny',\n",
       " 'Great product',\n",
       " 'Fabulous!',\n",
       " 'Good choice',\n",
       " 'Simply awesome',\n",
       " 'Worth every penny',\n",
       " 'Highly recommended',\n",
       " 'Perfect product!',\n",
       " 'Brilliant',\n",
       " 'Perfect product!',\n",
       " 'Worth every penny',\n",
       " 'Great product',\n",
       " 'Fabulous!',\n",
       " 'Good choice',\n",
       " 'Simply awesome',\n",
       " 'Worth every penny',\n",
       " 'Highly recommended',\n",
       " 'Perfect product!',\n",
       " 'Brilliant',\n",
       " 'Perfect product!',\n",
       " 'Worth every penny',\n",
       " 'Great product',\n",
       " 'Fabulous!',\n",
       " 'Good choice',\n",
       " 'Simply awesome',\n",
       " 'Worth every penny',\n",
       " 'Highly recommended',\n",
       " 'Perfect product!',\n",
       " 'Brilliant',\n",
       " 'Perfect product!',\n",
       " 'Worth every penny',\n",
       " 'Great product',\n",
       " 'Fabulous!',\n",
       " 'Good choice',\n",
       " 'Simply awesome',\n",
       " 'Worth every penny',\n",
       " 'Highly recommended',\n",
       " 'Perfect product!',\n",
       " 'Brilliant',\n",
       " 'Perfect product!',\n",
       " 'Worth every penny',\n",
       " 'Great product',\n",
       " 'Fabulous!',\n",
       " 'Good choice',\n",
       " 'Simply awesome',\n",
       " 'Worth every penny',\n",
       " 'Highly recommended']"
      ]
     },
     "execution_count": 167,
     "metadata": {},
     "output_type": "execute_result"
    }
   ],
   "source": [
    "sum_review[:99]"
   ]
  },
  {
   "cell_type": "raw",
   "id": "dc570983",
   "metadata": {},
   "source": [
    "Q8: Scrape data for first 100 sneakers you find when you visit flipkart.com and \n",
    "search for “sneakers” in the search field."
   ]
  },
  {
   "cell_type": "code",
   "execution_count": 2,
   "id": "03560b82",
   "metadata": {},
   "outputs": [],
   "source": [
    "driver = webdriver.Chrome('chromedriver.exe')"
   ]
  },
  {
   "cell_type": "code",
   "execution_count": 4,
   "id": "f4a2f2b6",
   "metadata": {},
   "outputs": [],
   "source": [
    "url = 'https://www.flipkart.com/'\n",
    "driver.get(url)"
   ]
  },
  {
   "cell_type": "code",
   "execution_count": 5,
   "id": "c14ebe23",
   "metadata": {},
   "outputs": [
    {
     "data": {
      "text/plain": [
       "<selenium.webdriver.remote.webelement.WebElement (session=\"c020aa5b68a95f2a6663d9d7f5e775e4\", element=\"9d27dab5-190c-4a4e-86fd-28003ab8b16a\")>"
      ]
     },
     "execution_count": 5,
     "metadata": {},
     "output_type": "execute_result"
    }
   ],
   "source": [
    "shoes = driver.find_element_by_class_name('_3704LK')\n",
    "shoes"
   ]
  },
  {
   "cell_type": "code",
   "execution_count": 6,
   "id": "6ad6a848",
   "metadata": {},
   "outputs": [],
   "source": [
    "## write on search bar\n",
    "shoes.send_keys('sneakers')"
   ]
  },
  {
   "cell_type": "code",
   "execution_count": 7,
   "id": "65cb0222",
   "metadata": {},
   "outputs": [],
   "source": [
    "## do click using xpath function\n",
    "search_btn = driver.find_element_by_xpath(\"//button[@class='L0Z3Pu']\")\n",
    "search_btn.click()"
   ]
  },
  {
   "cell_type": "code",
   "execution_count": 18,
   "id": "ce6aa29a",
   "metadata": {
    "scrolled": true
   },
   "outputs": [],
   "source": [
    "## Scrapping the Brand details for 100 sneakers\n",
    "\n",
    "sj = driver.find_elements_by_xpath(\"//div[@class='_2WkVRV']\")\n",
    "sneak = []"
   ]
  },
  {
   "cell_type": "code",
   "execution_count": 19,
   "id": "6ef7d27e",
   "metadata": {},
   "outputs": [],
   "source": [
    "for i in range(1,4):\n",
    "    for s in sj:\n",
    "        sneak.append(s.text)\n",
    "    next_button = driver.find_element_by_xpath(\"//a[@class='_1LKTO3']\")    \n",
    "    next_button.click"
   ]
  },
  {
   "cell_type": "code",
   "execution_count": 22,
   "id": "b901255b",
   "metadata": {
    "scrolled": true
   },
   "outputs": [
    {
     "data": {
      "text/plain": [
       "['BRUTON',\n",
       " 'Extoes',\n",
       " 'Robbie jones',\n",
       " 'CALCADOS',\n",
       " 'ASTEROID',\n",
       " 'World Wear Footwear',\n",
       " 'Numenzo',\n",
       " 'U.S. POLO ASSN.',\n",
       " 'Shoes Bank',\n",
       " 'Birde',\n",
       " 'PEHANOSA',\n",
       " 'Stinson',\n",
       " 'Robbie jones',\n",
       " 'KULP',\n",
       " 'ESSENCE',\n",
       " 'Numenzo',\n",
       " 'Chevit',\n",
       " 'Numenzo',\n",
       " 'Robbie jones',\n",
       " 'bluemaker',\n",
       " 'Stefano Rads',\n",
       " 'Chevit',\n",
       " 'Kraasa',\n",
       " 'AMICO',\n",
       " 'believe',\n",
       " 'Labbin',\n",
       " 'India hub',\n",
       " 'Echor',\n",
       " 'Nilatin',\n",
       " 'bluemaker',\n",
       " 'Robbie jones',\n",
       " 'bluemaker',\n",
       " 'BRUTON',\n",
       " 'World Wear Footwear',\n",
       " 'SCATCHITE',\n",
       " 'Echor',\n",
       " 'Chevit',\n",
       " 'Robbie jones',\n",
       " 'HOTSTYLE',\n",
       " 'JUBENTA',\n",
       " 'BRUTON',\n",
       " 'Extoes',\n",
       " 'Robbie jones',\n",
       " 'CALCADOS',\n",
       " 'ASTEROID',\n",
       " 'World Wear Footwear',\n",
       " 'Numenzo',\n",
       " 'U.S. POLO ASSN.',\n",
       " 'Shoes Bank',\n",
       " 'Birde',\n",
       " 'PEHANOSA',\n",
       " 'Stinson',\n",
       " 'Robbie jones',\n",
       " 'KULP',\n",
       " 'ESSENCE',\n",
       " 'Numenzo',\n",
       " 'Chevit',\n",
       " 'Numenzo',\n",
       " 'Robbie jones',\n",
       " 'bluemaker',\n",
       " 'Stefano Rads',\n",
       " 'Chevit',\n",
       " 'Kraasa',\n",
       " 'AMICO',\n",
       " 'believe',\n",
       " 'Labbin',\n",
       " 'India hub',\n",
       " 'Echor',\n",
       " 'Nilatin',\n",
       " 'bluemaker',\n",
       " 'Robbie jones',\n",
       " 'bluemaker',\n",
       " 'BRUTON',\n",
       " 'World Wear Footwear',\n",
       " 'SCATCHITE',\n",
       " 'Echor',\n",
       " 'Chevit',\n",
       " 'Robbie jones',\n",
       " 'HOTSTYLE',\n",
       " 'JUBENTA',\n",
       " 'BRUTON',\n",
       " 'Extoes',\n",
       " 'Robbie jones',\n",
       " 'CALCADOS',\n",
       " 'ASTEROID',\n",
       " 'World Wear Footwear',\n",
       " 'Numenzo',\n",
       " 'U.S. POLO ASSN.',\n",
       " 'Shoes Bank',\n",
       " 'Birde',\n",
       " 'PEHANOSA',\n",
       " 'Stinson',\n",
       " 'Robbie jones',\n",
       " 'KULP',\n",
       " 'ESSENCE',\n",
       " 'Numenzo',\n",
       " 'Chevit',\n",
       " 'Numenzo',\n",
       " 'Robbie jones']"
      ]
     },
     "execution_count": 22,
     "metadata": {},
     "output_type": "execute_result"
    }
   ],
   "source": [
    "sneak[:99]"
   ]
  },
  {
   "cell_type": "code",
   "execution_count": 32,
   "id": "9a70ea1b",
   "metadata": {},
   "outputs": [],
   "source": [
    "## Scrapping the Product description\n",
    "\n",
    "prd = driver.find_elements_by_xpath(\"//a[@class='IRpwTa']\")\n",
    "Prd_desc = []"
   ]
  },
  {
   "cell_type": "code",
   "execution_count": 33,
   "id": "e4b7cb44",
   "metadata": {},
   "outputs": [],
   "source": [
    "for i in range(1,4):\n",
    "    for p in prd:\n",
    "        Prd_desc.append(p.text)\n",
    "    next_button = driver.find_element_by_xpath(\"//a[@class='_1LKTO3']\")\n",
    "    next_button.click"
   ]
  },
  {
   "cell_type": "code",
   "execution_count": 35,
   "id": "e08ad7cb",
   "metadata": {
    "scrolled": true
   },
   "outputs": [
    {
     "data": {
      "text/plain": [
       "['Combo Pack Of 4 Casual Shoes Loafer Shoes Sneakers For ...',\n",
       " 'Sneakers For Men',\n",
       " 'Casual Sneakers Shoes For Men Sneakers For Men',\n",
       " \"Original Luxury Branded Fashionable Men's Casual Walkin...\",\n",
       " '5011-Latest Collection Stylish Casual Loafer Sneakers S...',\n",
       " 'Sneakers For Men',\n",
       " 'LEBRON 2.0 Sneakers For Men',\n",
       " \"White Sneaker For Men's/Boy's Sneakers For Men\",\n",
       " 'Combo Pack of 4 Casual Shoes Sneakers For Men',\n",
       " 'Sneakers For Men',\n",
       " 'Trendy Fashion Combo Pack of 3 Sneakers For Men',\n",
       " 'Sneakers For Men',\n",
       " 'Sneakers For Men',\n",
       " 'Casuals Sneakers For Men',\n",
       " 'Sneakers For Men',\n",
       " 'Super Stylish & Trendy Combo Pack of 02 Pairs Sneakers ...',\n",
       " 'Sneakers For Men',\n",
       " 'Casual Sneakers Green Shoes For Men And Boys Sneakers F...',\n",
       " 'Unique & Perfect Collection Combo Pack of 02 Shoes for ...',\n",
       " 'Series 7 Sneakers For Men',\n",
       " 'Designer Printed Casual Sneakers Shoes Sneakers For Men',\n",
       " 'Sneakers for men(black_6) Sneakers For Men',\n",
       " 'Sneakers For Men',\n",
       " 'Fashionable casual sneakers shoes Sneakers For Men',\n",
       " 'HHM Sneakers For Men',\n",
       " 'Black Sneaker For Men Sneakers For Men',\n",
       " 'casual for men (blue 10) Sneakers For Men',\n",
       " 'Sneakers For Men',\n",
       " 'casual shoe for men Sneakers For Men',\n",
       " 'Combo Pack Of 4 Casual Sneakers For Men',\n",
       " 'Sneakers For Men',\n",
       " 'Sneakers Sneakers For Men',\n",
       " 'shoes for boys Sneakers For Men',\n",
       " 'Speed Set of 5 Pairs Sneakers Outdoors Casuals for Men ...',\n",
       " 'Casual Sneakers Green Shoes For Men And Boys Sneakers F...',\n",
       " 'Latest Design Sneakers For Men',\n",
       " 'Combo Pack Of 4 Casual Shoes Loafer Shoes Sneakers For ...',\n",
       " 'Sneakers For Men',\n",
       " 'Casual Sneakers Shoes For Men Sneakers For Men',\n",
       " \"Original Luxury Branded Fashionable Men's Casual Walkin...\",\n",
       " '5011-Latest Collection Stylish Casual Loafer Sneakers S...',\n",
       " 'Sneakers For Men',\n",
       " 'LEBRON 2.0 Sneakers For Men',\n",
       " \"White Sneaker For Men's/Boy's Sneakers For Men\",\n",
       " 'Combo Pack of 4 Casual Shoes Sneakers For Men',\n",
       " 'Sneakers For Men',\n",
       " 'Trendy Fashion Combo Pack of 3 Sneakers For Men',\n",
       " 'Sneakers For Men',\n",
       " 'Sneakers For Men',\n",
       " 'Casuals Sneakers For Men',\n",
       " 'Sneakers For Men',\n",
       " 'Super Stylish & Trendy Combo Pack of 02 Pairs Sneakers ...',\n",
       " 'Sneakers For Men',\n",
       " 'Casual Sneakers Green Shoes For Men And Boys Sneakers F...',\n",
       " 'Unique & Perfect Collection Combo Pack of 02 Shoes for ...',\n",
       " 'Series 7 Sneakers For Men',\n",
       " 'Designer Printed Casual Sneakers Shoes Sneakers For Men',\n",
       " 'Sneakers for men(black_6) Sneakers For Men',\n",
       " 'Sneakers For Men',\n",
       " 'Fashionable casual sneakers shoes Sneakers For Men',\n",
       " 'HHM Sneakers For Men',\n",
       " 'Black Sneaker For Men Sneakers For Men',\n",
       " 'casual for men (blue 10) Sneakers For Men',\n",
       " 'Sneakers For Men',\n",
       " 'casual shoe for men Sneakers For Men',\n",
       " 'Combo Pack Of 4 Casual Sneakers For Men',\n",
       " 'Sneakers For Men',\n",
       " 'Sneakers Sneakers For Men',\n",
       " 'shoes for boys Sneakers For Men',\n",
       " 'Speed Set of 5 Pairs Sneakers Outdoors Casuals for Men ...',\n",
       " 'Casual Sneakers Green Shoes For Men And Boys Sneakers F...',\n",
       " 'Latest Design Sneakers For Men',\n",
       " 'Combo Pack Of 4 Casual Shoes Loafer Shoes Sneakers For ...',\n",
       " 'Sneakers For Men',\n",
       " 'Casual Sneakers Shoes For Men Sneakers For Men',\n",
       " \"Original Luxury Branded Fashionable Men's Casual Walkin...\",\n",
       " '5011-Latest Collection Stylish Casual Loafer Sneakers S...',\n",
       " 'Sneakers For Men',\n",
       " 'LEBRON 2.0 Sneakers For Men',\n",
       " \"White Sneaker For Men's/Boy's Sneakers For Men\",\n",
       " 'Combo Pack of 4 Casual Shoes Sneakers For Men',\n",
       " 'Sneakers For Men',\n",
       " 'Trendy Fashion Combo Pack of 3 Sneakers For Men',\n",
       " 'Sneakers For Men',\n",
       " 'Sneakers For Men',\n",
       " 'Casuals Sneakers For Men',\n",
       " 'Sneakers For Men',\n",
       " 'Super Stylish & Trendy Combo Pack of 02 Pairs Sneakers ...',\n",
       " 'Sneakers For Men',\n",
       " 'Casual Sneakers Green Shoes For Men And Boys Sneakers F...',\n",
       " 'Unique & Perfect Collection Combo Pack of 02 Shoes for ...',\n",
       " 'Series 7 Sneakers For Men',\n",
       " 'Designer Printed Casual Sneakers Shoes Sneakers For Men',\n",
       " 'Sneakers for men(black_6) Sneakers For Men',\n",
       " 'Sneakers For Men',\n",
       " 'Fashionable casual sneakers shoes Sneakers For Men',\n",
       " 'HHM Sneakers For Men',\n",
       " 'Black Sneaker For Men Sneakers For Men',\n",
       " 'casual for men (blue 10) Sneakers For Men']"
      ]
     },
     "execution_count": 35,
     "metadata": {},
     "output_type": "execute_result"
    }
   ],
   "source": [
    "Prd_desc[:99]"
   ]
  },
  {
   "cell_type": "code",
   "execution_count": 36,
   "id": "b09ba9df",
   "metadata": {},
   "outputs": [],
   "source": [
    "## Scrapping the Price details\n",
    "prc = driver.find_elements_by_xpath(\"//div[@class='_30jeq3']\")\n",
    "price = []"
   ]
  },
  {
   "cell_type": "code",
   "execution_count": 37,
   "id": "59742cd3",
   "metadata": {},
   "outputs": [],
   "source": [
    "for i in range(1,4):\n",
    "    for g in prc:\n",
    "        price.append(g.text)\n",
    "    next_button = driver.find_element_by_xpath(\"//a[@class='_1LKTO3']\")\n",
    "    next_button.click"
   ]
  },
  {
   "cell_type": "code",
   "execution_count": 39,
   "id": "edc3042b",
   "metadata": {
    "scrolled": true
   },
   "outputs": [
    {
     "data": {
      "text/plain": [
       "['₹474',\n",
       " '₹298',\n",
       " '₹379',\n",
       " '₹748',\n",
       " '₹499',\n",
       " '₹240',\n",
       " '₹378',\n",
       " '₹2,199',\n",
       " '₹349',\n",
       " '₹588',\n",
       " '₹499',\n",
       " '₹648',\n",
       " '₹474',\n",
       " '₹399',\n",
       " '₹359',\n",
       " '₹449',\n",
       " '₹599',\n",
       " '₹449',\n",
       " '₹499',\n",
       " '₹424',\n",
       " '₹242',\n",
       " '₹425',\n",
       " '₹471',\n",
       " '₹464',\n",
       " '₹399',\n",
       " '₹499',\n",
       " '₹369',\n",
       " '₹499',\n",
       " '₹449',\n",
       " '₹424',\n",
       " '₹449',\n",
       " '₹424',\n",
       " '₹474',\n",
       " '₹240',\n",
       " '₹398',\n",
       " '₹499',\n",
       " '₹683',\n",
       " '₹499',\n",
       " '₹199',\n",
       " '₹512',\n",
       " '₹474',\n",
       " '₹298',\n",
       " '₹379',\n",
       " '₹748',\n",
       " '₹499',\n",
       " '₹240',\n",
       " '₹378',\n",
       " '₹2,199',\n",
       " '₹349',\n",
       " '₹588',\n",
       " '₹499',\n",
       " '₹648',\n",
       " '₹474',\n",
       " '₹399',\n",
       " '₹359',\n",
       " '₹449',\n",
       " '₹599',\n",
       " '₹449',\n",
       " '₹499',\n",
       " '₹424',\n",
       " '₹242',\n",
       " '₹425',\n",
       " '₹471',\n",
       " '₹464',\n",
       " '₹399',\n",
       " '₹499',\n",
       " '₹369',\n",
       " '₹499',\n",
       " '₹449',\n",
       " '₹424',\n",
       " '₹449',\n",
       " '₹424',\n",
       " '₹474',\n",
       " '₹240',\n",
       " '₹398',\n",
       " '₹499',\n",
       " '₹683',\n",
       " '₹499',\n",
       " '₹199',\n",
       " '₹512',\n",
       " '₹474',\n",
       " '₹298',\n",
       " '₹379',\n",
       " '₹748',\n",
       " '₹499',\n",
       " '₹240',\n",
       " '₹378',\n",
       " '₹2,199',\n",
       " '₹349',\n",
       " '₹588',\n",
       " '₹499',\n",
       " '₹648',\n",
       " '₹474',\n",
       " '₹399',\n",
       " '₹359',\n",
       " '₹449',\n",
       " '₹599',\n",
       " '₹449',\n",
       " '₹499']"
      ]
     },
     "execution_count": 39,
     "metadata": {},
     "output_type": "execute_result"
    }
   ],
   "source": [
    "price[:99]"
   ]
  },
  {
   "cell_type": "code",
   "execution_count": 40,
   "id": "f51ff0da",
   "metadata": {},
   "outputs": [],
   "source": [
    "# Scrapping the discount\n",
    "ds = driver.find_elements_by_xpath(\"//div[@class='_3Ay6Sb']\")\n",
    "discount = []"
   ]
  },
  {
   "cell_type": "code",
   "execution_count": 41,
   "id": "31737132",
   "metadata": {},
   "outputs": [],
   "source": [
    "for i in range(1,4):\n",
    "    for d in ds:\n",
    "        discount.append(d.text)\n",
    "    next_button = driver.find_element_by_xpath(\"//a[@class='_1LKTO3']\")\n",
    "    next_button.click"
   ]
  },
  {
   "cell_type": "code",
   "execution_count": 42,
   "id": "1ad565b9",
   "metadata": {
    "scrolled": true
   },
   "outputs": [
    {
     "data": {
      "text/plain": [
       "['86% off',\n",
       " '40% off',\n",
       " '62% off',\n",
       " '62% off',\n",
       " '75% off',\n",
       " '51% off',\n",
       " '62% off',\n",
       " '45% off',\n",
       " '65% off',\n",
       " '70% off',\n",
       " '50% off',\n",
       " '56% off',\n",
       " '52% off',\n",
       " '60% off',\n",
       " '64% off',\n",
       " '77% off',\n",
       " '62% off',\n",
       " '77% off',\n",
       " '50% off',\n",
       " '57% off',\n",
       " '65% off',\n",
       " '71% off',\n",
       " '52% off',\n",
       " '53% off',\n",
       " '60% off',\n",
       " '50% off',\n",
       " '87% off',\n",
       " '50% off',\n",
       " '65% off',\n",
       " '57% off',\n",
       " '55% off',\n",
       " '57% off',\n",
       " '88% off',\n",
       " '51% off',\n",
       " '60% off',\n",
       " '50% off',\n",
       " '72% off',\n",
       " '50% off',\n",
       " '60% off',\n",
       " '48% off',\n",
       " '86% off',\n",
       " '40% off',\n",
       " '62% off',\n",
       " '62% off',\n",
       " '75% off',\n",
       " '51% off',\n",
       " '62% off',\n",
       " '45% off',\n",
       " '65% off',\n",
       " '70% off',\n",
       " '50% off',\n",
       " '56% off',\n",
       " '52% off',\n",
       " '60% off',\n",
       " '64% off',\n",
       " '77% off',\n",
       " '62% off',\n",
       " '77% off',\n",
       " '50% off',\n",
       " '57% off',\n",
       " '65% off',\n",
       " '71% off',\n",
       " '52% off',\n",
       " '53% off',\n",
       " '60% off',\n",
       " '50% off',\n",
       " '87% off',\n",
       " '50% off',\n",
       " '65% off',\n",
       " '57% off',\n",
       " '55% off',\n",
       " '57% off',\n",
       " '88% off',\n",
       " '51% off',\n",
       " '60% off',\n",
       " '50% off',\n",
       " '72% off',\n",
       " '50% off',\n",
       " '60% off',\n",
       " '48% off',\n",
       " '86% off',\n",
       " '40% off',\n",
       " '62% off',\n",
       " '62% off',\n",
       " '75% off',\n",
       " '51% off',\n",
       " '62% off',\n",
       " '45% off',\n",
       " '65% off',\n",
       " '70% off',\n",
       " '50% off',\n",
       " '56% off',\n",
       " '52% off',\n",
       " '60% off',\n",
       " '64% off',\n",
       " '77% off',\n",
       " '62% off',\n",
       " '77% off',\n",
       " '50% off']"
      ]
     },
     "execution_count": 42,
     "metadata": {},
     "output_type": "execute_result"
    }
   ],
   "source": [
    "discount[:99]"
   ]
  },
  {
   "cell_type": "raw",
   "id": "8e9c280e",
   "metadata": {},
   "source": [
    "Q 9)Go to the link - https://www.myntra.com/shoes\n",
    "Set Price filter to “Rs. 6649 to Rs. 13099” , Color filter to “Black” And then scrape First 100 shoes data you get. The data should include “Brand” of the shoes , Short Shoe description, price of the shoe as shown.\n"
   ]
  },
  {
   "cell_type": "code",
   "execution_count": 89,
   "id": "054a6e23",
   "metadata": {},
   "outputs": [],
   "source": [
    "driver = webdriver.Chrome('chromedriver.exe')"
   ]
  },
  {
   "cell_type": "code",
   "execution_count": 90,
   "id": "539c1c21",
   "metadata": {},
   "outputs": [],
   "source": [
    "url = 'https://www.myntra.com/shoes'\n",
    "driver.get(url)"
   ]
  },
  {
   "cell_type": "code",
   "execution_count": 93,
   "id": "aa9bcf62",
   "metadata": {},
   "outputs": [],
   "source": [
    "## setting pricing filter to “Rs. 6649 to Rs. 13099”\n",
    "price_filter = driver.find_element_by_xpath(\"//ul[@class='price-list']/li[2]/label/div\")\n",
    "price_filter.click()\n",
    "time.sleep(2)"
   ]
  },
  {
   "cell_type": "code",
   "execution_count": 92,
   "id": "f7f3955d",
   "metadata": {},
   "outputs": [],
   "source": [
    "## setting pricing filter to “Black”\n",
    "color_filter = driver.find_element_by_xpath(\"//li[@class='colour-listItem']/label/div\")\n",
    "color_filter.click()"
   ]
  },
  {
   "cell_type": "code",
   "execution_count": 94,
   "id": "eaecb7e3",
   "metadata": {},
   "outputs": [],
   "source": [
    "## Scrapping for “Brand” of the shoes\n",
    "br = driver.find_elements_by_xpath(\"//h3[@class='product-brand']\")\n",
    "brand = []"
   ]
  },
  {
   "cell_type": "code",
   "execution_count": 95,
   "id": "0a51b916",
   "metadata": {},
   "outputs": [],
   "source": [
    "for i in range(1,3):\n",
    "    for b in br:\n",
    "        brand.append(b.text)\n",
    "    next_button = driver.find_element_by_xpath(\"//li[@class='pagination-next']/a\")\n",
    "    next_button.click"
   ]
  },
  {
   "cell_type": "code",
   "execution_count": 96,
   "id": "054db835",
   "metadata": {},
   "outputs": [
    {
     "data": {
      "text/plain": [
       "100"
      ]
     },
     "execution_count": 96,
     "metadata": {},
     "output_type": "execute_result"
    }
   ],
   "source": [
    "len(brand)"
   ]
  },
  {
   "cell_type": "code",
   "execution_count": 97,
   "id": "30b032e1",
   "metadata": {
    "scrolled": true
   },
   "outputs": [
    {
     "data": {
      "text/plain": [
       "['ALDO',\n",
       " 'Nike',\n",
       " 'ALDO',\n",
       " 'Nike',\n",
       " 'Nike',\n",
       " 'Nike',\n",
       " 'Puma',\n",
       " 'Hush Puppies',\n",
       " 'ASICS',\n",
       " 'Puma',\n",
       " 'Puma',\n",
       " 'UNDER ARMOUR',\n",
       " 'Hush Puppies',\n",
       " 'UNDER ARMOUR',\n",
       " 'UNDER ARMOUR',\n",
       " 'PUMA Hoops',\n",
       " 'ASICS',\n",
       " 'FORCLAZ By Decathlon',\n",
       " 'Puma',\n",
       " 'Puma',\n",
       " 'Hush Puppies',\n",
       " 'Kalenji By Decathlon',\n",
       " 'UNDER ARMOUR',\n",
       " 'UNDER ARMOUR',\n",
       " 'Hush Puppies',\n",
       " 'Hush Puppies',\n",
       " 'Geox',\n",
       " 'Hush Puppies',\n",
       " 'Geox',\n",
       " 'UNDER ARMOUR',\n",
       " 'RARE RABBIT',\n",
       " 'Ruosh',\n",
       " 'KIPRUN By Decathlon',\n",
       " 'Geox',\n",
       " 'Geox',\n",
       " 'J.FONTINI',\n",
       " 'J.FONTINI',\n",
       " 'Nike',\n",
       " 'RARE RABBIT',\n",
       " 'Kenneth Cole',\n",
       " 'Hush Puppies',\n",
       " 'Geox',\n",
       " 'ALDO',\n",
       " 'DAVINCHI',\n",
       " 'DAVINCHI',\n",
       " 'Nike',\n",
       " 'Ruosh',\n",
       " 'Heel & Buckle London',\n",
       " 'Nike',\n",
       " 'Nike',\n",
       " 'ALDO',\n",
       " 'Nike',\n",
       " 'ALDO',\n",
       " 'Nike',\n",
       " 'Nike',\n",
       " 'Nike',\n",
       " 'Puma',\n",
       " 'Hush Puppies',\n",
       " 'ASICS',\n",
       " 'Puma',\n",
       " 'Puma',\n",
       " 'UNDER ARMOUR',\n",
       " 'Hush Puppies',\n",
       " 'UNDER ARMOUR',\n",
       " 'UNDER ARMOUR',\n",
       " 'PUMA Hoops',\n",
       " 'ASICS',\n",
       " 'FORCLAZ By Decathlon',\n",
       " 'Puma',\n",
       " 'Puma',\n",
       " 'Hush Puppies',\n",
       " 'Kalenji By Decathlon',\n",
       " 'UNDER ARMOUR',\n",
       " 'UNDER ARMOUR',\n",
       " 'Hush Puppies',\n",
       " 'Hush Puppies',\n",
       " 'Geox',\n",
       " 'Hush Puppies',\n",
       " 'Geox',\n",
       " 'UNDER ARMOUR',\n",
       " 'RARE RABBIT',\n",
       " 'Ruosh',\n",
       " 'KIPRUN By Decathlon',\n",
       " 'Geox',\n",
       " 'Geox',\n",
       " 'J.FONTINI',\n",
       " 'J.FONTINI',\n",
       " 'Nike',\n",
       " 'RARE RABBIT',\n",
       " 'Kenneth Cole',\n",
       " 'Hush Puppies',\n",
       " 'Geox',\n",
       " 'ALDO',\n",
       " 'DAVINCHI',\n",
       " 'DAVINCHI',\n",
       " 'Nike',\n",
       " 'Ruosh',\n",
       " 'Heel & Buckle London',\n",
       " 'Nike',\n",
       " 'Nike']"
      ]
     },
     "execution_count": 97,
     "metadata": {},
     "output_type": "execute_result"
    }
   ],
   "source": [
    "brand"
   ]
  },
  {
   "cell_type": "code",
   "execution_count": 98,
   "id": "f08283cd",
   "metadata": {},
   "outputs": [],
   "source": [
    "# Short Shoe description\n",
    "des = driver.find_elements_by_xpath(\"//h4[@class='product-product']\")\n",
    "description = []"
   ]
  },
  {
   "cell_type": "code",
   "execution_count": 99,
   "id": "0f0adeef",
   "metadata": {},
   "outputs": [],
   "source": [
    "for i in range(1,3):\n",
    "    for d in des:\n",
    "        description.append(d.text)\n",
    "    next_button = driver.find_element_by_xpath(\"//li[@class='pagination-next']/a\")\n",
    "    next_button.click"
   ]
  },
  {
   "cell_type": "code",
   "execution_count": 100,
   "id": "33e0bc8a",
   "metadata": {},
   "outputs": [
    {
     "data": {
      "text/plain": [
       "100"
      ]
     },
     "execution_count": 100,
     "metadata": {},
     "output_type": "execute_result"
    }
   ],
   "source": [
    "len(description)"
   ]
  },
  {
   "cell_type": "code",
   "execution_count": 101,
   "id": "2916b240",
   "metadata": {
    "scrolled": true
   },
   "outputs": [
    {
     "data": {
      "text/plain": [
       "['Men Sneakers',\n",
       " 'Men REACT INFINITY RUN Shoes',\n",
       " 'Men Driving Shoes',\n",
       " 'Men AIR ZOOM Running Shoes',\n",
       " 'LEBRON XVIII Basketball Shoes',\n",
       " 'Unisex LEBRON XVIII Basketball',\n",
       " 'Men Velocity Nitro Running',\n",
       " 'Men Leather Slip-On Shoes',\n",
       " 'Men Running Shoes',\n",
       " 'Women Deviate Nitro Running',\n",
       " 'Men Deviate Nitro Running Shoe',\n",
       " 'Men HOVR Infinite 2 GRD Run',\n",
       " 'Men Leather Slip-On Sneakers',\n",
       " 'HOVR Sonic 3 Running Shoes',\n",
       " 'HOVR Sonic 3 Running Shoes',\n",
       " 'Unisex Clyde Basketball Shoes',\n",
       " 'Women Running Shoes',\n",
       " 'TREKKING 100 Boots',\n",
       " 'Men Football Shoes',\n",
       " 'Women Velocity Nitro Running',\n",
       " 'Men Leather Slip-On Sneakers',\n",
       " 'Men KD500 Running Shoe',\n",
       " 'Women HOVR Rise 2 Training',\n",
       " 'GS SC 3Zero IV Basketball',\n",
       " 'Men Solid Leather Formal Slip-Ons',\n",
       " 'Men Formal Derbys',\n",
       " 'Men Leather Semiformal Driving',\n",
       " 'Men Solid Leather Formal Slip-Ons',\n",
       " 'Men Leather Driving Shoes',\n",
       " 'Women HOVR Apex 2 Training',\n",
       " 'Men Perforations Leather Brogues',\n",
       " 'Men Solid Leather Formal Oxfords',\n",
       " 'Women Running Shoes',\n",
       " 'Men Leather Formal Slip-Ons',\n",
       " 'Men Leather Formal Derbyacs',\n",
       " 'Men Textured Leather Loafers',\n",
       " 'Men Textured Leather Loafers',\n",
       " 'Women AIR MAX VIVA Sneakers',\n",
       " 'Men Leather Loafers',\n",
       " 'Women Leather Pumps',\n",
       " 'Men Solid Leather Formal Derbys',\n",
       " 'Men Leather Formal Derbys',\n",
       " 'Women Sandals',\n",
       " 'Ustraa black',\n",
       " 'Men Formal Leather Slip-Ons',\n",
       " 'Men AIR ZOOM PEGASUS 38 Run',\n",
       " 'Men Formal Leather Brogues',\n",
       " 'Women Peep Toe Heels',\n",
       " 'Men JORDAN ONE TAKE II Shoes',\n",
       " 'Men AIR ZOOM PEGASUS 38 Run',\n",
       " 'Men Sneakers',\n",
       " 'Men REACT INFINITY RUN Shoes',\n",
       " 'Men Driving Shoes',\n",
       " 'Men AIR ZOOM Running Shoes',\n",
       " 'LEBRON XVIII Basketball Shoes',\n",
       " 'Unisex LEBRON XVIII Basketball',\n",
       " 'Men Velocity Nitro Running',\n",
       " 'Men Leather Slip-On Shoes',\n",
       " 'Men Running Shoes',\n",
       " 'Women Deviate Nitro Running',\n",
       " 'Men Deviate Nitro Running Shoe',\n",
       " 'Men HOVR Infinite 2 GRD Run',\n",
       " 'Men Leather Slip-On Sneakers',\n",
       " 'HOVR Sonic 3 Running Shoes',\n",
       " 'HOVR Sonic 3 Running Shoes',\n",
       " 'Unisex Clyde Basketball Shoes',\n",
       " 'Women Running Shoes',\n",
       " 'TREKKING 100 Boots',\n",
       " 'Men Football Shoes',\n",
       " 'Women Velocity Nitro Running',\n",
       " 'Men Leather Slip-On Sneakers',\n",
       " 'Men KD500 Running Shoe',\n",
       " 'Women HOVR Rise 2 Training',\n",
       " 'GS SC 3Zero IV Basketball',\n",
       " 'Men Solid Leather Formal Slip-Ons',\n",
       " 'Men Formal Derbys',\n",
       " 'Men Leather Semiformal Driving',\n",
       " 'Men Solid Leather Formal Slip-Ons',\n",
       " 'Men Leather Driving Shoes',\n",
       " 'Women HOVR Apex 2 Training',\n",
       " 'Men Perforations Leather Brogues',\n",
       " 'Men Solid Leather Formal Oxfords',\n",
       " 'Women Running Shoes',\n",
       " 'Men Leather Formal Slip-Ons',\n",
       " 'Men Leather Formal Derbyacs',\n",
       " 'Men Textured Leather Loafers',\n",
       " 'Men Textured Leather Loafers',\n",
       " 'Women AIR MAX VIVA Sneakers',\n",
       " 'Men Leather Loafers',\n",
       " 'Women Leather Pumps',\n",
       " 'Men Solid Leather Formal Derbys',\n",
       " 'Men Leather Formal Derbys',\n",
       " 'Women Sandals',\n",
       " 'Ustraa black',\n",
       " 'Men Formal Leather Slip-Ons',\n",
       " 'Men AIR ZOOM PEGASUS 38 Run',\n",
       " 'Men Formal Leather Brogues',\n",
       " 'Women Peep Toe Heels',\n",
       " 'Men JORDAN ONE TAKE II Shoes',\n",
       " 'Men AIR ZOOM PEGASUS 38 Run']"
      ]
     },
     "execution_count": 101,
     "metadata": {},
     "output_type": "execute_result"
    }
   ],
   "source": [
    "description"
   ]
  },
  {
   "cell_type": "code",
   "execution_count": 102,
   "id": "1d62dfa0",
   "metadata": {},
   "outputs": [],
   "source": [
    "# price of the shoes\n",
    "pr = driver.find_elements_by_xpath(\"//div[@class='product-productMetaInfo']/div/span[1]\")\n",
    "price = []"
   ]
  },
  {
   "cell_type": "code",
   "execution_count": 103,
   "id": "bea8f179",
   "metadata": {},
   "outputs": [],
   "source": [
    "for i in range(1,3):\n",
    "    for p in pr:\n",
    "        price.append(p.text)\n",
    "    next_button = driver.find_element_by_xpath(\"//li[@class='pagination-next']/a\")\n",
    "    next_button.click"
   ]
  },
  {
   "cell_type": "code",
   "execution_count": 104,
   "id": "09f0d2d3",
   "metadata": {
    "scrolled": true
   },
   "outputs": [
    {
     "data": {
      "text/plain": [
       "['Rs. 9999',\n",
       " 'Rs. 11596Rs. 14495',\n",
       " 'Rs. 11999',\n",
       " 'Rs. 8236Rs. 10295',\n",
       " 'Rs. 11436Rs. 17595',\n",
       " 'Rs. 11436Rs. 17595',\n",
       " 'Rs. 8799Rs. 10999',\n",
       " 'Rs. 6999',\n",
       " 'Rs. 6999Rs. 9999',\n",
       " 'Rs. 9749Rs. 14999',\n",
       " 'Rs. 9749Rs. 14999',\n",
       " 'Rs. 9799Rs. 13999',\n",
       " 'Rs. 6999Rs. 9999',\n",
       " 'Rs. 7699Rs. 10999',\n",
       " 'Rs. 7699Rs. 10999',\n",
       " 'Rs. 7699Rs. 10999',\n",
       " 'Rs. 9799Rs. 13999',\n",
       " 'Rs. 6999',\n",
       " 'Rs. 11049Rs. 16999',\n",
       " 'Rs. 7149Rs. 10999',\n",
       " 'Rs. 6999',\n",
       " 'Rs. 7857Rs. 8449',\n",
       " 'Rs. 6999Rs. 9999',\n",
       " 'Rs. 7499',\n",
       " 'Rs. 8999',\n",
       " 'Rs. 9999',\n",
       " 'Rs. 10490',\n",
       " 'Rs. 9999',\n",
       " 'Rs. 9990',\n",
       " 'Rs. 9799Rs. 13999',\n",
       " 'Rs. 6999',\n",
       " 'Rs. 8094Rs. 13490',\n",
       " 'Rs. 7006Rs. 7149',\n",
       " 'Rs. 7495Rs. 14990',\n",
       " 'Rs. 7495Rs. 14990',\n",
       " 'Rs. 6990',\n",
       " 'Rs. 6990',\n",
       " 'Rs. 9996Rs. 12495',\n",
       " 'Rs. 8499',\n",
       " 'Rs. 10493Rs. 14990',\n",
       " 'Rs. 9999',\n",
       " 'Rs. 7349Rs. 10499',\n",
       " 'Rs. 8999',\n",
       " 'Rs. 8990',\n",
       " 'Rs. 8990',\n",
       " 'Rs. 9995',\n",
       " 'Rs. 7490',\n",
       " 'Rs. 7192Rs. 8990',\n",
       " 'Rs. 8295',\n",
       " 'Rs. 9995',\n",
       " 'Rs. 9999',\n",
       " 'Rs. 11596Rs. 14495',\n",
       " 'Rs. 11999',\n",
       " 'Rs. 8236Rs. 10295',\n",
       " 'Rs. 11436Rs. 17595',\n",
       " 'Rs. 11436Rs. 17595',\n",
       " 'Rs. 8799Rs. 10999',\n",
       " 'Rs. 6999',\n",
       " 'Rs. 6999Rs. 9999',\n",
       " 'Rs. 9749Rs. 14999',\n",
       " 'Rs. 9749Rs. 14999',\n",
       " 'Rs. 9799Rs. 13999',\n",
       " 'Rs. 6999Rs. 9999',\n",
       " 'Rs. 7699Rs. 10999',\n",
       " 'Rs. 7699Rs. 10999',\n",
       " 'Rs. 7699Rs. 10999',\n",
       " 'Rs. 9799Rs. 13999',\n",
       " 'Rs. 6999',\n",
       " 'Rs. 11049Rs. 16999',\n",
       " 'Rs. 7149Rs. 10999',\n",
       " 'Rs. 6999',\n",
       " 'Rs. 7857Rs. 8449',\n",
       " 'Rs. 6999Rs. 9999',\n",
       " 'Rs. 7499',\n",
       " 'Rs. 8999',\n",
       " 'Rs. 9999',\n",
       " 'Rs. 10490',\n",
       " 'Rs. 9999',\n",
       " 'Rs. 9990',\n",
       " 'Rs. 9799Rs. 13999',\n",
       " 'Rs. 6999',\n",
       " 'Rs. 8094Rs. 13490',\n",
       " 'Rs. 7006Rs. 7149',\n",
       " 'Rs. 7495Rs. 14990',\n",
       " 'Rs. 7495Rs. 14990',\n",
       " 'Rs. 6990',\n",
       " 'Rs. 6990',\n",
       " 'Rs. 9996Rs. 12495',\n",
       " 'Rs. 8499',\n",
       " 'Rs. 10493Rs. 14990',\n",
       " 'Rs. 9999',\n",
       " 'Rs. 7349Rs. 10499',\n",
       " 'Rs. 8999',\n",
       " 'Rs. 8990',\n",
       " 'Rs. 8990',\n",
       " 'Rs. 9995',\n",
       " 'Rs. 7490',\n",
       " 'Rs. 7192Rs. 8990',\n",
       " 'Rs. 8295']"
      ]
     },
     "execution_count": 104,
     "metadata": {},
     "output_type": "execute_result"
    }
   ],
   "source": [
    "price[:99]"
   ]
  },
  {
   "cell_type": "raw",
   "id": "c5fe95cd",
   "metadata": {},
   "source": [
    "Q10: Go to webpage https://www.amazon.in/ & Scrap title, Ratings & Price"
   ]
  },
  {
   "cell_type": "code",
   "execution_count": 90,
   "id": "f2dcd7ed",
   "metadata": {},
   "outputs": [],
   "source": [
    "driver = webdriver.Chrome('chromedriver.exe')"
   ]
  },
  {
   "cell_type": "code",
   "execution_count": 91,
   "id": "84659af9",
   "metadata": {},
   "outputs": [],
   "source": [
    "url = 'https://www.amazon.in/'\n",
    "driver.get(url)"
   ]
  },
  {
   "cell_type": "code",
   "execution_count": 92,
   "id": "5f43bee8",
   "metadata": {},
   "outputs": [],
   "source": [
    "## setting CPU Type filter to “Intel Core i7” and “Intel Core i9”\n",
    "cpu_filter = driver.find_element_by_xpath(\"//li[@id='p_n_feature_thirteen_browse-bin/12598163031']/span\")\n",
    "cpu_filter.click()\n",
    "time.sleep(2)"
   ]
  },
  {
   "cell_type": "code",
   "execution_count": 97,
   "id": "4e70dd0c",
   "metadata": {},
   "outputs": [],
   "source": [
    "cpu_filter1 = driver.find_element_by_xpath(\"//li[@id='p_n_feature_thirteen_browse-bin/16757432031']/span\")\n",
    "cpu_filter1.click()"
   ]
  },
  {
   "cell_type": "code",
   "execution_count": 98,
   "id": "6f663624",
   "metadata": {
    "scrolled": true
   },
   "outputs": [
    {
     "data": {
      "text/plain": [
       "[<selenium.webdriver.remote.webelement.WebElement (session=\"0d4251432c06588de650c6096ea52f06\", element=\"b2ad716e-7abf-4c07-b49c-36b6b717a4da\")>,\n",
       " <selenium.webdriver.remote.webelement.WebElement (session=\"0d4251432c06588de650c6096ea52f06\", element=\"61861eca-03b7-4554-bd93-f2f3cc076429\")>,\n",
       " <selenium.webdriver.remote.webelement.WebElement (session=\"0d4251432c06588de650c6096ea52f06\", element=\"fd1f32b9-8ed7-49b5-a093-c45e45a59749\")>,\n",
       " <selenium.webdriver.remote.webelement.WebElement (session=\"0d4251432c06588de650c6096ea52f06\", element=\"738444e8-9e2c-4cd2-bc2c-7339c52c949c\")>,\n",
       " <selenium.webdriver.remote.webelement.WebElement (session=\"0d4251432c06588de650c6096ea52f06\", element=\"2b181e12-8893-44c9-b687-fde4e4706d92\")>,\n",
       " <selenium.webdriver.remote.webelement.WebElement (session=\"0d4251432c06588de650c6096ea52f06\", element=\"9ba71ddd-1d97-4de6-91e3-d9b7a76af9a8\")>,\n",
       " <selenium.webdriver.remote.webelement.WebElement (session=\"0d4251432c06588de650c6096ea52f06\", element=\"5f16873a-a65f-43b7-ba45-2220dc29bc5e\")>,\n",
       " <selenium.webdriver.remote.webelement.WebElement (session=\"0d4251432c06588de650c6096ea52f06\", element=\"299e3af1-a8f8-4a74-ab03-eb13d308b25e\")>,\n",
       " <selenium.webdriver.remote.webelement.WebElement (session=\"0d4251432c06588de650c6096ea52f06\", element=\"1d49322e-acc9-4971-9651-d4723ca27b6c\")>,\n",
       " <selenium.webdriver.remote.webelement.WebElement (session=\"0d4251432c06588de650c6096ea52f06\", element=\"a9779ee1-9573-4509-8514-01023e63a66e\")>,\n",
       " <selenium.webdriver.remote.webelement.WebElement (session=\"0d4251432c06588de650c6096ea52f06\", element=\"87a561b2-da33-4f8a-8b6d-1b1bc1bbdbdc\")>,\n",
       " <selenium.webdriver.remote.webelement.WebElement (session=\"0d4251432c06588de650c6096ea52f06\", element=\"bd07ebf4-ff2c-4d0e-9d2d-f15eac0a6e28\")>,\n",
       " <selenium.webdriver.remote.webelement.WebElement (session=\"0d4251432c06588de650c6096ea52f06\", element=\"7bda8cdc-faa5-4625-8f79-cce7f2d38504\")>,\n",
       " <selenium.webdriver.remote.webelement.WebElement (session=\"0d4251432c06588de650c6096ea52f06\", element=\"2457a59a-6bd0-4d50-bd8f-68094e268c5c\")>,\n",
       " <selenium.webdriver.remote.webelement.WebElement (session=\"0d4251432c06588de650c6096ea52f06\", element=\"44d2ff97-8823-4bdf-be0c-deb8b9b340fd\")>,\n",
       " <selenium.webdriver.remote.webelement.WebElement (session=\"0d4251432c06588de650c6096ea52f06\", element=\"b49007f6-1b3d-4eb6-a4de-74437dbcd1c3\")>,\n",
       " <selenium.webdriver.remote.webelement.WebElement (session=\"0d4251432c06588de650c6096ea52f06\", element=\"378274ee-5642-48c0-9a7c-eaef6425c6eb\")>,\n",
       " <selenium.webdriver.remote.webelement.WebElement (session=\"0d4251432c06588de650c6096ea52f06\", element=\"4db672ce-4612-4d6c-8a8d-2845696869a0\")>,\n",
       " <selenium.webdriver.remote.webelement.WebElement (session=\"0d4251432c06588de650c6096ea52f06\", element=\"08cfdc76-346e-4f66-8169-1ae7542d9d1f\")>,\n",
       " <selenium.webdriver.remote.webelement.WebElement (session=\"0d4251432c06588de650c6096ea52f06\", element=\"c2b351ba-1f13-4526-ac4b-8951dca19f1a\")>,\n",
       " <selenium.webdriver.remote.webelement.WebElement (session=\"0d4251432c06588de650c6096ea52f06\", element=\"d187e418-ba69-4b6a-812c-fead8e2aa4a4\")>,\n",
       " <selenium.webdriver.remote.webelement.WebElement (session=\"0d4251432c06588de650c6096ea52f06\", element=\"ed818830-1c06-49ad-beab-8f306b98ba5f\")>,\n",
       " <selenium.webdriver.remote.webelement.WebElement (session=\"0d4251432c06588de650c6096ea52f06\", element=\"f13009a7-7887-47bc-a134-7f8017e62c7d\")>,\n",
       " <selenium.webdriver.remote.webelement.WebElement (session=\"0d4251432c06588de650c6096ea52f06\", element=\"0e47cd98-356f-4177-801a-2ccc63db1df2\")>,\n",
       " <selenium.webdriver.remote.webelement.WebElement (session=\"0d4251432c06588de650c6096ea52f06\", element=\"3f7b3925-f0a6-46ef-992f-2b9d601117c4\")>]"
      ]
     },
     "execution_count": 98,
     "metadata": {},
     "output_type": "execute_result"
    }
   ],
   "source": [
    "# Scrapping title\n",
    "tle = driver.find_elements_by_xpath(\"//a[@class='a-link-normal a-text-normal']\")\n",
    "tle"
   ]
  },
  {
   "cell_type": "code",
   "execution_count": 99,
   "id": "fa6e4d54",
   "metadata": {},
   "outputs": [
    {
     "data": {
      "text/plain": [
       "['HP Pavilion (2021) Thin & Light 11th Gen Core i7 Laptop, 16 GB RAM, 1TB SSD, Iris Xe Graphics, 14\" (35.56cms) FHD Screen, Windows 10, MS Office, Backlit Keyboard (14-dv0058TU)',\n",
       " '(Renewed) Dell Intel Core i7 7th Gen12.5 Inch(31.75 cms) (1920 x 1080)FHD TOUCHSCREEN Laptop (32GB RAM /1TB SSD/Windows 10 Pro/MS Office/Intel Integrated HD Graphics /1.18Kg,Black) Latitude E7280',\n",
       " 'Mi Notebook Horizon Edition 14 Intel Core i7-10510U 10th Gen 14-inch (35.56 cms) Thin and Light Laptop(8GB/512GB SSD/Windows 10/Nvidia MX350 2GB Graphics/Grey/1.35Kg), XMA1904-AF+Webcam',\n",
       " 'ASUS TUF Gaming F15, 15.6\" FHD 144Hz, Intel Core i7-10870H 10th Gen, GTX 1650 Ti GDDR6 4GB Graphics, Gaming Laptop (16GB RAM/1TB HDD + 256GB SSD/Windows 10/Fortress Gray/2.3 Kg), FX566LI-HN133T',\n",
       " 'HP Pavilion Gaming 10th Gen Intel Core i7 Processor 15.6-inch FHD Gaming Laptop (16GB/512GB SSD + 32GB Intel Optane/Windows 10/NVIDIA 1650Ti 4GB/Shadow Black), 15-dk1509TX',\n",
       " 'HP Pavilion x360 (2021) 14\" (35.56cms) FHD Touchscreen Laptop, 11th Gen Core i7, 8 GB RAM, 512GB SSD, 2-in-1 Convertible, Windows 10, MS Office, Finger Print Reader (14-dw1040TU)',\n",
       " 'Dell Inspiron 15 Gaming 7567 15.6-inch Laptop (7th Gen Core i7-7700HQ/8GB/1TB/Windows 10 with Microsoft Office Home & Student 2016/4GB Graphics)',\n",
       " 'Dell 14 (2021) i7-1165G7 2in1 Touch Screen Laptop, 16Gb RAM, 512Gb SSD, 14” (35.56 cms) FHD Display, Win 10 + MSO, Backlit KB + FPR + Active Pen, Silver Metal Color (Inspiron 5410, D560469WIN9S)',\n",
       " 'HP 14 Thin & Light 14\" (35.56cms) FHD Laptop (11th Gen Intel i7-1165G7/8GB/512GB SSD/Windows 10/MS Office 2019/Alexa Built-in/Pale Gold/1.47 kg), 14s-dr2007TU',\n",
       " 'Lenovo Legion Y540 Intel Core i7 9th Gen 15.6” FHD Gaming (8GB/256SSD + 1TBHDD/Win10/NVIDIA GeForce GTX 1650 4GB/Raven Black/2.3kg), 81SY00U7IN']"
      ]
     },
     "execution_count": 99,
     "metadata": {},
     "output_type": "execute_result"
    }
   ],
   "source": [
    "title = []\n",
    "for t in tle:\n",
    "    title.append(t.text)\n",
    "title[:10]"
   ]
  },
  {
   "cell_type": "code",
   "execution_count": 100,
   "id": "95ec1a95",
   "metadata": {
    "scrolled": true
   },
   "outputs": [],
   "source": [
    "# Scrapping Ratings\n",
    "urls = []\n",
    "all_url = driver.find_elements_by_xpath(\"//a[@class='a-link-normal a-text-normal']\")\n"
   ]
  },
  {
   "cell_type": "code",
   "execution_count": 101,
   "id": "f06d2abd",
   "metadata": {},
   "outputs": [],
   "source": [
    "for l in all_url[0:10]:\n",
    "    urls.append(l.get_attribute('href'))"
   ]
  },
  {
   "cell_type": "code",
   "execution_count": 70,
   "id": "9f23a569",
   "metadata": {
    "scrolled": true
   },
   "outputs": [
    {
     "data": {
      "text/plain": [
       "['https://www.amazon.in/HP-Pavilion-Graphics-35-56cms-14-dv0058TU/dp/B08WB857GB/ref=sr_1_1?dchild=1&keywords=Laptop&qid=1625927005&refinements=p_n_feature_thirteen_browse-bin%3A12598163031%7C16757432031&rnid=12598141031&s=computers&sr=1-1',\n",
       " 'https://www.amazon.in/Dell-i7-1165G7-Inspiron-5410-D560469WIN9S/dp/B095S9NJ4S/ref=sr_1_2?dchild=1&keywords=Laptop&qid=1625927005&refinements=p_n_feature_thirteen_browse-bin%3A12598163031%7C16757432031&rnid=12598141031&s=computers&sr=1-2',\n",
       " 'https://www.amazon.in/Notebook-Horizon-i7-10510U-Graphics-XMA1904-AF/dp/B089F2W1KW/ref=sr_1_3?dchild=1&keywords=Laptop&qid=1625927005&refinements=p_n_feature_thirteen_browse-bin%3A12598163031%7C16757432031&rnid=12598141031&s=computers&sr=1-3',\n",
       " 'https://www.amazon.in/HP-Pavilion-Processor-15-6-inch-15-dk1509TX/dp/B08ZN7GBQ5/ref=sr_1_4?dchild=1&keywords=Laptop&qid=1625927005&refinements=p_n_feature_thirteen_browse-bin%3A12598163031%7C16757432031&rnid=12598141031&s=computers&sr=1-4',\n",
       " 'https://www.amazon.in/Lenovo-Legion-Gaming-GeForce-81SY00U7IN/dp/B092MRQCJ6/ref=sr_1_5?dchild=1&keywords=Laptop&qid=1625927005&refinements=p_n_feature_thirteen_browse-bin%3A12598163031%7C16757432031&rnid=12598141031&s=computers&sr=1-5',\n",
       " 'https://www.amazon.in/Lenovo-Ideapad-Graphics-Graphite-82FG0117IN/dp/B092MV9ZF6/ref=sr_1_6?dchild=1&keywords=Laptop&qid=1625927005&refinements=p_n_feature_thirteen_browse-bin%3A12598163031%7C16757432031&rnid=12598141031&s=computers&sr=1-6',\n",
       " 'https://www.amazon.in/HP-Pavilion-Touchscreen-Convertible-14-dw1040TU/dp/B08R843NHL/ref=sr_1_7?dchild=1&keywords=Laptop&qid=1625927005&refinements=p_n_feature_thirteen_browse-bin%3A12598163031%7C16757432031&rnid=12598141031&s=computers&sr=1-7',\n",
       " 'https://www.amazon.in/ASUS-VivoBook-i7-1165G7-Graphics-S433EA-AM702TS/dp/B08SN9GJXH/ref=sr_1_8?dchild=1&keywords=Laptop&qid=1625927005&refinements=p_n_feature_thirteen_browse-bin%3A12598163031%7C16757432031&rnid=12598141031&s=computers&sr=1-8',\n",
       " 'https://www.amazon.in/MSI-i7-10750H-IPS-Level-Windows-10SDR-1280IN/dp/B093L8JCZV/ref=sr_1_9?dchild=1&keywords=Laptop&qid=1625927005&refinements=p_n_feature_thirteen_browse-bin%3A12598163031%7C16757432031&rnid=12598141031&s=computers&sr=1-9',\n",
       " 'https://www.amazon.in/ASUS-Zephyrus-i7-10750H-RTX-2080-GX701LXS-HG002TS/dp/B08PFD2Z9M/ref=sr_1_10?dchild=1&keywords=Laptop&qid=1625927005&refinements=p_n_feature_thirteen_browse-bin%3A12598163031%7C16757432031&rnid=12598141031&s=computers&sr=1-10']"
      ]
     },
     "execution_count": 70,
     "metadata": {},
     "output_type": "execute_result"
    }
   ],
   "source": [
    "urls"
   ]
  },
  {
   "cell_type": "code",
   "execution_count": 102,
   "id": "f5a6fd0b",
   "metadata": {},
   "outputs": [],
   "source": [
    "Ratingss = []\n",
    "for x in urls:\n",
    "    driver.get(x)\n",
    "    try:              \n",
    "        driver.find_element_by_xpath(\"//span[@id='acrCustomerReviewText']\").click()\n",
    "        rating=driver.find_element_by_xpath(\"//span[@class='a-size-medium a-color-base']\")\n",
    "        Ratingss.append(rating.text)\n",
    "    except NoSuchElementException as e :\n",
    "    \n",
    "        Ratingss.append(\"No rating\")"
   ]
  },
  {
   "cell_type": "code",
   "execution_count": 103,
   "id": "39aee687",
   "metadata": {},
   "outputs": [
    {
     "data": {
      "text/plain": [
       "['4.4 out of 5',\n",
       " 'No rating',\n",
       " '4.4 out of 5',\n",
       " '4.5 out of 5',\n",
       " '4.2 out of 5',\n",
       " '4 out of 5',\n",
       " '2.7 out of 5',\n",
       " '4.6 out of 5',\n",
       " '4.6 out of 5',\n",
       " '4.3 out of 5']"
      ]
     },
     "execution_count": 103,
     "metadata": {},
     "output_type": "execute_result"
    }
   ],
   "source": [
    "Ratingss"
   ]
  },
  {
   "cell_type": "code",
   "execution_count": 104,
   "id": "2d4094ec",
   "metadata": {},
   "outputs": [
    {
     "data": {
      "text/plain": [
       "10"
      ]
     },
     "execution_count": 104,
     "metadata": {},
     "output_type": "execute_result"
    }
   ],
   "source": [
    "len(Ratingss)"
   ]
  },
  {
   "cell_type": "code",
   "execution_count": 105,
   "id": "fc468193",
   "metadata": {
    "scrolled": true
   },
   "outputs": [
    {
     "data": {
      "text/plain": [
       "[<selenium.webdriver.remote.webelement.WebElement (session=\"0d4251432c06588de650c6096ea52f06\", element=\"42bbfdd7-949e-4d2e-b440-f3493a098d54\")>,\n",
       " <selenium.webdriver.remote.webelement.WebElement (session=\"0d4251432c06588de650c6096ea52f06\", element=\"4c72e5df-468f-4511-b9d0-9814e8a00301\")>,\n",
       " <selenium.webdriver.remote.webelement.WebElement (session=\"0d4251432c06588de650c6096ea52f06\", element=\"6559e5ab-8bb3-4e00-94da-d5915e54a342\")>,\n",
       " <selenium.webdriver.remote.webelement.WebElement (session=\"0d4251432c06588de650c6096ea52f06\", element=\"2c1a9c9b-06b4-4d26-8bd3-86fa2a498f0d\")>,\n",
       " <selenium.webdriver.remote.webelement.WebElement (session=\"0d4251432c06588de650c6096ea52f06\", element=\"81446a5f-17c2-4da5-aae2-44db5264a3cc\")>,\n",
       " <selenium.webdriver.remote.webelement.WebElement (session=\"0d4251432c06588de650c6096ea52f06\", element=\"f2cde1aa-0171-48e8-a0ae-b6d15c4fd157\")>,\n",
       " <selenium.webdriver.remote.webelement.WebElement (session=\"0d4251432c06588de650c6096ea52f06\", element=\"33d4cab7-0d2d-4de7-8ecf-3f9279a22369\")>,\n",
       " <selenium.webdriver.remote.webelement.WebElement (session=\"0d4251432c06588de650c6096ea52f06\", element=\"d6954fe8-ee41-4913-86dc-05a88d58cc99\")>,\n",
       " <selenium.webdriver.remote.webelement.WebElement (session=\"0d4251432c06588de650c6096ea52f06\", element=\"1e3e9948-2d16-4519-b8ea-ac1207384fa1\")>,\n",
       " <selenium.webdriver.remote.webelement.WebElement (session=\"0d4251432c06588de650c6096ea52f06\", element=\"6b064641-e2cc-4a53-b3c3-cd0d9c7a3707\")>,\n",
       " <selenium.webdriver.remote.webelement.WebElement (session=\"0d4251432c06588de650c6096ea52f06\", element=\"5c130b21-05d7-43aa-8db8-3886191f2a11\")>,\n",
       " <selenium.webdriver.remote.webelement.WebElement (session=\"0d4251432c06588de650c6096ea52f06\", element=\"3be44fbe-947e-4b1a-b279-6f8ae9f8911d\")>,\n",
       " <selenium.webdriver.remote.webelement.WebElement (session=\"0d4251432c06588de650c6096ea52f06\", element=\"bb149ffa-fe91-40be-83e3-9deee974820f\")>,\n",
       " <selenium.webdriver.remote.webelement.WebElement (session=\"0d4251432c06588de650c6096ea52f06\", element=\"cd169412-02e1-45ba-92ac-81f246c3440d\")>,\n",
       " <selenium.webdriver.remote.webelement.WebElement (session=\"0d4251432c06588de650c6096ea52f06\", element=\"4d91145b-516c-4912-aee7-6d86017365ba\")>,\n",
       " <selenium.webdriver.remote.webelement.WebElement (session=\"0d4251432c06588de650c6096ea52f06\", element=\"44278f7d-5d95-4f55-bafe-20595649b418\")>,\n",
       " <selenium.webdriver.remote.webelement.WebElement (session=\"0d4251432c06588de650c6096ea52f06\", element=\"35f00414-d7e5-4e47-997e-dfb30e6413a9\")>,\n",
       " <selenium.webdriver.remote.webelement.WebElement (session=\"0d4251432c06588de650c6096ea52f06\", element=\"6562384f-1f28-4107-af9c-be7a6dd7d567\")>,\n",
       " <selenium.webdriver.remote.webelement.WebElement (session=\"0d4251432c06588de650c6096ea52f06\", element=\"0ac30126-c9f1-400f-a817-faadc4ef26d3\")>,\n",
       " <selenium.webdriver.remote.webelement.WebElement (session=\"0d4251432c06588de650c6096ea52f06\", element=\"8799a24e-1f74-4996-b645-eb9514ef06b8\")>,\n",
       " <selenium.webdriver.remote.webelement.WebElement (session=\"0d4251432c06588de650c6096ea52f06\", element=\"4fecb3ec-ae37-4260-82ae-c765734664f0\")>,\n",
       " <selenium.webdriver.remote.webelement.WebElement (session=\"0d4251432c06588de650c6096ea52f06\", element=\"6e6d426c-9eb5-4832-837e-03ecdbfab286\")>,\n",
       " <selenium.webdriver.remote.webelement.WebElement (session=\"0d4251432c06588de650c6096ea52f06\", element=\"079769bd-f2fc-4e3b-83ed-74e21dbaf2bd\")>,\n",
       " <selenium.webdriver.remote.webelement.WebElement (session=\"0d4251432c06588de650c6096ea52f06\", element=\"aa89c331-8ad6-4e75-bcf5-f9a4763a14b5\")>,\n",
       " <selenium.webdriver.remote.webelement.WebElement (session=\"0d4251432c06588de650c6096ea52f06\", element=\"6ea21329-2257-43e9-96c6-a1976bd4c61b\")>,\n",
       " <selenium.webdriver.remote.webelement.WebElement (session=\"0d4251432c06588de650c6096ea52f06\", element=\"b0070b38-2fef-46f3-b35e-ade01793cc73\")>,\n",
       " <selenium.webdriver.remote.webelement.WebElement (session=\"0d4251432c06588de650c6096ea52f06\", element=\"10215f0f-ce1a-4576-8b2b-ee5df32a8b0b\")>,\n",
       " <selenium.webdriver.remote.webelement.WebElement (session=\"0d4251432c06588de650c6096ea52f06\", element=\"4bea540f-52df-46df-a9c8-b794c67ea30c\")>,\n",
       " <selenium.webdriver.remote.webelement.WebElement (session=\"0d4251432c06588de650c6096ea52f06\", element=\"4e1b9407-3a3d-45ad-b250-41482d26669a\")>,\n",
       " <selenium.webdriver.remote.webelement.WebElement (session=\"0d4251432c06588de650c6096ea52f06\", element=\"744c6b14-7f1c-4b7d-ac94-701230451f5f\")>,\n",
       " <selenium.webdriver.remote.webelement.WebElement (session=\"0d4251432c06588de650c6096ea52f06\", element=\"3e349777-c97c-43a3-92a0-70d36c45848d\")>,\n",
       " <selenium.webdriver.remote.webelement.WebElement (session=\"0d4251432c06588de650c6096ea52f06\", element=\"61699ca6-1078-4b80-ba5e-d4331f8a4664\")>]"
      ]
     },
     "execution_count": 105,
     "metadata": {},
     "output_type": "execute_result"
    }
   ],
   "source": [
    "# Scrapping the Price\n",
    "pr = driver.find_elements_by_xpath(\"//span[@class='a-price-whole']\")\n",
    "pr"
   ]
  },
  {
   "cell_type": "code",
   "execution_count": 107,
   "id": "f3b357de",
   "metadata": {
    "scrolled": true
   },
   "outputs": [
    {
     "data": {
      "text/plain": [
       "['3,009',\n",
       " '3,009',\n",
       " '54,999',\n",
       " '49,990',\n",
       " '28,596',\n",
       " '27,990',\n",
       " '28,490',\n",
       " '3,755',\n",
       " '27,490',\n",
       " '19,790']"
      ]
     },
     "execution_count": 107,
     "metadata": {},
     "output_type": "execute_result"
    }
   ],
   "source": [
    "price = []\n",
    "for p in pr:\n",
    "    price.append(p.text)\n",
    "price[:10]"
   ]
  }
 ],
 "metadata": {
  "kernelspec": {
   "display_name": "Python 3",
   "language": "python",
   "name": "python3"
  },
  "language_info": {
   "codemirror_mode": {
    "name": "ipython",
    "version": 3
   },
   "file_extension": ".py",
   "mimetype": "text/x-python",
   "name": "python",
   "nbconvert_exporter": "python",
   "pygments_lexer": "ipython3",
   "version": "3.8.8"
  }
 },
 "nbformat": 4,
 "nbformat_minor": 5
}
