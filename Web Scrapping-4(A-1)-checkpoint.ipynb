{
 "cells": [
  {
   "cell_type": "markdown",
   "id": "68380a77",
   "metadata": {},
   "source": [
    "# Web Scrapping-4(A-1)"
   ]
  },
  {
   "cell_type": "code",
   "execution_count": 1,
   "id": "8609aea3",
   "metadata": {},
   "outputs": [],
   "source": [
    "from bs4 import BeautifulSoup\n",
    "import requests"
   ]
  },
  {
   "cell_type": "raw",
   "id": "07eea1ed",
   "metadata": {},
   "source": [
    "10. Write a python program to scrape house details from mentioned url. It should include house title, location, \n",
    "area, emi and price.\n"
   ]
  },
  {
   "cell_type": "code",
   "execution_count": 2,
   "id": "1c144702",
   "metadata": {},
   "outputs": [
    {
     "data": {
      "text/plain": [
       "<Response [200]>"
      ]
     },
     "execution_count": 2,
     "metadata": {},
     "output_type": "execute_result"
    }
   ],
   "source": [
    "data = requests.get('https://www.nobroker.in/property/sale/bangalore/Electronic%20City?searchParam=W3sibGF0IjoxMi44NDUyMTQ1LCJsb24iOjc3LjY2MDE2OTUsInBsYWNlSWQiOiJDaElKdy1GUWQ0cHNyanNSSGZkYXpnXzhYRW8iLCJwbGFjZU5hbWUiOiJFbGVjdHJvbmljIENpdHkifV0=&radius=2.0&type=BHK4')\n",
    "data"
   ]
  },
  {
   "cell_type": "code",
   "execution_count": 3,
   "id": "ffd4ad19",
   "metadata": {},
   "outputs": [],
   "source": [
    "soup = BeautifulSoup(data.content)"
   ]
  },
  {
   "cell_type": "code",
   "execution_count": 4,
   "id": "f72ebe8f",
   "metadata": {},
   "outputs": [],
   "source": [
    "house_title = soup.find_all('h2','heading-6 font-semi-bold nb__1AShY')"
   ]
  },
  {
   "cell_type": "code",
   "execution_count": 5,
   "id": "69cfd204",
   "metadata": {},
   "outputs": [
    {
     "data": {
      "text/plain": [
       "'4 BHK In Independent House  For Sale  In Naganathapura '"
      ]
     },
     "execution_count": 5,
     "metadata": {},
     "output_type": "execute_result"
    }
   ],
   "source": [
    "house_title[0].text"
   ]
  },
  {
   "cell_type": "code",
   "execution_count": 6,
   "id": "8b31aa06",
   "metadata": {},
   "outputs": [],
   "source": [
    "House_details = []"
   ]
  },
  {
   "cell_type": "code",
   "execution_count": 7,
   "id": "127bdb2d",
   "metadata": {
    "scrolled": true
   },
   "outputs": [],
   "source": [
    "for i in house_title:\n",
    "    House_details.append(i.text)"
   ]
  },
  {
   "cell_type": "code",
   "execution_count": 8,
   "id": "c63490a7",
   "metadata": {},
   "outputs": [
    {
     "data": {
      "text/plain": [
       "['4 BHK In Independent House  For Sale  In Naganathapura ',\n",
       " '4 BHK For Sale  In Daadys Garden In Electronic City ',\n",
       " '4 BHK In Independent House  For Sale  In Sarjapura ',\n",
       " '4 BHK Flat  For Sale  In Electronic City ',\n",
       " '4 BHK In Independent House  For Sale  In Electronic City,  ',\n",
       " '4 BHK In Independent House  For Sale  In Electronic City ',\n",
       " '4 BHK Apartment  For Sale  In Gopalan Gardenia In Electronic City ',\n",
       " '4 BHK Flat  For Sale  In Electronic City ',\n",
       " '4 BHK Flat  For Sale  In Heena Enclave In Electronic City ',\n",
       " '4 BHK In Independent House  For Sale  In Ananth Nagar ']"
      ]
     },
     "execution_count": 8,
     "metadata": {},
     "output_type": "execute_result"
    }
   ],
   "source": [
    "House_details"
   ]
  },
  {
   "cell_type": "code",
   "execution_count": 9,
   "id": "fcc69964",
   "metadata": {},
   "outputs": [
    {
     "data": {
      "text/plain": [
       "10"
      ]
     },
     "execution_count": 9,
     "metadata": {},
     "output_type": "execute_result"
    }
   ],
   "source": [
    "len(House_details)"
   ]
  },
  {
   "cell_type": "code",
   "execution_count": 10,
   "id": "533cf96c",
   "metadata": {},
   "outputs": [],
   "source": [
    "Location_details = []"
   ]
  },
  {
   "cell_type": "code",
   "execution_count": 11,
   "id": "997136e1",
   "metadata": {},
   "outputs": [],
   "source": [
    "loc = soup.find_all('div', class_ = 'nb__2CMjv')\n",
    "for l in loc:\n",
    "    Location_details.append(l.text)"
   ]
  },
  {
   "cell_type": "code",
   "execution_count": 12,
   "id": "39844a3e",
   "metadata": {},
   "outputs": [
    {
     "data": {
      "text/plain": [
       "['Independent House, Doddanagamangala Rd opposite Sobha Silicon Oasis',\n",
       " 'Daadys Garden\\xa0 Kammasandra Rd, Kammasandra, Electronic City, Bengaluru, Karnataka 560100, India',\n",
       " 'Independent House,  Shantipura Village , S.P Layout , near  Shantipura Panchayat Office',\n",
       " 'Standalone Building, Shikaripalya, near Shams School',\n",
       " 'Independent House,  Krishna reddy layout-Near Maruti Suzuki ARENA (Surakshaa Car Care, Bengaluru, Electronic City)',\n",
       " 'Independent House, Dhruv Dhama LayoutNear Heddari Icon',\n",
       " 'Gopalan Gardenia\\xa0 Gopalan gardenia, Veerasandra Main Rd, Veer Sandra, Electronic City, Bengaluru, Karnataka 560100, India',\n",
       " 'Standalone Building, Konappana Agrahara, Near Saffron Supermarket',\n",
       " ' Neeladri Nagar,Near Pioneer Sun Blossom',\n",
       " 'Independent House, Glass factory Outlet nd cross Near Grand Mart ']"
      ]
     },
     "execution_count": 12,
     "metadata": {},
     "output_type": "execute_result"
    }
   ],
   "source": [
    "Location_details"
   ]
  },
  {
   "cell_type": "code",
   "execution_count": 13,
   "id": "59b09b9c",
   "metadata": {},
   "outputs": [
    {
     "data": {
      "text/plain": [
       "10"
      ]
     },
     "execution_count": 13,
     "metadata": {},
     "output_type": "execute_result"
    }
   ],
   "source": [
    "len(Location_details)"
   ]
  },
  {
   "cell_type": "code",
   "execution_count": 14,
   "id": "9d3a5cc1",
   "metadata": {},
   "outputs": [],
   "source": [
    "EMI = []\n",
    "emi = soup.find_all('div', class_ ='font-semi-bold heading-6')\n",
    "for e in emi:\n",
    "    EMI.append(e.text)\n",
    "    EMI"
   ]
  },
  {
   "cell_type": "code",
   "execution_count": 15,
   "id": "2bd2b05c",
   "metadata": {
    "scrolled": true
   },
   "outputs": [],
   "source": [
    "EMI_details = EMI[1:30:3]"
   ]
  },
  {
   "cell_type": "code",
   "execution_count": 16,
   "id": "a234c679",
   "metadata": {},
   "outputs": [
    {
     "data": {
      "text/plain": [
       "['₹45,851/Month',\n",
       " '₹85,971/Month',\n",
       " '₹40,120/Month',\n",
       " '₹20,060/Month',\n",
       " '₹1.43 Lacs/Month',\n",
       " '₹51,583/Month',\n",
       " '₹63,045/Month',\n",
       " '₹28,657/Month',\n",
       " '₹71,643/Month',\n",
       " '₹56,168/Month']"
      ]
     },
     "execution_count": 16,
     "metadata": {},
     "output_type": "execute_result"
    }
   ],
   "source": [
    "EMI_details"
   ]
  },
  {
   "cell_type": "code",
   "execution_count": 17,
   "id": "f0c50de0",
   "metadata": {},
   "outputs": [
    {
     "data": {
      "text/plain": [
       "10"
      ]
     },
     "execution_count": 17,
     "metadata": {},
     "output_type": "execute_result"
    }
   ],
   "source": [
    "len(EMI_details)"
   ]
  },
  {
   "cell_type": "code",
   "execution_count": 18,
   "id": "0ea2e06f",
   "metadata": {},
   "outputs": [],
   "source": [
    "Area_details = EMI[0:30:3]"
   ]
  },
  {
   "cell_type": "code",
   "execution_count": 19,
   "id": "5c95e4f7",
   "metadata": {},
   "outputs": [
    {
     "data": {
      "text/plain": [
       "['1,500 sqft',\n",
       " '2,600 sqft',\n",
       " '1,100 sqft',\n",
       " '1,400 sqft',\n",
       " '2,500 sqft',\n",
       " '2,400 sqft',\n",
       " '2,650 sqft',\n",
       " '1,120 sqft',\n",
       " '2,350 sqft',\n",
       " '2,200 sqft']"
      ]
     },
     "execution_count": 19,
     "metadata": {},
     "output_type": "execute_result"
    }
   ],
   "source": [
    "Area_details"
   ]
  },
  {
   "cell_type": "code",
   "execution_count": 20,
   "id": "2525397b",
   "metadata": {},
   "outputs": [
    {
     "data": {
      "text/plain": [
       "10"
      ]
     },
     "execution_count": 20,
     "metadata": {},
     "output_type": "execute_result"
    }
   ],
   "source": [
    "len(Area_details)"
   ]
  },
  {
   "cell_type": "code",
   "execution_count": 21,
   "id": "d9e3eabb",
   "metadata": {},
   "outputs": [],
   "source": [
    "price_details = EMI[2:30:3]"
   ]
  },
  {
   "cell_type": "code",
   "execution_count": 22,
   "id": "390a6f06",
   "metadata": {},
   "outputs": [
    {
     "data": {
      "text/plain": [
       "['₹80 Lacs',\n",
       " '₹1.5 Crores',\n",
       " '₹70 Lacs',\n",
       " '₹35 Lacs',\n",
       " '₹2.5 Crores',\n",
       " '₹90 Lacs',\n",
       " '₹1.1 Crores',\n",
       " '₹50 Lacs',\n",
       " '₹1.25 Crores',\n",
       " '₹98 Lacs']"
      ]
     },
     "execution_count": 22,
     "metadata": {},
     "output_type": "execute_result"
    }
   ],
   "source": [
    "price_details"
   ]
  },
  {
   "cell_type": "code",
   "execution_count": 23,
   "id": "c22fcb24",
   "metadata": {},
   "outputs": [
    {
     "data": {
      "text/plain": [
       "10"
      ]
     },
     "execution_count": 23,
     "metadata": {},
     "output_type": "execute_result"
    }
   ],
   "source": [
    "len(price_details)"
   ]
  },
  {
   "cell_type": "code",
   "execution_count": 24,
   "id": "3881d671",
   "metadata": {},
   "outputs": [],
   "source": [
    "import pandas as pd\n",
    "no_broker = pd.DataFrame({})\n",
    "no_broker['House Title'] = House_details\n",
    "no_broker['Location'] = Location_details\n",
    "no_broker['Area'] =  Area_details\n",
    "no_broker['EMI'] =  EMI_details\n",
    "no_broker['price'] = price_details"
   ]
  },
  {
   "cell_type": "code",
   "execution_count": 25,
   "id": "a92a5b76",
   "metadata": {},
   "outputs": [
    {
     "data": {
      "text/html": [
       "<div>\n",
       "<style scoped>\n",
       "    .dataframe tbody tr th:only-of-type {\n",
       "        vertical-align: middle;\n",
       "    }\n",
       "\n",
       "    .dataframe tbody tr th {\n",
       "        vertical-align: top;\n",
       "    }\n",
       "\n",
       "    .dataframe thead th {\n",
       "        text-align: right;\n",
       "    }\n",
       "</style>\n",
       "<table border=\"1\" class=\"dataframe\">\n",
       "  <thead>\n",
       "    <tr style=\"text-align: right;\">\n",
       "      <th></th>\n",
       "      <th>House Title</th>\n",
       "      <th>Location</th>\n",
       "      <th>Area</th>\n",
       "      <th>EMI</th>\n",
       "      <th>price</th>\n",
       "    </tr>\n",
       "  </thead>\n",
       "  <tbody>\n",
       "    <tr>\n",
       "      <th>0</th>\n",
       "      <td>4 BHK In Independent House  For Sale  In Nagan...</td>\n",
       "      <td>Independent House, Doddanagamangala Rd opposit...</td>\n",
       "      <td>1,500 sqft</td>\n",
       "      <td>₹45,851/Month</td>\n",
       "      <td>₹80 Lacs</td>\n",
       "    </tr>\n",
       "    <tr>\n",
       "      <th>1</th>\n",
       "      <td>4 BHK For Sale  In Daadys Garden In Electronic...</td>\n",
       "      <td>Daadys Garden  Kammasandra Rd, Kammasandra, El...</td>\n",
       "      <td>2,600 sqft</td>\n",
       "      <td>₹85,971/Month</td>\n",
       "      <td>₹1.5 Crores</td>\n",
       "    </tr>\n",
       "    <tr>\n",
       "      <th>2</th>\n",
       "      <td>4 BHK In Independent House  For Sale  In Sarja...</td>\n",
       "      <td>Independent House,  Shantipura Village , S.P L...</td>\n",
       "      <td>1,100 sqft</td>\n",
       "      <td>₹40,120/Month</td>\n",
       "      <td>₹70 Lacs</td>\n",
       "    </tr>\n",
       "    <tr>\n",
       "      <th>3</th>\n",
       "      <td>4 BHK Flat  For Sale  In Electronic City</td>\n",
       "      <td>Standalone Building, Shikaripalya, near Shams ...</td>\n",
       "      <td>1,400 sqft</td>\n",
       "      <td>₹20,060/Month</td>\n",
       "      <td>₹35 Lacs</td>\n",
       "    </tr>\n",
       "    <tr>\n",
       "      <th>4</th>\n",
       "      <td>4 BHK In Independent House  For Sale  In Elect...</td>\n",
       "      <td>Independent House,  Krishna reddy layout-Near ...</td>\n",
       "      <td>2,500 sqft</td>\n",
       "      <td>₹1.43 Lacs/Month</td>\n",
       "      <td>₹2.5 Crores</td>\n",
       "    </tr>\n",
       "    <tr>\n",
       "      <th>5</th>\n",
       "      <td>4 BHK In Independent House  For Sale  In Elect...</td>\n",
       "      <td>Independent House, Dhruv Dhama LayoutNear Hedd...</td>\n",
       "      <td>2,400 sqft</td>\n",
       "      <td>₹51,583/Month</td>\n",
       "      <td>₹90 Lacs</td>\n",
       "    </tr>\n",
       "    <tr>\n",
       "      <th>6</th>\n",
       "      <td>4 BHK Apartment  For Sale  In Gopalan Gardenia...</td>\n",
       "      <td>Gopalan Gardenia  Gopalan gardenia, Veerasandr...</td>\n",
       "      <td>2,650 sqft</td>\n",
       "      <td>₹63,045/Month</td>\n",
       "      <td>₹1.1 Crores</td>\n",
       "    </tr>\n",
       "    <tr>\n",
       "      <th>7</th>\n",
       "      <td>4 BHK Flat  For Sale  In Electronic City</td>\n",
       "      <td>Standalone Building, Konappana Agrahara, Near ...</td>\n",
       "      <td>1,120 sqft</td>\n",
       "      <td>₹28,657/Month</td>\n",
       "      <td>₹50 Lacs</td>\n",
       "    </tr>\n",
       "    <tr>\n",
       "      <th>8</th>\n",
       "      <td>4 BHK Flat  For Sale  In Heena Enclave In Elec...</td>\n",
       "      <td>Neeladri Nagar,Near Pioneer Sun Blossom</td>\n",
       "      <td>2,350 sqft</td>\n",
       "      <td>₹71,643/Month</td>\n",
       "      <td>₹1.25 Crores</td>\n",
       "    </tr>\n",
       "    <tr>\n",
       "      <th>9</th>\n",
       "      <td>4 BHK In Independent House  For Sale  In Anant...</td>\n",
       "      <td>Independent House, Glass factory Outlet nd cro...</td>\n",
       "      <td>2,200 sqft</td>\n",
       "      <td>₹56,168/Month</td>\n",
       "      <td>₹98 Lacs</td>\n",
       "    </tr>\n",
       "  </tbody>\n",
       "</table>\n",
       "</div>"
      ],
      "text/plain": [
       "                                         House Title  \\\n",
       "0  4 BHK In Independent House  For Sale  In Nagan...   \n",
       "1  4 BHK For Sale  In Daadys Garden In Electronic...   \n",
       "2  4 BHK In Independent House  For Sale  In Sarja...   \n",
       "3          4 BHK Flat  For Sale  In Electronic City    \n",
       "4  4 BHK In Independent House  For Sale  In Elect...   \n",
       "5  4 BHK In Independent House  For Sale  In Elect...   \n",
       "6  4 BHK Apartment  For Sale  In Gopalan Gardenia...   \n",
       "7          4 BHK Flat  For Sale  In Electronic City    \n",
       "8  4 BHK Flat  For Sale  In Heena Enclave In Elec...   \n",
       "9  4 BHK In Independent House  For Sale  In Anant...   \n",
       "\n",
       "                                            Location        Area  \\\n",
       "0  Independent House, Doddanagamangala Rd opposit...  1,500 sqft   \n",
       "1  Daadys Garden  Kammasandra Rd, Kammasandra, El...  2,600 sqft   \n",
       "2  Independent House,  Shantipura Village , S.P L...  1,100 sqft   \n",
       "3  Standalone Building, Shikaripalya, near Shams ...  1,400 sqft   \n",
       "4  Independent House,  Krishna reddy layout-Near ...  2,500 sqft   \n",
       "5  Independent House, Dhruv Dhama LayoutNear Hedd...  2,400 sqft   \n",
       "6  Gopalan Gardenia  Gopalan gardenia, Veerasandr...  2,650 sqft   \n",
       "7  Standalone Building, Konappana Agrahara, Near ...  1,120 sqft   \n",
       "8            Neeladri Nagar,Near Pioneer Sun Blossom  2,350 sqft   \n",
       "9  Independent House, Glass factory Outlet nd cro...  2,200 sqft   \n",
       "\n",
       "                EMI         price  \n",
       "0     ₹45,851/Month      ₹80 Lacs  \n",
       "1     ₹85,971/Month   ₹1.5 Crores  \n",
       "2     ₹40,120/Month      ₹70 Lacs  \n",
       "3     ₹20,060/Month      ₹35 Lacs  \n",
       "4  ₹1.43 Lacs/Month   ₹2.5 Crores  \n",
       "5     ₹51,583/Month      ₹90 Lacs  \n",
       "6     ₹63,045/Month   ₹1.1 Crores  \n",
       "7     ₹28,657/Month      ₹50 Lacs  \n",
       "8     ₹71,643/Month  ₹1.25 Crores  \n",
       "9     ₹56,168/Month      ₹98 Lacs  "
      ]
     },
     "execution_count": 25,
     "metadata": {},
     "output_type": "execute_result"
    }
   ],
   "source": [
    "no_broker"
   ]
  },
  {
   "cell_type": "code",
   "execution_count": null,
   "id": "f6879b60",
   "metadata": {},
   "outputs": [],
   "source": []
  }
 ],
 "metadata": {
  "kernelspec": {
   "display_name": "Python 3",
   "language": "python",
   "name": "python3"
  },
  "language_info": {
   "codemirror_mode": {
    "name": "ipython",
    "version": 3
   },
   "file_extension": ".py",
   "mimetype": "text/x-python",
   "name": "python",
   "nbconvert_exporter": "python",
   "pygments_lexer": "ipython3",
   "version": "3.8.8"
  }
 },
 "nbformat": 4,
 "nbformat_minor": 5
}
