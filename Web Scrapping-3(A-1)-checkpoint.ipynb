{
 "cells": [
  {
   "cell_type": "markdown",
   "id": "82710678",
   "metadata": {},
   "source": [
    "\n",
    "## Web Scrapping-3(A-1)\n",
    "\n",
    "\n"
   ]
  },
  {
   "cell_type": "raw",
   "id": "8ecc6805",
   "metadata": {},
   "source": [
    "6. Write a python program to scrape cricket rankings from ‘www.icc-cricket.com’. You have to scrape:\n",
    "i) Top 10 ODI teams in women’s cricket along with the records for matches, points and rating.\n",
    "ii) Top 10 women’s ODI players along with the records of their team and rating.\n",
    "iii) Top 10 women’s ODI all-rounder along with the records of their team and rating."
   ]
  },
  {
   "cell_type": "code",
   "execution_count": 1,
   "id": "07d089b3",
   "metadata": {},
   "outputs": [],
   "source": [
    "from bs4 import BeautifulSoup\n",
    "import requests"
   ]
  },
  {
   "cell_type": "code",
   "execution_count": 2,
   "id": "fb2adb23",
   "metadata": {},
   "outputs": [
    {
     "data": {
      "text/plain": [
       "<Response [200]>"
      ]
     },
     "execution_count": 2,
     "metadata": {},
     "output_type": "execute_result"
    }
   ],
   "source": [
    "page = requests.get(\"https://www.icc-cricket.com/rankings/womens/team-rankings/odi\")\n",
    "page"
   ]
  },
  {
   "cell_type": "code",
   "execution_count": 3,
   "id": "5635f894",
   "metadata": {},
   "outputs": [],
   "source": [
    "soup = BeautifulSoup(page.content)\n"
   ]
  },
  {
   "cell_type": "code",
   "execution_count": 4,
   "id": "6f122354",
   "metadata": {},
   "outputs": [
    {
     "data": {
      "text/plain": [
       "'Australia'"
      ]
     },
     "execution_count": 4,
     "metadata": {},
     "output_type": "execute_result"
    }
   ],
   "source": [
    "teams = soup.find_all('span', class_= \"u-hide-phablet\")\n",
    "teams[0].text.replace('\\n','')"
   ]
  },
  {
   "cell_type": "code",
   "execution_count": 5,
   "id": "86ddc85b",
   "metadata": {},
   "outputs": [
    {
     "data": {
      "text/plain": [
       "['Australia',\n",
       " 'South Africa',\n",
       " 'England',\n",
       " 'India',\n",
       " 'New Zealand',\n",
       " 'West Indies',\n",
       " 'Pakistan',\n",
       " 'Bangladesh',\n",
       " 'Sri Lanka',\n",
       " 'Ireland']"
      ]
     },
     "execution_count": 5,
     "metadata": {},
     "output_type": "execute_result"
    }
   ],
   "source": [
    "teams_name = []\n",
    "for i in teams:\n",
    "    teams_name.append(i.text.replace('\\n',''))\n",
    "teams_name[:10]"
   ]
  },
  {
   "cell_type": "code",
   "execution_count": 6,
   "id": "72d0da98",
   "metadata": {},
   "outputs": [],
   "source": [
    "Matches = [soup.find(\"td\", class_ = \"rankings-block__banner--matches\").text]\n",
    "Points = [soup.find(\"td\", class_ = 'rankings-block__banner--points').text]"
   ]
  },
  {
   "cell_type": "code",
   "execution_count": 7,
   "id": "1abd0afd",
   "metadata": {},
   "outputs": [],
   "source": [
    "for m,j in enumerate(soup.find_all(\"td\", class_= \"table-body__cell u-center-text\")[:18]):\n",
    "    if m%2 == 0:\n",
    "        Matches.append(j.text)\n",
    "    else:\n",
    "        Points.append(j.text)"
   ]
  },
  {
   "cell_type": "code",
   "execution_count": 8,
   "id": "825c7d70",
   "metadata": {},
   "outputs": [
    {
     "name": "stdout",
     "output_type": "stream",
     "text": [
      "Matches:  ['18', '24', '17', '20', '21', '12', '15', '5', '11', '2']\n",
      "Points : ['2,955', '2,828', '1,993', '2,226', '1,947', '1,025', '1,101', '306', '519', '25']\n"
     ]
    }
   ],
   "source": [
    "print(\"Matches: \",Matches)\n",
    "print(\"Points :\",Points)"
   ]
  },
  {
   "cell_type": "code",
   "execution_count": 9,
   "id": "00b15805",
   "metadata": {},
   "outputs": [],
   "source": [
    "Ratings = [soup.find(\"td\", class_ = \"rankings-block__banner--rating u-text-right\").text.replace('\\n','').strip()]\n",
    "for r in soup.find_all(\"td\", class_= \"table-body__cell u-text-right rating\")[:9]:\n",
    "    Ratings.append(r.text)"
   ]
  },
  {
   "cell_type": "code",
   "execution_count": 10,
   "id": "89414203",
   "metadata": {},
   "outputs": [
    {
     "name": "stdout",
     "output_type": "stream",
     "text": [
      "Ratings : ['164', '118', '117', '111', '93', '85', '73', '61', '47', '13']\n"
     ]
    }
   ],
   "source": [
    "print(\"Ratings :\",Ratings)"
   ]
  },
  {
   "cell_type": "raw",
   "id": "a9de8af7",
   "metadata": {},
   "source": [
    "ii) Top 10 women’s ODI players along with the records of their team and rating."
   ]
  },
  {
   "cell_type": "code",
   "execution_count": 11,
   "id": "caaca1d0",
   "metadata": {},
   "outputs": [
    {
     "data": {
      "text/plain": [
       "<Response [200]>"
      ]
     },
     "execution_count": 11,
     "metadata": {},
     "output_type": "execute_result"
    }
   ],
   "source": [
    "page1 = requests.get(\"https://www.icc-cricket.com/rankings/womens/player-rankings/odi/batting\")\n",
    "page1"
   ]
  },
  {
   "cell_type": "code",
   "execution_count": 12,
   "id": "cfec1896",
   "metadata": {},
   "outputs": [],
   "source": [
    "soup2 = BeautifulSoup(page1.content)"
   ]
  },
  {
   "cell_type": "code",
   "execution_count": 13,
   "id": "c4542f0c",
   "metadata": {},
   "outputs": [],
   "source": [
    "Player_name = [soup2.find('div', class_='rankings-block__banner--name-large').text]\n",
    "for n in soup2.find_all(\"td\", class_= \"table-body__cell rankings-table__name name\")[:9]:\n",
    "    Player_name.append(n.text.replace('\\n',''))"
   ]
  },
  {
   "cell_type": "code",
   "execution_count": 14,
   "id": "0bad5b49",
   "metadata": {},
   "outputs": [
    {
     "data": {
      "text/plain": [
       "['Tammy Beaumont',\n",
       " 'Lizelle Lee',\n",
       " 'Alyssa Healy',\n",
       " 'Stafanie Taylor',\n",
       " 'Meg Lanning',\n",
       " 'Amy Satterthwaite',\n",
       " 'Smriti Mandhana',\n",
       " 'Mithali Raj',\n",
       " 'Natalie Sciver',\n",
       " 'Laura Wolvaardt']"
      ]
     },
     "execution_count": 14,
     "metadata": {},
     "output_type": "execute_result"
    }
   ],
   "source": [
    "Player_name"
   ]
  },
  {
   "cell_type": "code",
   "execution_count": 15,
   "id": "46cba838",
   "metadata": {},
   "outputs": [],
   "source": [
    "player_team = [soup2.find('div', class_='rankings-block__banner--nationality').text.replace('\\n','').strip()]\n",
    "for p in soup2.find_all(\"td\", class_=\"table-body__cell nationality-logo rankings-table__team\")[:9]:\n",
    "    player_team.append(p.text.strip())"
   ]
  },
  {
   "cell_type": "code",
   "execution_count": 16,
   "id": "cf5566cc",
   "metadata": {},
   "outputs": [
    {
     "data": {
      "text/plain": [
       "['ENG', 'SA', 'AUS', 'WI', 'AUS', 'NZ', 'IND', 'IND', 'ENG', 'SA']"
      ]
     },
     "execution_count": 16,
     "metadata": {},
     "output_type": "execute_result"
    }
   ],
   "source": [
    "player_team"
   ]
  },
  {
   "cell_type": "code",
   "execution_count": 17,
   "id": "5ee402ae",
   "metadata": {},
   "outputs": [],
   "source": [
    "player_rating = [soup2.find('div', class_='rankings-block__banner--rating').text.replace('\\n','').strip()]\n",
    "for r in soup2.find_all(\"td\", class_=\"table-body__cell rating\")[:9]:\n",
    "    player_rating.append(r.text)"
   ]
  },
  {
   "cell_type": "code",
   "execution_count": 18,
   "id": "6c464dee",
   "metadata": {},
   "outputs": [
    {
     "data": {
      "text/plain": [
       "['765', '758', '756', '746', '723', '715', '710', '709', '685', '683']"
      ]
     },
     "execution_count": 18,
     "metadata": {},
     "output_type": "execute_result"
    }
   ],
   "source": [
    "player_rating"
   ]
  },
  {
   "cell_type": "raw",
   "id": "f36da0e5",
   "metadata": {},
   "source": [
    "iii) Top 10 women’s ODI all-rounder along with the records of their team and rating."
   ]
  },
  {
   "cell_type": "code",
   "execution_count": 19,
   "id": "e9997ea5",
   "metadata": {},
   "outputs": [
    {
     "data": {
      "text/plain": [
       "<Response [200]>"
      ]
     },
     "execution_count": 19,
     "metadata": {},
     "output_type": "execute_result"
    }
   ],
   "source": [
    "page3 = requests.get(\"https://www.icc-cricket.com/rankings/womens/player-rankings/odi/all-rounder\")\n",
    "page3"
   ]
  },
  {
   "cell_type": "code",
   "execution_count": 20,
   "id": "26685da3",
   "metadata": {},
   "outputs": [],
   "source": [
    "soup3 = BeautifulSoup(page3.content)"
   ]
  },
  {
   "cell_type": "code",
   "execution_count": 21,
   "id": "3f3e5f82",
   "metadata": {},
   "outputs": [],
   "source": [
    "Player_name1 = [soup3.find('div', class_='rankings-block__banner--name-large').text]\n",
    "for l in soup3.find_all(\"td\", class_= \"table-body__cell rankings-table__name name\")[:9]:\n",
    "    Player_name1.append(l.text.replace('\\n',''))"
   ]
  },
  {
   "cell_type": "code",
   "execution_count": 22,
   "id": "2e26cf72",
   "metadata": {},
   "outputs": [
    {
     "data": {
      "text/plain": [
       "['Marizanne Kapp',\n",
       " 'Ellyse Perry',\n",
       " 'Stafanie Taylor',\n",
       " 'Natalie Sciver',\n",
       " 'Deepti Sharma',\n",
       " 'Jess Jonassen',\n",
       " 'Ashleigh Gardner',\n",
       " 'Dane van Niekerk',\n",
       " 'Sophie Devine',\n",
       " 'Amelia Kerr']"
      ]
     },
     "execution_count": 22,
     "metadata": {},
     "output_type": "execute_result"
    }
   ],
   "source": [
    "Player_name1"
   ]
  },
  {
   "cell_type": "code",
   "execution_count": 23,
   "id": "d23d3b52",
   "metadata": {},
   "outputs": [],
   "source": [
    "player_team1 = [soup3.find('div', class_='rankings-block__banner--nationality').text.replace('\\n','').strip()]\n",
    "for k in soup3.find_all(\"td\", class_=\"table-body__cell nationality-logo rankings-table__team\")[:9]:\n",
    "    player_team1.append(k.text.strip())"
   ]
  },
  {
   "cell_type": "code",
   "execution_count": 24,
   "id": "7bc24226",
   "metadata": {},
   "outputs": [
    {
     "data": {
      "text/plain": [
       "['SA', 'AUS', 'WI', 'ENG', 'IND', 'AUS', 'AUS', 'SA', 'NZ', 'NZ']"
      ]
     },
     "execution_count": 24,
     "metadata": {},
     "output_type": "execute_result"
    }
   ],
   "source": [
    "player_team1"
   ]
  },
  {
   "cell_type": "code",
   "execution_count": 25,
   "id": "bb5f9420",
   "metadata": {},
   "outputs": [],
   "source": [
    "player_rating1 = [soup3.find('div', class_='rankings-block__banner--rating').text.replace('\\n','').strip()]\n",
    "for r in soup3.find_all(\"td\", class_=\"table-body__cell rating\")[:9]:\n",
    "    player_rating1.append(r.text)"
   ]
  },
  {
   "cell_type": "code",
   "execution_count": 26,
   "id": "330e10f9",
   "metadata": {},
   "outputs": [
    {
     "data": {
      "text/plain": [
       "['418', '418', '410', '349', '343', '307', '252', '243', '242', '236']"
      ]
     },
     "execution_count": 26,
     "metadata": {},
     "output_type": "execute_result"
    }
   ],
   "source": [
    "player_rating1"
   ]
  },
  {
   "cell_type": "raw",
   "id": "95dd2bc4",
   "metadata": {},
   "source": [
    "7. Write a python program to scrape details of all the mobile phones under Rs. 20,000 listed on Amazon.in. The \n",
    "scraped data should include Product Name, Price, Image URL and Average Rating."
   ]
  },
  {
   "cell_type": "code",
   "execution_count": 27,
   "id": "5f0d3c31",
   "metadata": {},
   "outputs": [
    {
     "data": {
      "text/plain": [
       "<Response [503]>"
      ]
     },
     "execution_count": 27,
     "metadata": {},
     "output_type": "execute_result"
    }
   ],
   "source": [
    "amazon = requests.get(\"https://www.amazon.in/s?k=mobile+under+20000&crid=37FDBL0WWOABB&sprefix=mob%2Caps%2C393&ref=nb_sb_noss_2\")\n",
    "amazon"
   ]
  },
  {
   "cell_type": "raw",
   "id": "c919f903",
   "metadata": {},
   "source": [
    "8. Write a python program to extract information about the local weather from the National Weather Service \n",
    "website of USA, https://www.weather.gov/ for the city, San Francisco. You need to extract data about 7 day \n",
    "extended forecast display for the city. The data should include period, short description, temperature and \n",
    "description."
   ]
  },
  {
   "cell_type": "code",
   "execution_count": 28,
   "id": "18062bf6",
   "metadata": {},
   "outputs": [
    {
     "data": {
      "text/plain": [
       "<Response [200]>"
      ]
     },
     "execution_count": 28,
     "metadata": {},
     "output_type": "execute_result"
    }
   ],
   "source": [
    "weather = requests.get(\"https://forecast.weather.gov/MapClick.php?lat=37.7666&lon=-122.4511#.YMsnt2gzbIU\")\n",
    "weather"
   ]
  },
  {
   "cell_type": "code",
   "execution_count": 29,
   "id": "f76a2399",
   "metadata": {},
   "outputs": [],
   "source": [
    "soup = BeautifulSoup(weather.content)"
   ]
  },
  {
   "cell_type": "code",
   "execution_count": 30,
   "id": "73ee0997",
   "metadata": {},
   "outputs": [
    {
     "name": "stdout",
     "output_type": "stream",
     "text": [
      "Today\n",
      "Tonight\n",
      "Thursday\n",
      "ThursdayNight\n",
      "Friday\n",
      "FridayNight\n",
      "Saturday\n",
      "SaturdayNight\n",
      "Sunday\n"
     ]
    }
   ],
   "source": [
    "period = soup.find_all('p', class_='period-name')\n",
    "for i in period:\n",
    "    print(i.text.replace('\\n',''))\n"
   ]
  },
  {
   "cell_type": "code",
   "execution_count": 31,
   "id": "82ad86d8",
   "metadata": {},
   "outputs": [
    {
     "name": "stdout",
     "output_type": "stream",
     "text": [
      "DecreasingClouds\n",
      "IncreasingClouds\n",
      "DecreasingClouds\n",
      "IncreasingClouds\n",
      "Partly Sunnythen MostlySunny andBreezy\n",
      "Mostly Cloudyand Breezythen MostlyCloudy\n",
      "Mostly Sunny\n",
      "Partly Cloudy\n",
      "Mostly Sunny\n"
     ]
    }
   ],
   "source": [
    "short_description = soup.find_all('p', class_='short-desc')\n",
    "for s in short_description:\n",
    "    print(s.text.replace('\\n',''))"
   ]
  },
  {
   "cell_type": "code",
   "execution_count": 32,
   "id": "7ddfe393",
   "metadata": {},
   "outputs": [],
   "source": [
    "Temperature = []\n",
    "for i in soup.find_all('p',class_='short-desc'):\n",
    "    if i.next_sibling is not None:\n",
    "        Temperature.append(i.next_sibling.text)\n",
    "    else:\n",
    "        Temperature.append(' ')"
   ]
  },
  {
   "cell_type": "code",
   "execution_count": 33,
   "id": "54f5b3d7",
   "metadata": {},
   "outputs": [
    {
     "data": {
      "text/plain": [
       "['High: 68 °F',\n",
       " 'Low: 55 °F',\n",
       " 'High: 66 °F',\n",
       " 'Low: 55 °F',\n",
       " 'High: 66 °F',\n",
       " 'Low: 56 °F',\n",
       " 'High: 70 °F',\n",
       " 'Low: 56 °F',\n",
       " 'High: 70 °F']"
      ]
     },
     "execution_count": 33,
     "metadata": {},
     "output_type": "execute_result"
    }
   ],
   "source": [
    "Temperature"
   ]
  },
  {
   "cell_type": "code",
   "execution_count": 34,
   "id": "135000a8",
   "metadata": {},
   "outputs": [
    {
     "name": "stdout",
     "output_type": "stream",
     "text": [
      "Mostly cloudy, then gradually becoming sunny, with a high near 68. West southwest wind 5 to 10 mph increasing to 13 to 18 mph in the afternoon. Winds could gust as high as 23 mph. \n",
      "Increasing clouds, with a low around 55. West wind 13 to 16 mph, with gusts as high as 21 mph. \n",
      "Mostly cloudy, then gradually becoming sunny, with a high near 66. West wind 13 to 20 mph, with gusts as high as 25 mph. \n",
      "Increasing clouds, with a low around 55. West wind 16 to 21 mph, with gusts as high as 26 mph. \n",
      "Mostly sunny, with a high near 66. Breezy, with a west southwest wind 14 to 22 mph, with gusts as high as 28 mph. \n",
      "Mostly cloudy, with a low around 56. Breezy. \n",
      "Mostly sunny, with a high near 70.\n",
      "Partly cloudy, with a low around 56.\n",
      "Mostly sunny, with a high near 70.\n",
      "Mostly cloudy, with a low around 56.\n",
      "Mostly sunny, with a high near 70.\n",
      "Partly cloudy, with a low around 57.\n",
      "Mostly sunny, with a high near 71.\n"
     ]
    }
   ],
   "source": [
    "Desc = soup.find_all('div', class_= 'col-sm-10 forecast-text')\n",
    "for d in Desc:\n",
    "    print(d.text)"
   ]
  },
  {
   "cell_type": "raw",
   "id": "5712c0d0",
   "metadata": {},
   "source": [
    "9. Write a python program to scrape fresher job listings from ‘https://internshala.com/’. It should include job title, \n",
    "company name, CTC, and apply date."
   ]
  },
  {
   "cell_type": "code",
   "execution_count": 35,
   "id": "26c25d9a",
   "metadata": {},
   "outputs": [
    {
     "data": {
      "text/plain": [
       "<Response [200]>"
      ]
     },
     "execution_count": 35,
     "metadata": {},
     "output_type": "execute_result"
    }
   ],
   "source": [
    "jobs = requests.get('https://internshala.com/fresher-jobs')\n",
    "jobs"
   ]
  },
  {
   "cell_type": "code",
   "execution_count": 36,
   "id": "c48612c9",
   "metadata": {},
   "outputs": [],
   "source": [
    "soup = BeautifulSoup(jobs.content)"
   ]
  },
  {
   "cell_type": "code",
   "execution_count": 37,
   "id": "24480274",
   "metadata": {},
   "outputs": [
    {
     "data": {
      "text/plain": [
       "'Level 1 Technical Support Engineer '"
      ]
     },
     "execution_count": 37,
     "metadata": {},
     "output_type": "execute_result"
    }
   ],
   "source": [
    "job_title = soup.find_all('div', class_='heading_4_5 profile')\n",
    "job_title[0].text.replace('\\n','')"
   ]
  },
  {
   "cell_type": "code",
   "execution_count": 38,
   "id": "d7f433c7",
   "metadata": {
    "scrolled": false
   },
   "outputs": [],
   "source": [
    "JD = []\n",
    "for j in job_title:\n",
    "    JD.append(j.text.replace('\\n',''))"
   ]
  },
  {
   "cell_type": "code",
   "execution_count": 39,
   "id": "e035ebdc",
   "metadata": {},
   "outputs": [
    {
     "data": {
      "text/plain": [
       "['Level 1 Technical Support Engineer ',\n",
       " 'Associate Software Developer ',\n",
       " 'Accounting Assistant ',\n",
       " 'Software Engineer ',\n",
       " 'Business Development Manager ',\n",
       " 'Business Development Executive ',\n",
       " 'Product Developer - Mathematics ',\n",
       " 'Sales Development Representative ',\n",
       " 'Full Stack Engineer ',\n",
       " 'Junior ReactJS Developer ',\n",
       " 'Marketing Manager ',\n",
       " 'Product Marketing Associate ',\n",
       " 'Administration Associate ',\n",
       " 'Recruiter ',\n",
       " 'Associate Software Developer ',\n",
       " 'Project Coordinator ',\n",
       " 'Web Developer ',\n",
       " 'Software Engineer Trainee ',\n",
       " 'Business Development Specialist (Sales & Marketing) ',\n",
       " 'Business Development Executive ',\n",
       " 'Associate Front End Developer ',\n",
       " 'Corporate Sales Executive ',\n",
       " 'Associate Software Developer (Full-Stack - React And Node) ',\n",
       " 'Customer Relationship Specialist ',\n",
       " 'Associate Editor Engagement ',\n",
       " 'Management Consultant Associate ',\n",
       " 'Web Analytics Developer ',\n",
       " 'Junior Social Media Marketing Manager ',\n",
       " 'Junior Social Media Marketing Associate ',\n",
       " 'Business Development Manager (Digital Marketing Sales) ',\n",
       " 'Business Development Executive ',\n",
       " 'Accountant ',\n",
       " 'Research Associate ',\n",
       " 'Assistant Coordinator - Tender Department ',\n",
       " 'Customer Relationship Manager (Publishing Consultant) ',\n",
       " 'Executive Assistant To Director ',\n",
       " 'Learning Consultant - Sales ',\n",
       " 'School/Teacher Consultant ',\n",
       " 'Software Developer ',\n",
       " 'Business Development Executive (Inside Sales) ']"
      ]
     },
     "execution_count": 39,
     "metadata": {},
     "output_type": "execute_result"
    }
   ],
   "source": [
    "JD"
   ]
  },
  {
   "cell_type": "code",
   "execution_count": 40,
   "id": "c53feaa4",
   "metadata": {},
   "outputs": [
    {
     "data": {
      "text/plain": [
       "40"
      ]
     },
     "execution_count": 40,
     "metadata": {},
     "output_type": "execute_result"
    }
   ],
   "source": [
    "len(job_title)"
   ]
  },
  {
   "cell_type": "code",
   "execution_count": 41,
   "id": "66fbda77",
   "metadata": {},
   "outputs": [],
   "source": [
    "company_name = soup.find_all('div', class_='heading_6 company_name')\n",
    "companyname = []\n",
    "for h in company_name:\n",
    "    companyname.append(h.text.replace('\\n','').strip())"
   ]
  },
  {
   "cell_type": "code",
   "execution_count": 42,
   "id": "a5ea5427",
   "metadata": {},
   "outputs": [
    {
     "data": {
      "text/plain": [
       "['Mithi Software Technologies Private Limited',\n",
       " 'White Blink',\n",
       " 'Wono Inc',\n",
       " 'Wono Inc',\n",
       " 'Wono Inc',\n",
       " 'Emertxe Information Technologies',\n",
       " 'Open Door Education',\n",
       " 'Content Beta',\n",
       " 'Softway Solutions Private Limited',\n",
       " 'DeepThought Edutech Ventures Private Limited',\n",
       " 'Saltoro Coffee Roasters',\n",
       " 'WebMOBI',\n",
       " 'Global Sun',\n",
       " 'Radish Consultants Private Limited',\n",
       " 'Medico Healthcare Services & Technologies',\n",
       " 'Edupixels',\n",
       " 'Manufac Analytics Private Limited',\n",
       " 'Swabhav Techlabs',\n",
       " 'Claraeon Learning Private Limited',\n",
       " 'Picostone',\n",
       " 'AIMonk Labs Technology Limited',\n",
       " '369 Zoss Waters',\n",
       " 'SleekSky LLC',\n",
       " 'InPhase Power Technologies',\n",
       " 'Cactus Communications Private Limited',\n",
       " 'StrategyCo.Global',\n",
       " 'DataVinci Private Limited',\n",
       " 'The Test Tribe',\n",
       " 'Glu Studios',\n",
       " 'Graygraph Technologies LLC',\n",
       " 'BookLeaf Publishing',\n",
       " 'Ravi Ladia & Co',\n",
       " 'Market Vistas Consumer Insights',\n",
       " 'Global Source Trading LLC',\n",
       " 'Blue Rose Publishers',\n",
       " 'Best Roadways Limited',\n",
       " 'Geekster',\n",
       " 'InfyBytes AI Labs Private Limited',\n",
       " 'Moxie.xyz',\n",
       " 'GREedge']"
      ]
     },
     "execution_count": 42,
     "metadata": {},
     "output_type": "execute_result"
    }
   ],
   "source": [
    "companyname"
   ]
  },
  {
   "cell_type": "code",
   "execution_count": 43,
   "id": "1d37c744",
   "metadata": {},
   "outputs": [
    {
     "data": {
      "text/plain": [
       "40"
      ]
     },
     "execution_count": 43,
     "metadata": {},
     "output_type": "execute_result"
    }
   ],
   "source": [
    "len(companyname)"
   ]
  },
  {
   "cell_type": "code",
   "execution_count": 44,
   "id": "a9e61345",
   "metadata": {},
   "outputs": [],
   "source": [
    "CTC = []\n",
    "for i in soup.find_all('i',class_='ic-16-currency-inr'):\n",
    "    if i.next_sibling is not None:\n",
    "        CTC.append(i.next_sibling.strip())\n",
    "    else:\n",
    "        CTC.append(' ')"
   ]
  },
  {
   "cell_type": "code",
   "execution_count": 45,
   "id": "921d91b2",
   "metadata": {},
   "outputs": [
    {
     "data": {
      "text/plain": [
       "['3 LPA',\n",
       " '3 - 3.6 LPA',\n",
       " '5.4 - 6.1 LPA',\n",
       " '5.5 - 6.3 LPA',\n",
       " '5.2 - 5.8 LPA',\n",
       " '3 LPA',\n",
       " '7 - 8 LPA',\n",
       " '3 - 4 LPA',\n",
       " '5.5 - 9 LPA',\n",
       " '3 - 5 LPA',\n",
       " '3.2 - 3.5 LPA',\n",
       " '3 LPA',\n",
       " '3 - 3.2 LPA',\n",
       " '3 - 5 LPA',\n",
       " '3 - 3.2 LPA',\n",
       " '3 LPA',\n",
       " '3 - 4 LPA',\n",
       " '3 - 3.5 LPA',\n",
       " '3 LPA',\n",
       " '3 - 6.5 LPA',\n",
       " '6 - 7 LPA',\n",
       " '3 - 5 LPA',\n",
       " '4 LPA',\n",
       " '3 - 3.5 LPA',\n",
       " '3 - 4 LPA',\n",
       " '4.5 - 7 LPA',\n",
       " '4.99 - 5 LPA',\n",
       " '3 - 4 LPA',\n",
       " '3 - 3.6 LPA',\n",
       " '3 - 4.5 LPA',\n",
       " '3 - 3.6 LPA',\n",
       " '3 LPA',\n",
       " '3 - 3.25 LPA',\n",
       " '3 LPA',\n",
       " '3 - 3.5 LPA',\n",
       " '3 LPA',\n",
       " '3 - 3.5 LPA',\n",
       " '3 - 4 LPA',\n",
       " '9 LPA',\n",
       " '3.75 LPA']"
      ]
     },
     "execution_count": 45,
     "metadata": {},
     "output_type": "execute_result"
    }
   ],
   "source": [
    "CTC"
   ]
  },
  {
   "cell_type": "code",
   "execution_count": 46,
   "id": "d932abfa",
   "metadata": {},
   "outputs": [
    {
     "data": {
      "text/plain": [
       "40"
      ]
     },
     "execution_count": 46,
     "metadata": {},
     "output_type": "execute_result"
    }
   ],
   "source": [
    "len(CTC)"
   ]
  },
  {
   "cell_type": "code",
   "execution_count": 47,
   "id": "6d76f61c",
   "metadata": {},
   "outputs": [],
   "source": [
    "apply_date = []\n",
    "for a in soup.find_all('div', class_='item_body', id = False):\n",
    "    apply_date.append(a.text.replace('\\n','')) if 'LPA' in a else apply_date.append(a.text.replace('\\n','').strip())\n",
    "    "
   ]
  },
  {
   "cell_type": "code",
   "execution_count": 48,
   "id": "d7863b16",
   "metadata": {},
   "outputs": [],
   "source": [
    "final_date = apply_date[1::2]"
   ]
  },
  {
   "cell_type": "code",
   "execution_count": 49,
   "id": "cfd76015",
   "metadata": {},
   "outputs": [
    {
     "data": {
      "text/plain": [
       "[\"23 Jul' 21\",\n",
       " \"23 Jul' 21\",\n",
       " \"23 Jul' 21\",\n",
       " \"23 Jul' 21\",\n",
       " \"23 Jul' 21\",\n",
       " \"23 Jul' 21\",\n",
       " \"22 Jul' 21\",\n",
       " \"22 Jul' 21\",\n",
       " \"22 Jul' 21\",\n",
       " \"22 Jul' 21\",\n",
       " \"22 Jul' 21\",\n",
       " \"22 Jul' 21\",\n",
       " \"21 Jul' 21\",\n",
       " \"21 Jul' 21\",\n",
       " \"21 Jul' 21\",\n",
       " \"21 Jul' 21\",\n",
       " \"19 Jul' 21\",\n",
       " \"19 Jul' 21\",\n",
       " \"23 Jul' 21\",\n",
       " \"19 Jul' 21\",\n",
       " \"18 Jul' 21\",\n",
       " \"18 Jul' 21\",\n",
       " \"18 Jul' 21\",\n",
       " \"18 Jul' 21\",\n",
       " \"18 Jul' 21\",\n",
       " \"18 Jul' 21\",\n",
       " \"17 Jul' 21\",\n",
       " \"17 Jul' 21\",\n",
       " \"17 Jul' 21\",\n",
       " \"17 Jul' 21\",\n",
       " \"17 Jul' 21\",\n",
       " \"16 Jul' 21\",\n",
       " \"17 Jul' 21\",\n",
       " \"16 Jul' 21\",\n",
       " \"16 Jul' 21\",\n",
       " \"17 Jul' 21\",\n",
       " \"16 Jul' 21\",\n",
       " \"16 Jul' 21\",\n",
       " \"15 Jul' 21\",\n",
       " \"15 Jul' 21\"]"
      ]
     },
     "execution_count": 49,
     "metadata": {},
     "output_type": "execute_result"
    }
   ],
   "source": [
    "final_date"
   ]
  },
  {
   "cell_type": "code",
   "execution_count": 50,
   "id": "ba02698a",
   "metadata": {},
   "outputs": [
    {
     "data": {
      "text/plain": [
       "40"
      ]
     },
     "execution_count": 50,
     "metadata": {},
     "output_type": "execute_result"
    }
   ],
   "source": [
    "len(final_date)"
   ]
  }
 ],
 "metadata": {
  "kernelspec": {
   "display_name": "Python 3",
   "language": "python",
   "name": "python3"
  },
  "language_info": {
   "codemirror_mode": {
    "name": "ipython",
    "version": 3
   },
   "file_extension": ".py",
   "mimetype": "text/x-python",
   "name": "python",
   "nbconvert_exporter": "python",
   "pygments_lexer": "ipython3",
   "version": "3.8.8"
  }
 },
 "nbformat": 4,
 "nbformat_minor": 5
}
